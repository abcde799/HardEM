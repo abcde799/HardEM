{
 "cells": [
  {
   "cell_type": "code",
   "execution_count": 5,
   "metadata": {},
   "outputs": [],
   "source": [
    "import pandas as pd\n",
    "import numpy as np\n",
    "from make_df import create_df, make_inputs\n",
    "from hardEM_0 import HEM_fit, HEM_predictions \n",
    "from naive import naive_fit\n",
    "\n",
    "\n"
   ]
  },
  {
   "cell_type": "code",
   "execution_count": 6,
   "metadata": {},
   "outputs": [],
   "source": [
    "#covariates = ['x1', 'x2', 'x3', 'x4', 'x5', 'x6', 'x7', 'x8', 'x9', 'x10']\n",
    "\n",
    "covariates = ['x1', 'x2', 'x3']\n",
    "\n",
    "#dist = [[3.7, 0.7], [5.1, 2.1], [4.75, 0.9], [10.5, 2.1], [8.75, 3.9], [5.7, 0.9], [3.75, 0.5], [9.75, 3.11], [2.11, 0.9], [7.7, 2.9]]\n",
    "\n",
    "dist = [[5, 2], [7, 3.5], [12.5, 1.8]]\n",
    "\n",
    "cols = ['censoring_indicator', 'cure_label']"
   ]
  },
  {
   "cell_type": "code",
   "execution_count": 7,
   "metadata": {},
   "outputs": [],
   "source": [
    "test_model_weights = [7, -5.5, -1.5, 2]"
   ]
  },
  {
   "cell_type": "code",
   "execution_count": 8,
   "metadata": {},
   "outputs": [],
   "source": [
    "foo = create_df(covariates, dist, 1000, test_model_weights, 0.05)"
   ]
  },
  {
   "cell_type": "code",
   "execution_count": 12,
   "metadata": {},
   "outputs": [],
   "source": [
    "censored_inputs = make_inputs(foo, 0, cols)\n",
    "\n",
    "noncensored_inputs = make_inputs(foo, 1, cols)"
   ]
  },
  {
   "cell_type": "code",
   "execution_count": 13,
   "metadata": {},
   "outputs": [
    {
     "data": {
      "text/plain": [
       "330"
      ]
     },
     "execution_count": 13,
     "metadata": {},
     "output_type": "execute_result"
    }
   ],
   "source": [
    "len(censored_inputs)"
   ]
  },
  {
   "cell_type": "code",
   "execution_count": 85,
   "metadata": {},
   "outputs": [
    {
     "name": "stderr",
     "output_type": "stream",
     "text": [
      "C:\\Users\\macguyver011\\Anaconda3\\lib\\site-packages\\autograd\\tracer.py:48: RuntimeWarning: divide by zero encountered in log\n",
      "  return f_raw(*args, **kwargs)\n",
      "C:\\Users\\macguyver011\\Anaconda3\\lib\\site-packages\\numpy\\core\\fromnumeric.py:90: RuntimeWarning: invalid value encountered in reduce\n",
      "  return ufunc.reduce(obj, axis, dtype, out, **passkwargs)\n"
     ]
    }
   ],
   "source": [
    "fit = HEM_fit(censored_inputs, noncensored_inputs, 0.5, 1000, 'censoring_rate')"
   ]
  },
  {
   "cell_type": "code",
   "execution_count": 26,
   "metadata": {},
   "outputs": [],
   "source": [
    "weights = fit['model_weights']"
   ]
  },
  {
   "cell_type": "code",
   "execution_count": 27,
   "metadata": {},
   "outputs": [
    {
     "data": {
      "text/plain": [
       "array([-2.02953422, -0.12815939, -0.04131918,  0.06438582])"
      ]
     },
     "execution_count": 27,
     "metadata": {},
     "output_type": "execute_result"
    }
   ],
   "source": [
    "weights"
   ]
  },
  {
   "cell_type": "code",
   "execution_count": 28,
   "metadata": {},
   "outputs": [],
   "source": [
    "predictions = HEM_predictions(weights, foo, covariates)"
   ]
  },
  {
   "cell_type": "code",
   "execution_count": 29,
   "metadata": {},
   "outputs": [
    {
     "data": {
      "text/plain": [
       "0.696"
      ]
     },
     "execution_count": 29,
     "metadata": {},
     "output_type": "execute_result"
    }
   ],
   "source": [
    "from sklearn.metrics import accuracy_score\n",
    "y_pred = predictions['pred']\n",
    "y_true = foo['cure_label']\n",
    "accuracy_score(y_true, y_pred)\n",
    "\n",
    "accuracy_score(y_true, y_pred)"
   ]
  },
  {
   "cell_type": "code",
   "execution_count": 30,
   "metadata": {},
   "outputs": [
    {
     "data": {
      "text/plain": [
       "0.9966868950393224"
      ]
     },
     "execution_count": 30,
     "metadata": {},
     "output_type": "execute_result"
    }
   ],
   "source": [
    "from sklearn.metrics import roc_auc_score\n",
    "y_true = foo['cure_label']\n",
    "y_scores = predictions['prob']\n",
    "roc_auc_score(y_true, y_scores)"
   ]
  },
  {
   "cell_type": "code",
   "execution_count": 31,
   "metadata": {
    "scrolled": true
   },
   "outputs": [
    {
     "data": {
      "text/plain": [
       "696.0"
      ]
     },
     "execution_count": 31,
     "metadata": {},
     "output_type": "execute_result"
    }
   ],
   "source": [
    "foo.cure_label.sum()"
   ]
  },
  {
   "cell_type": "code",
   "execution_count": 22,
   "metadata": {},
   "outputs": [],
   "source": [
    "boo = foo[foo.censoring_indicator==0]"
   ]
  },
  {
   "cell_type": "code",
   "execution_count": 23,
   "metadata": {},
   "outputs": [
    {
     "data": {
      "text/plain": [
       "26.0"
      ]
     },
     "execution_count": 23,
     "metadata": {},
     "output_type": "execute_result"
    }
   ],
   "source": [
    "boo.cure_label.sum()"
   ]
  },
  {
   "cell_type": "code",
   "execution_count": 130,
   "metadata": {},
   "outputs": [
    {
     "data": {
      "text/plain": [
       "[[4.414026482730431,\n",
       "  9.214420739918012,\n",
       "  -6.111523874257646,\n",
       "  4.9424654801001076],\n",
       " [1.716154294654256,\n",
       "  9.09178244493468,\n",
       "  -11.992951700568534,\n",
       "  -9.071737647287891],\n",
       " [11.764003646256349,\n",
       "  -9.017060641408928,\n",
       "  -10.552024946424277,\n",
       "  -12.092847640964703],\n",
       " [-13.795679689075401,\n",
       "  15.290889338856566,\n",
       "  -2.2990802485032926,\n",
       "  -1.4165936069881901],\n",
       " [12.891734552816459,\n",
       "  -0.3501596065592061,\n",
       "  2.076113494208272,\n",
       "  -10.05952560144535],\n",
       " [11.812781824301748,\n",
       "  11.96465287356428,\n",
       "  -12.815919726852146,\n",
       "  -14.137853138911165],\n",
       " [3.086005602950493,\n",
       "  -10.040581864944595,\n",
       "  -12.427311205476162,\n",
       "  -8.254249893272869],\n",
       " [-8.31976674353172,\n",
       "  5.837362182442092,\n",
       "  14.543427476281387,\n",
       "  -12.693320958096972],\n",
       " [-5.088084435247557,\n",
       "  -8.13902235236439,\n",
       "  -8.105885370688098,\n",
       "  10.159982925843295],\n",
       " [-1.7657334919859853,\n",
       "  -13.134771462784958,\n",
       "  -3.7627382597176613,\n",
       "  -9.826776393324847]]"
      ]
     },
     "execution_count": 130,
     "metadata": {},
     "output_type": "execute_result"
    }
   ],
   "source": [
    "np.random.uniform(-15,15.5,(10,4)).tolist()"
   ]
  },
  {
   "cell_type": "code",
   "execution_count": 133,
   "metadata": {},
   "outputs": [
    {
     "name": "stderr",
     "output_type": "stream",
     "text": [
      "C:\\Users\\macguyver011\\Anaconda3\\lib\\site-packages\\autograd\\tracer.py:48: RuntimeWarning: divide by zero encountered in log\n",
      "  return f_raw(*args, **kwargs)\n",
      "C:\\Users\\macguyver011\\Anaconda3\\lib\\site-packages\\numpy\\core\\fromnumeric.py:90: RuntimeWarning: invalid value encountered in reduce\n",
      "  return ufunc.reduce(obj, axis, dtype, out, **passkwargs)\n",
      "C:\\Users\\macguyver011\\Anaconda3\\lib\\site-packages\\autograd\\tracer.py:48: RuntimeWarning: divide by zero encountered in log\n",
      "  return f_raw(*args, **kwargs)\n",
      "C:\\Users\\macguyver011\\Anaconda3\\lib\\site-packages\\numpy\\core\\fromnumeric.py:90: RuntimeWarning: invalid value encountered in reduce\n",
      "  return ufunc.reduce(obj, axis, dtype, out, **passkwargs)\n",
      "C:\\Users\\macguyver011\\Anaconda3\\lib\\site-packages\\autograd\\tracer.py:48: RuntimeWarning: divide by zero encountered in log\n",
      "  return f_raw(*args, **kwargs)\n",
      "C:\\Users\\macguyver011\\Anaconda3\\lib\\site-packages\\autograd\\tracer.py:48: RuntimeWarning: divide by zero encountered in log\n",
      "  return f_raw(*args, **kwargs)\n",
      "C:\\Users\\macguyver011\\Anaconda3\\lib\\site-packages\\numpy\\core\\fromnumeric.py:90: RuntimeWarning: invalid value encountered in reduce\n",
      "  return ufunc.reduce(obj, axis, dtype, out, **passkwargs)\n",
      "C:\\Users\\macguyver011\\Anaconda3\\lib\\site-packages\\autograd\\tracer.py:48: RuntimeWarning: divide by zero encountered in log\n",
      "  return f_raw(*args, **kwargs)\n",
      "C:\\Users\\macguyver011\\Anaconda3\\lib\\site-packages\\autograd\\tracer.py:48: RuntimeWarning: divide by zero encountered in log\n",
      "  return f_raw(*args, **kwargs)\n",
      "C:\\Users\\macguyver011\\Anaconda3\\lib\\site-packages\\autograd\\tracer.py:48: RuntimeWarning: divide by zero encountered in log\n",
      "  return f_raw(*args, **kwargs)\n",
      "C:\\Users\\macguyver011\\Anaconda3\\lib\\site-packages\\numpy\\core\\fromnumeric.py:90: RuntimeWarning: invalid value encountered in reduce\n",
      "  return ufunc.reduce(obj, axis, dtype, out, **passkwargs)\n",
      "C:\\Users\\macguyver011\\Anaconda3\\lib\\site-packages\\autograd\\tracer.py:48: RuntimeWarning: divide by zero encountered in log\n",
      "  return f_raw(*args, **kwargs)\n",
      "C:\\Users\\macguyver011\\Anaconda3\\lib\\site-packages\\numpy\\core\\fromnumeric.py:90: RuntimeWarning: invalid value encountered in reduce\n",
      "  return ufunc.reduce(obj, axis, dtype, out, **passkwargs)\n",
      "C:\\Users\\macguyver011\\Anaconda3\\lib\\site-packages\\autograd\\tracer.py:48: RuntimeWarning: divide by zero encountered in log\n",
      "  return f_raw(*args, **kwargs)\n",
      "C:\\Users\\macguyver011\\Anaconda3\\lib\\site-packages\\autograd\\tracer.py:48: RuntimeWarning: divide by zero encountered in log\n",
      "  return f_raw(*args, **kwargs)\n"
     ]
    }
   ],
   "source": [
    "r_weights = np.random.uniform(-15,15,(10,4))\n",
    "scores = []\n",
    "for test_model_weigts in r_weights.tolist():\n",
    "    \n",
    "    foo = create_df(covariates, dist, 500, test_model_weights, 0.05)\n",
    "    \n",
    "    censored_inputs = make_inputs(foo, 0, cols)\n",
    "\n",
    "    noncensored_inputs = make_inputs(foo, 1, cols)\n",
    "    \n",
    "        \n",
    "    fit = HEM_fit(censored_inputs, noncensored_inputs, 0.5, 1000, 'use_clustering')\n",
    "    \n",
    "    predictions = HEM_predictions(weights, foo, covariates)\n",
    "    \n",
    "    y_pred = predictions['pred']\n",
    "    y_true = foo['cure_label']\n",
    "    accuracy_score(y_true, y_pred)\n",
    "    \n",
    "    y_true = foo['cure_label']\n",
    "    y_scores = predictions['prob']\n",
    "    roc_auc_score(y_true, y_scores)\n",
    "    \n",
    "    n_not_cured = foo.cure_label.sum()\n",
    "\n",
    "    scores.append([accuracy_score(y_true, y_pred), roc_auc_score(y_true, y_scores), n_not_cured])\n",
    "    \n"
   ]
  },
  {
   "cell_type": "code",
   "execution_count": 134,
   "metadata": {},
   "outputs": [
    {
     "data": {
      "text/plain": [
       "[[0.712, 0.8043127392838375, 346.0],\n",
       " [0.71, 0.791512200520113, 341.0],\n",
       " [0.694, 0.8120281649245065, 336.0],\n",
       " [0.714, 0.8227208976157083, 345.0],\n",
       " [0.694, 0.8073942205678732, 333.0],\n",
       " [0.758, 0.8156512605042017, 364.0],\n",
       " [0.692, 0.8040161920418589, 327.0],\n",
       " [0.736, 0.8157966604244695, 356.0],\n",
       " [0.682, 0.8079622802041972, 328.0],\n",
       " [0.716, 0.7872058823529412, 340.0]]"
      ]
     },
     "execution_count": 134,
     "metadata": {},
     "output_type": "execute_result"
    }
   ],
   "source": [
    "scores"
   ]
  },
  {
   "cell_type": "code",
   "execution_count": 37,
   "metadata": {},
   "outputs": [],
   "source": [
    "import pandas as pd\n",
    "\n",
    "\n",
    "mel = pd.read_csv('melanoma.csv')"
   ]
  },
  {
   "cell_type": "code",
   "execution_count": 38,
   "metadata": {},
   "outputs": [
    {
     "data": {
      "text/html": [
       "<div>\n",
       "<style scoped>\n",
       "    .dataframe tbody tr th:only-of-type {\n",
       "        vertical-align: middle;\n",
       "    }\n",
       "\n",
       "    .dataframe tbody tr th {\n",
       "        vertical-align: top;\n",
       "    }\n",
       "\n",
       "    .dataframe thead th {\n",
       "        text-align: right;\n",
       "    }\n",
       "</style>\n",
       "<table border=\"1\" class=\"dataframe\">\n",
       "  <thead>\n",
       "    <tr style=\"text-align: right;\">\n",
       "      <th></th>\n",
       "      <th>Unnamed: 0</th>\n",
       "      <th>time</th>\n",
       "      <th>status</th>\n",
       "      <th>sex</th>\n",
       "      <th>age</th>\n",
       "      <th>year</th>\n",
       "      <th>thickness</th>\n",
       "      <th>ulcer</th>\n",
       "    </tr>\n",
       "  </thead>\n",
       "  <tbody>\n",
       "    <tr>\n",
       "      <th>0</th>\n",
       "      <td>1</td>\n",
       "      <td>10</td>\n",
       "      <td>3</td>\n",
       "      <td>1</td>\n",
       "      <td>76</td>\n",
       "      <td>1972</td>\n",
       "      <td>6.76</td>\n",
       "      <td>1</td>\n",
       "    </tr>\n",
       "    <tr>\n",
       "      <th>1</th>\n",
       "      <td>2</td>\n",
       "      <td>30</td>\n",
       "      <td>3</td>\n",
       "      <td>1</td>\n",
       "      <td>56</td>\n",
       "      <td>1968</td>\n",
       "      <td>0.65</td>\n",
       "      <td>0</td>\n",
       "    </tr>\n",
       "    <tr>\n",
       "      <th>2</th>\n",
       "      <td>3</td>\n",
       "      <td>35</td>\n",
       "      <td>2</td>\n",
       "      <td>1</td>\n",
       "      <td>41</td>\n",
       "      <td>1977</td>\n",
       "      <td>1.34</td>\n",
       "      <td>0</td>\n",
       "    </tr>\n",
       "    <tr>\n",
       "      <th>3</th>\n",
       "      <td>4</td>\n",
       "      <td>99</td>\n",
       "      <td>3</td>\n",
       "      <td>0</td>\n",
       "      <td>71</td>\n",
       "      <td>1968</td>\n",
       "      <td>2.90</td>\n",
       "      <td>0</td>\n",
       "    </tr>\n",
       "    <tr>\n",
       "      <th>4</th>\n",
       "      <td>5</td>\n",
       "      <td>185</td>\n",
       "      <td>1</td>\n",
       "      <td>1</td>\n",
       "      <td>52</td>\n",
       "      <td>1965</td>\n",
       "      <td>12.08</td>\n",
       "      <td>1</td>\n",
       "    </tr>\n",
       "  </tbody>\n",
       "</table>\n",
       "</div>"
      ],
      "text/plain": [
       "   Unnamed: 0  time  status  sex  age  year  thickness  ulcer\n",
       "0           1    10       3    1   76  1972       6.76      1\n",
       "1           2    30       3    1   56  1968       0.65      0\n",
       "2           3    35       2    1   41  1977       1.34      0\n",
       "3           4    99       3    0   71  1968       2.90      0\n",
       "4           5   185       1    1   52  1965      12.08      1"
      ]
     },
     "execution_count": 38,
     "metadata": {},
     "output_type": "execute_result"
    }
   ],
   "source": [
    "mel.head()"
   ]
  },
  {
   "cell_type": "code",
   "execution_count": 39,
   "metadata": {},
   "outputs": [],
   "source": [
    "status_df = mel.status"
   ]
  },
  {
   "cell_type": "code",
   "execution_count": 40,
   "metadata": {},
   "outputs": [],
   "source": [
    "status_df = status_df.replace(3, 0)"
   ]
  },
  {
   "cell_type": "code",
   "execution_count": 41,
   "metadata": {},
   "outputs": [],
   "source": [
    "status_df = status_df.replace(2, 0)"
   ]
  },
  {
   "cell_type": "code",
   "execution_count": 42,
   "metadata": {},
   "outputs": [],
   "source": [
    "mel['status'] = status_df"
   ]
  },
  {
   "cell_type": "code",
   "execution_count": 43,
   "metadata": {},
   "outputs": [
    {
     "data": {
      "text/html": [
       "<div>\n",
       "<style scoped>\n",
       "    .dataframe tbody tr th:only-of-type {\n",
       "        vertical-align: middle;\n",
       "    }\n",
       "\n",
       "    .dataframe tbody tr th {\n",
       "        vertical-align: top;\n",
       "    }\n",
       "\n",
       "    .dataframe thead th {\n",
       "        text-align: right;\n",
       "    }\n",
       "</style>\n",
       "<table border=\"1\" class=\"dataframe\">\n",
       "  <thead>\n",
       "    <tr style=\"text-align: right;\">\n",
       "      <th></th>\n",
       "      <th>Unnamed: 0</th>\n",
       "      <th>time</th>\n",
       "      <th>status</th>\n",
       "      <th>sex</th>\n",
       "      <th>age</th>\n",
       "      <th>year</th>\n",
       "      <th>thickness</th>\n",
       "      <th>ulcer</th>\n",
       "    </tr>\n",
       "  </thead>\n",
       "  <tbody>\n",
       "    <tr>\n",
       "      <th>0</th>\n",
       "      <td>1</td>\n",
       "      <td>10</td>\n",
       "      <td>0</td>\n",
       "      <td>1</td>\n",
       "      <td>76</td>\n",
       "      <td>1972</td>\n",
       "      <td>6.76</td>\n",
       "      <td>1</td>\n",
       "    </tr>\n",
       "    <tr>\n",
       "      <th>1</th>\n",
       "      <td>2</td>\n",
       "      <td>30</td>\n",
       "      <td>0</td>\n",
       "      <td>1</td>\n",
       "      <td>56</td>\n",
       "      <td>1968</td>\n",
       "      <td>0.65</td>\n",
       "      <td>0</td>\n",
       "    </tr>\n",
       "    <tr>\n",
       "      <th>2</th>\n",
       "      <td>3</td>\n",
       "      <td>35</td>\n",
       "      <td>0</td>\n",
       "      <td>1</td>\n",
       "      <td>41</td>\n",
       "      <td>1977</td>\n",
       "      <td>1.34</td>\n",
       "      <td>0</td>\n",
       "    </tr>\n",
       "    <tr>\n",
       "      <th>3</th>\n",
       "      <td>4</td>\n",
       "      <td>99</td>\n",
       "      <td>0</td>\n",
       "      <td>0</td>\n",
       "      <td>71</td>\n",
       "      <td>1968</td>\n",
       "      <td>2.90</td>\n",
       "      <td>0</td>\n",
       "    </tr>\n",
       "    <tr>\n",
       "      <th>4</th>\n",
       "      <td>5</td>\n",
       "      <td>185</td>\n",
       "      <td>1</td>\n",
       "      <td>1</td>\n",
       "      <td>52</td>\n",
       "      <td>1965</td>\n",
       "      <td>12.08</td>\n",
       "      <td>1</td>\n",
       "    </tr>\n",
       "  </tbody>\n",
       "</table>\n",
       "</div>"
      ],
      "text/plain": [
       "   Unnamed: 0  time  status  sex  age  year  thickness  ulcer\n",
       "0           1    10       0    1   76  1972       6.76      1\n",
       "1           2    30       0    1   56  1968       0.65      0\n",
       "2           3    35       0    1   41  1977       1.34      0\n",
       "3           4    99       0    0   71  1968       2.90      0\n",
       "4           5   185       1    1   52  1965      12.08      1"
      ]
     },
     "execution_count": 43,
     "metadata": {},
     "output_type": "execute_result"
    }
   ],
   "source": [
    "mel.head()"
   ]
  },
  {
   "cell_type": "code",
   "execution_count": 97,
   "metadata": {},
   "outputs": [],
   "source": [
    "predictors_and_status = ['status', 'time', 'sex', 'age', 'thickness', 'ulcer']\n",
    "\n",
    "predictors = ['time', 'sex', 'age', 'thickness', 'ulcer']\n",
    "\n"
   ]
  },
  {
   "cell_type": "code",
   "execution_count": 98,
   "metadata": {},
   "outputs": [],
   "source": [
    "mel_predictors = mel[predictors]"
   ]
  },
  {
   "cell_type": "code",
   "execution_count": 99,
   "metadata": {},
   "outputs": [],
   "source": [
    "mel_predictors_s = 1/mel_predictors.std()*(mel_predictors-mel_predictors.mean())"
   ]
  },
  {
   "cell_type": "code",
   "execution_count": 100,
   "metadata": {},
   "outputs": [],
   "source": [
    "foo_mel = mel_predictors_s"
   ]
  },
  {
   "cell_type": "code",
   "execution_count": 102,
   "metadata": {},
   "outputs": [],
   "source": [
    "foo_mel['status'] = mel['status']"
   ]
  },
  {
   "cell_type": "code",
   "execution_count": 103,
   "metadata": {},
   "outputs": [],
   "source": [
    "columns = ['status']"
   ]
  },
  {
   "cell_type": "code",
   "execution_count": 104,
   "metadata": {},
   "outputs": [],
   "source": [
    "censored_inputs_mel = make_inputs(foo_mel, 0, columns)\n",
    "\n",
    "noncensored_inputs_mel = make_inputs(foo_mel, 1, columns)"
   ]
  },
  {
   "cell_type": "code",
   "execution_count": 105,
   "metadata": {},
   "outputs": [
    {
     "data": {
      "text/plain": [
       "array([[ 1.00000000e+00, -1.90970066e+00,  1.25982401e+00,\n",
       "         1.41176781e+00,  1.29759545e+00,  1.12762792e+00],\n",
       "       [ 1.00000000e+00, -1.89187631e+00,  1.25982401e+00,\n",
       "         2.12130914e-01, -7.66989461e-01, -8.82491412e-01],\n",
       "       [ 1.00000000e+00, -1.88742023e+00,  1.25982401e+00,\n",
       "        -6.87596756e-01, -5.33836665e-01, -8.82491412e-01],\n",
       "       [ 1.00000000e+00, -1.83038231e+00, -7.89889655e-01,\n",
       "         1.11185858e+00, -6.70860291e-03, -8.82491412e-01],\n",
       "       [ 1.00000000e+00, -1.71185040e+00, -7.89889655e-01,\n",
       "         4.52058293e-01,  1.01420230e-01,  1.12762792e+00],\n",
       "       [ 1.00000000e+00, -1.60223066e+00, -7.89889655e-01,\n",
       "         6.91985672e-01, -9.32561737e-01,  1.12762792e+00],\n",
       "       [ 1.00000000e+00, -1.47924265e+00,  1.25982401e+00,\n",
       "         1.17184043e+00,  3.25743055e+00,  1.12762792e+00],\n",
       "       [ 1.00000000e+00, -1.18246726e+00, -7.89889655e-01,\n",
       "         2.01158625e+00,  1.89906208e+00,  1.12762792e+00],\n",
       "       [ 1.00000000e+00, -6.46845595e-01,  1.25982401e+00,\n",
       "         6.91985672e-01, -5.50731795e-01, -8.82491412e-01],\n",
       "       [ 1.00000000e+00, -5.82677942e-01,  1.25982401e+00,\n",
       "         1.23182227e+00, -5.50731795e-01, -8.82491412e-01],\n",
       "       [ 1.00000000e+00, -5.74656985e-01,  1.25982401e+00,\n",
       "         6.32003827e-01,  1.84499767e+00,  1.12762792e+00],\n",
       "       [ 1.00000000e+00, -5.72874550e-01, -7.89889655e-01,\n",
       "         9.91894895e-01, -3.31095102e-01, -8.82491412e-01],\n",
       "       [ 1.00000000e+00, -5.71092115e-01, -7.89889655e-01,\n",
       "         1.47174965e+00, -9.32561737e-01, -8.82491412e-01],\n",
       "       [ 1.00000000e+00, -5.59506289e-01, -7.89889655e-01,\n",
       "         1.41176781e+00, -5.50731795e-01,  1.12762792e+00],\n",
       "       [ 1.00000000e+00, -5.44355593e-01, -7.89889655e-01,\n",
       "         7.51967516e-01, -9.32561737e-01, -8.82491412e-01],\n",
       "       [ 1.00000000e+00, -5.30987332e-01, -7.89889655e-01,\n",
       "        -1.58732443e+00, -5.50731795e-01, -8.82491412e-01],\n",
       "       [ 1.00000000e+00, -5.25640027e-01, -7.89889655e-01,\n",
       "        -4.47669377e-01, -8.78497321e-01, -8.82491412e-01],\n",
       "       [ 1.00000000e+00, -4.88208896e-01, -7.89889655e-01,\n",
       "        -9.87505980e-01, -6.04796212e-01, -8.82491412e-01],\n",
       "       [ 1.00000000e+00, -4.68602113e-01, -7.89889655e-01,\n",
       "        -5.67633067e-01, -4.39223936e-01, -8.82491412e-01],\n",
       "       [ 1.00000000e+00, -4.62363591e-01, -7.89889655e-01,\n",
       "         9.31913050e-01, -5.23699587e-01, -8.82491412e-01],\n",
       "       [ 1.00000000e+00, -4.56125070e-01,  1.25982401e+00,\n",
       "         2.72112759e-01, -9.05529529e-01, -8.82491412e-01],\n",
       "       [ 1.00000000e+00, -4.56125070e-01, -7.89889655e-01,\n",
       "         2.72112759e-01, -7.12925045e-01, -8.82491412e-01],\n",
       "       [ 1.00000000e+00, -4.49886548e-01, -7.89889655e-01,\n",
       "         1.52149069e-01, -5.50731795e-01, -8.82491412e-01],\n",
       "       [ 1.00000000e+00, -4.46321678e-01, -7.89889655e-01,\n",
       "         3.32094604e-01, -5.50731795e-01, -8.82491412e-01],\n",
       "       [ 1.00000000e+00, -4.44539243e-01,  1.25982401e+00,\n",
       "        -1.94721549e+00, -6.58860628e-01, -8.82491412e-01],\n",
       "       [ 1.00000000e+00, -4.44539243e-01, -7.89889655e-01,\n",
       "         8.71931206e-01, -6.04796212e-01, -8.82491412e-01],\n",
       "       [ 1.00000000e+00, -4.23150026e-01, -7.89889655e-01,\n",
       "         3.92076448e-01, -5.50731795e-01, -8.82491412e-01],\n",
       "       [ 1.00000000e+00, -4.16911504e-01, -7.89889655e-01,\n",
       "        -1.22743336e+00, -8.24432904e-01, -8.82491412e-01],\n",
       "       [ 1.00000000e+00, -3.94631068e-01, -7.89889655e-01,\n",
       "         1.52149069e-01, -2.22966269e-01, -8.82491412e-01],\n",
       "       [ 1.00000000e+00, -3.94631068e-01,  1.25982401e+00,\n",
       "        -2.24712472e+00, -7.90642644e-01, -8.82491412e-01],\n",
       "       [ 1.00000000e+00, -3.63438459e-01, -7.89889655e-01,\n",
       "        -3.27705688e-01, -1.14837436e-01,  1.12762792e+00],\n",
       "       [ 1.00000000e+00, -3.48287763e-01, -7.89889655e-01,\n",
       "         9.21672248e-02, -7.12925045e-01, -8.82491412e-01],\n",
       "       [ 1.00000000e+00, -3.33137067e-01,  1.25982401e+00,\n",
       "         1.52149069e-01,  2.09549063e-01,  1.12762792e+00],\n",
       "       [ 1.00000000e+00, -3.26007328e-01,  1.25982401e+00,\n",
       "        -8.67542290e-01, -6.58860628e-01, -8.82491412e-01],\n",
       "       [ 1.00000000e+00, -3.26007328e-01, -7.89889655e-01,\n",
       "        -6.87596756e-01, -3.85159519e-01,  1.12762792e+00],\n",
       "       [ 1.00000000e+00, -3.20660024e-01, -7.89889655e-01,\n",
       "         2.12130914e-01, -3.31095102e-01, -8.82491412e-01],\n",
       "       [ 1.00000000e+00, -3.10856632e-01, -7.89889655e-01,\n",
       "        -2.67723843e-01, -5.50731795e-01, -8.82491412e-01],\n",
       "       [ 1.00000000e+00, -3.03726893e-01,  1.25982401e+00,\n",
       "        -5.07651222e-01,  1.01420230e-01,  1.12762792e+00],\n",
       "       [ 1.00000000e+00, -2.82337675e-01, -7.89889655e-01,\n",
       "         1.05187674e+00, -4.69635170e-01, -8.82491412e-01],\n",
       "       [ 1.00000000e+00, -2.79664023e-01, -7.89889655e-01,\n",
       "        -7.47578601e-01, -5.50731795e-01, -8.82491412e-01],\n",
       "       [ 1.00000000e+00, -2.79664023e-01,  1.25982401e+00,\n",
       "         3.21853801e-02, -4.39223936e-01,  1.12762792e+00],\n",
       "       [ 1.00000000e+00, -2.66295762e-01, -7.89889655e-01,\n",
       "         7.51967516e-01, -4.39223936e-01,  1.12762792e+00],\n",
       "       [ 1.00000000e+00, -2.64513327e-01,  1.25982401e+00,\n",
       "         9.21672248e-02, -8.78497321e-01, -8.82491412e-01],\n",
       "       [ 1.00000000e+00, -2.60948457e-01,  1.25982401e+00,\n",
       "         1.11185858e+00,  6.48822448e-01,  1.12762792e+00],\n",
       "       [ 1.00000000e+00, -2.57383588e-01, -7.89889655e-01,\n",
       "        -2.07741999e-01, -5.50731795e-01, -8.82491412e-01],\n",
       "       [ 1.00000000e+00, -2.26190978e-01, -7.89889655e-01,\n",
       "         1.52149069e-01, -6.58860628e-01, -8.82491412e-01],\n",
       "       [ 1.00000000e+00, -2.12822717e-01, -7.89889655e-01,\n",
       "         9.91894895e-01,  4.73558137e-02, -8.82491412e-01],\n",
       "       [ 1.00000000e+00, -2.08366630e-01,  1.25982401e+00,\n",
       "         1.83164072e+00,  2.09549063e-01, -8.82491412e-01],\n",
       "       [ 1.00000000e+00, -2.07475413e-01,  1.25982401e+00,\n",
       "         4.52058293e-01, -4.39223936e-01,  1.12762792e+00],\n",
       "       [ 1.00000000e+00, -2.01236891e-01,  1.25982401e+00,\n",
       "        -7.47578601e-01, -1.14837436e-01,  1.12762792e+00],\n",
       "       [ 1.00000000e+00, -1.87868630e-01, -7.89889655e-01,\n",
       "        -1.04748782e+00, -7.12925045e-01, -8.82491412e-01],\n",
       "       [ 1.00000000e+00, -1.76282803e-01, -7.89889655e-01,\n",
       "        -3.87687533e-01,  1.62536097e+00,  1.12762792e+00],\n",
       "       [ 1.00000000e+00, -1.75391586e-01, -7.89889655e-01,\n",
       "        -1.10746967e+00, -6.58860628e-01, -8.82491412e-01],\n",
       "       [ 1.00000000e+00, -1.73609151e-01, -7.89889655e-01,\n",
       "         9.91894895e-01,  3.36555938e+00, -8.82491412e-01],\n",
       "       [ 1.00000000e+00, -1.69153064e-01, -7.89889655e-01,\n",
       "         4.52058293e-01, -1.14837436e-01, -8.82491412e-01],\n",
       "       [ 1.00000000e+00, -1.62914542e-01,  1.25982401e+00,\n",
       "         1.89162257e+00,  3.95395496e-01,  1.12762792e+00],\n",
       "       [ 1.00000000e+00, -1.31721933e-01, -7.89889655e-01,\n",
       "         8.11949361e-01, -7.70368487e-01, -8.82491412e-01],\n",
       "       [ 1.00000000e+00, -1.29939498e-01,  1.25982401e+00,\n",
       "         2.12130914e-01, -6.58860628e-01, -8.82491412e-01],\n",
       "       [ 1.00000000e+00, -1.26374629e-01, -7.89889655e-01,\n",
       "         1.35178596e+00,  1.01420230e-01,  1.12762792e+00],\n",
       "       [ 1.00000000e+00, -1.14788802e-01, -7.89889655e-01,\n",
       "        -9.87505980e-01, -4.39223936e-01, -8.82491412e-01],\n",
       "       [ 1.00000000e+00, -1.11223933e-01,  1.25982401e+00,\n",
       "        -2.77964646e-02,  3.21056923e-01,  1.12762792e+00],\n",
       "       [ 1.00000000e+00, -1.02311758e-01, -7.89889655e-01,\n",
       "         3.32094604e-01, -8.78497321e-01,  1.12762792e+00],\n",
       "       [ 1.00000000e+00, -8.62698451e-02, -7.89889655e-01,\n",
       "        -8.07560446e-01, -8.78497321e-01, -8.82491412e-01],\n",
       "       [ 1.00000000e+00, -8.35961929e-02,  1.25982401e+00,\n",
       "         9.31913050e-01,  1.01420230e-01,  1.12762792e+00],\n",
       "       [ 1.00000000e+00, -6.93367144e-02,  1.25982401e+00,\n",
       "         1.52149069e-01, -1.14837436e-01,  1.12762792e+00],\n",
       "       [ 1.00000000e+00, -6.04245403e-02, -7.89889655e-01,\n",
       "         8.11949361e-01, -7.66989461e-01, -8.82491412e-01],\n",
       "       [ 1.00000000e+00, -4.52738443e-02,  1.25982401e+00,\n",
       "        -1.04748782e+00, -6.04796212e-01, -8.82491412e-01],\n",
       "       [ 1.00000000e+00, -4.34914095e-02, -7.89889655e-01,\n",
       "         1.17184043e+00, -6.58860628e-01, -8.82491412e-01],\n",
       "       [ 1.00000000e+00, -3.63616703e-02, -7.89889655e-01,\n",
       "         9.21672248e-02, -3.31095102e-01,  1.12762792e+00],\n",
       "       [ 1.00000000e+00, -2.49540874e-03, -7.89889655e-01,\n",
       "        -1.16745151e+00, -7.66989461e-01, -8.82491412e-01],\n",
       "       [ 1.00000000e+00,  2.85189571e-03, -7.89889655e-01,\n",
       "        -4.47669377e-01, -6.58860628e-01, -8.82491412e-01],\n",
       "       [ 1.00000000e+00,  1.08728524e-02,  1.25982401e+00,\n",
       "         5.72021982e-01,  9.19144531e-01, -8.82491412e-01],\n",
       "       [ 1.00000000e+00,  5.00864184e-02, -7.89889655e-01,\n",
       "         1.17184043e+00,  2.27751300e+00, -8.82491412e-01],\n",
       "       [ 1.00000000e+00,  6.61283317e-02, -7.89889655e-01,\n",
       "        -8.77783093e-02, -9.52835893e-01, -8.82491412e-01],\n",
       "       [ 1.00000000e+00,  6.61283317e-02,  1.25982401e+00,\n",
       "         1.47174965e+00,  8.65080115e-01,  1.12762792e+00],\n",
       "       [ 1.00000000e+00,  9.91033758e-02, -7.89889655e-01,\n",
       "         7.51967516e-01,  6.45443422e-01,  1.12762792e+00],\n",
       "       [ 1.00000000e+00,  1.65944681e-01, -7.89889655e-01,\n",
       "         6.32003827e-01, -6.58860628e-01, -8.82491412e-01],\n",
       "       [ 1.00000000e+00,  1.85551464e-01,  1.25982401e+00,\n",
       "         4.52058293e-01, -6.58860628e-01, -8.82491412e-01],\n",
       "       [ 1.00000000e+00,  2.08723117e-01, -7.89889655e-01,\n",
       "        -1.47760154e-01,  7.56951282e-01,  1.12762792e+00],\n",
       "       [ 1.00000000e+00,  2.22982596e-01, -7.89889655e-01,\n",
       "         8.71931206e-01, -6.70860291e-03,  1.12762792e+00],\n",
       "       [ 1.00000000e+00,  2.43480596e-01, -7.89889655e-01,\n",
       "         9.91894895e-01,  3.21056923e-01, -8.82491412e-01],\n",
       "       [ 1.00000000e+00,  2.43480596e-01, -7.89889655e-01,\n",
       "         1.29180412e+00, -3.31095102e-01,  1.12762792e+00],\n",
       "       [ 1.00000000e+00,  2.47936683e-01, -7.89889655e-01,\n",
       "        -2.07741999e-01, -9.32561737e-01, -8.82491412e-01],\n",
       "       [ 1.00000000e+00,  2.73781988e-01, -7.89889655e-01,\n",
       "        -3.27705688e-01, -7.70368487e-01, -8.82491412e-01],\n",
       "       [ 1.00000000e+00,  3.02300945e-01, -7.89889655e-01,\n",
       "         9.21672248e-02, -4.96667378e-01, -8.82491412e-01],\n",
       "       [ 1.00000000e+00,  3.03192162e-01,  1.25982401e+00,\n",
       "         1.17184043e+00,  6.42064396e-01,  1.12762792e+00],\n",
       "       [ 1.00000000e+00,  3.28146250e-01, -7.89889655e-01,\n",
       "        -4.47669377e-01, -5.50731795e-01,  1.12762792e+00],\n",
       "       [ 1.00000000e+00,  3.46861815e-01,  1.25982401e+00,\n",
       "         8.71931206e-01,  1.67942539e+00,  1.12762792e+00],\n",
       "       [ 1.00000000e+00,  3.62012511e-01, -7.89889655e-01,\n",
       "        -2.67723843e-01, -7.12925045e-01,  1.12762792e+00],\n",
       "       [ 1.00000000e+00,  3.71815903e-01, -7.89889655e-01,\n",
       "        -5.07651222e-01, -5.50731795e-01, -8.82491412e-01],\n",
       "       [ 1.00000000e+00,  4.52025470e-01, -7.89889655e-01,\n",
       "        -1.28741520e+00, -7.70368487e-01, -8.82491412e-01],\n",
       "       [ 1.00000000e+00,  4.57372774e-01, -7.89889655e-01,\n",
       "        -6.27614911e-01,  1.01420230e-01,  1.12762792e+00],\n",
       "       [ 1.00000000e+00,  4.66284948e-01, -7.89889655e-01,\n",
       "        -1.70728812e+00, -4.96667378e-01,  1.12762792e+00],\n",
       "       [ 1.00000000e+00,  5.21540427e-01, -7.89889655e-01,\n",
       "         3.32094604e-01, -8.24432904e-01, -8.82491412e-01],\n",
       "       [ 1.00000000e+00,  5.65210080e-01,  1.25982401e+00,\n",
       "         5.72021982e-01, -9.32561737e-01, -8.82491412e-01],\n",
       "       [ 1.00000000e+00,  7.40779910e-01,  1.25982401e+00,\n",
       "         1.05187674e+00, -9.32561737e-01, -8.82491412e-01],\n",
       "       [ 1.00000000e+00,  7.83558345e-01, -7.89889655e-01,\n",
       "        -1.04748782e+00, -5.50731795e-01, -8.82491412e-01],\n",
       "       [ 1.00000000e+00,  7.90688085e-01, -7.89889655e-01,\n",
       "         5.12040138e-01, -3.31095102e-01, -8.82491412e-01],\n",
       "       [ 1.00000000e+00,  8.14750955e-01, -7.89889655e-01,\n",
       "        -1.40737889e+00, -7.12925045e-01, -8.82491412e-01],\n",
       "       [ 1.00000000e+00,  8.25445564e-01,  1.25982401e+00,\n",
       "         6.91985672e-01, -7.66989461e-01, -8.82491412e-01],\n",
       "       [ 1.00000000e+00,  8.45052347e-01,  1.25982401e+00,\n",
       "        -3.27705688e-01,  1.40910331e+00, -8.82491412e-01],\n",
       "       [ 1.00000000e+00,  8.83374695e-01,  1.25982401e+00,\n",
       "         5.72021982e-01, -9.32561737e-01, -8.82491412e-01],\n",
       "       [ 1.00000000e+00,  8.90504434e-01, -7.89889655e-01,\n",
       "        -1.22743336e+00, -4.39223936e-01, -8.82491412e-01],\n",
       "       [ 1.00000000e+00,  8.92286869e-01,  1.25982401e+00,\n",
       "        -2.07741999e-01, -4.39223936e-01, -8.82491412e-01],\n",
       "       [ 1.00000000e+00,  9.15458522e-01, -7.89889655e-01,\n",
       "        -1.64730627e+00, -5.50731795e-01, -8.82491412e-01],\n",
       "       [ 1.00000000e+00,  9.17240957e-01,  1.25982401e+00,\n",
       "        -2.07741999e-01,  1.08133778e+00, -8.82491412e-01],\n",
       "       [ 1.00000000e+00,  9.19914609e-01, -7.89889655e-01,\n",
       "         6.91985672e-01, -8.24432904e-01, -8.82491412e-01],\n",
       "       [ 1.00000000e+00,  9.32391653e-01, -7.89889655e-01,\n",
       "        -9.87505980e-01, -7.70368487e-01, -8.82491412e-01],\n",
       "       [ 1.00000000e+00,  9.58236958e-01, -7.89889655e-01,\n",
       "         3.32094604e-01,  1.01420230e-01,  1.12762792e+00],\n",
       "       [ 1.00000000e+00,  9.59128175e-01, -7.89889655e-01,\n",
       "        -9.27524135e-01, -3.31095102e-01, -8.82491412e-01],\n",
       "       [ 1.00000000e+00,  1.00279783e+00,  1.25982401e+00,\n",
       "         9.21672248e-02, -1.14837436e-01, -8.82491412e-01],\n",
       "       [ 1.00000000e+00,  1.01973096e+00, -7.89889655e-01,\n",
       "         5.12040138e-01, -1.14837436e-01,  1.12762792e+00],\n",
       "       [ 1.00000000e+00,  1.04735870e+00,  1.25982401e+00,\n",
       "        -1.28741520e+00, -7.12925045e-01, -8.82491412e-01],\n",
       "       [ 1.00000000e+00,  1.04914113e+00,  1.25982401e+00,\n",
       "         5.12040138e-01, -7.12925045e-01,  1.12762792e+00],\n",
       "       [ 1.00000000e+00,  1.09637566e+00, -7.89889655e-01,\n",
       "        -5.67633067e-01, -8.78497321e-01, -8.82491412e-01],\n",
       "       [ 1.00000000e+00,  1.09726687e+00, -7.89889655e-01,\n",
       "         9.31913050e-01,  1.01420230e-01,  1.12762792e+00],\n",
       "       [ 1.00000000e+00,  1.09815809e+00, -7.89889655e-01,\n",
       "        -2.90692501e+00, -6.07730195e-02, -8.82491412e-01],\n",
       "       [ 1.00000000e+00,  1.10083174e+00,  1.25982401e+00,\n",
       "         4.52058293e-01,  6.48822448e-01,  1.12762792e+00],\n",
       "       [ 1.00000000e+00,  1.11330879e+00,  1.25982401e+00,\n",
       "        -1.47760154e-01, -4.39223936e-01, -8.82491412e-01],\n",
       "       [ 1.00000000e+00,  1.14806627e+00, -7.89889655e-01,\n",
       "        -1.94721549e+00, -7.66989461e-01, -8.82491412e-01],\n",
       "       [ 1.00000000e+00,  1.16321696e+00, -7.89889655e-01,\n",
       "         9.21672248e-02, -4.96667378e-01, -8.82491412e-01],\n",
       "       [ 1.00000000e+00,  1.16410818e+00, -7.89889655e-01,\n",
       "        -1.40737889e+00, -7.66989461e-01, -8.82491412e-01],\n",
       "       [ 1.00000000e+00,  1.16410818e+00,  1.25982401e+00,\n",
       "         2.12130914e-01, -5.50731795e-01,  1.12762792e+00],\n",
       "       [ 1.00000000e+00,  1.17925887e+00, -7.89889655e-01,\n",
       "         4.52058293e-01, -4.39223936e-01, -8.82491412e-01],\n",
       "       [ 1.00000000e+00,  1.22114609e+00, -7.89889655e-01,\n",
       "        -3.87687533e-01,  2.09549063e-01, -8.82491412e-01],\n",
       "       [ 1.00000000e+00,  1.34948140e+00, -7.89889655e-01,\n",
       "        -6.27614911e-01,  1.01420230e-01, -8.82491412e-01],\n",
       "       [ 1.00000000e+00,  1.37443549e+00, -7.89889655e-01,\n",
       "        -1.10746967e+00, -7.66989461e-01, -8.82491412e-01],\n",
       "       [ 1.00000000e+00,  1.37443549e+00, -7.89889655e-01,\n",
       "         2.12130914e-01, -6.38586472e-01, -8.82491412e-01],\n",
       "       [ 1.00000000e+00,  1.44662410e+00,  1.25982401e+00,\n",
       "        -2.42707025e+00,  1.40910331e+00,  1.12762792e+00],\n",
       "       [ 1.00000000e+00,  1.44662410e+00, -7.89889655e-01,\n",
       "        -1.88723365e+00, -5.50731795e-01,  1.12762792e+00],\n",
       "       [ 1.00000000e+00,  1.49474984e+00,  1.25982401e+00,\n",
       "        -3.87687533e-01, -7.66989461e-01, -8.82491412e-01],\n",
       "       [ 1.00000000e+00,  1.51792149e+00, -7.89889655e-01,\n",
       "        -2.07741999e-01, -3.85159519e-01, -8.82491412e-01],\n",
       "       [ 1.00000000e+00,  1.53218097e+00, -7.89889655e-01,\n",
       "        -1.04748782e+00,  3.14930172e+00,  1.12762792e+00],\n",
       "       [ 1.00000000e+00,  1.56515601e+00,  1.25982401e+00,\n",
       "        -6.27614911e-01,  1.73686883e+00,  1.12762792e+00],\n",
       "       [ 1.00000000e+00,  1.61773784e+00, -7.89889655e-01,\n",
       "        -3.27705688e-01, -7.12925045e-01, -8.82491412e-01],\n",
       "       [ 1.00000000e+00,  1.64714801e+00, -7.89889655e-01,\n",
       "         9.91894895e-01, -2.77030686e-01, -8.82491412e-01],\n",
       "       [ 1.00000000e+00,  1.73805219e+00, -7.89889655e-01,\n",
       "        -2.77964646e-02,  3.21056923e-01, -8.82491412e-01],\n",
       "       [ 1.00000000e+00,  1.75231167e+00,  1.25982401e+00,\n",
       "        -2.77964646e-02, -7.66989461e-01, -8.82491412e-01],\n",
       "       [ 1.00000000e+00,  1.75676776e+00, -7.89889655e-01,\n",
       "        -1.34739705e+00, -3.31095102e-01,  1.12762792e+00],\n",
       "       [ 1.00000000e+00,  1.83073880e+00,  1.25982401e+00,\n",
       "        -1.82725181e+00, -7.66989461e-01, -8.82491412e-01],\n",
       "       [ 1.00000000e+00,  1.92253419e+00,  1.25982401e+00,\n",
       "         1.52149069e-01, -2.77030686e-01, -8.82491412e-01],\n",
       "       [ 1.00000000e+00,  1.99383159e+00, -7.89889655e-01,\n",
       "        -1.58732443e+00, -3.31095102e-01,  1.12762792e+00],\n",
       "       [ 1.00000000e+00,  2.07314994e+00, -7.89889655e-01,\n",
       "        -2.00719734e+00, -6.04796212e-01,  1.12762792e+00],\n",
       "       [ 1.00000000e+00,  2.08473576e+00,  1.25982401e+00,\n",
       "        -1.40737889e+00,  1.39896623e+00,  1.12762792e+00],\n",
       "       [ 1.00000000e+00,  2.24159003e+00, -7.89889655e-01,\n",
       "        -7.47578601e-01,  1.08133778e+00, -8.82491412e-01],\n",
       "       [ 1.00000000e+00,  2.25941437e+00, -7.89889655e-01,\n",
       "        -6.27614911e-01, -8.24432904e-01, -8.82491412e-01],\n",
       "       [ 1.00000000e+00,  2.47152412e+00, -7.89889655e-01,\n",
       "        -1.47760154e-01, -2.22966269e-01, -8.82491412e-01],\n",
       "       [ 1.00000000e+00,  3.04101204e+00, -7.89889655e-01,\n",
       "        -6.87596756e-01, -6.70860291e-03, -8.82491412e-01]])"
      ]
     },
     "execution_count": 105,
     "metadata": {},
     "output_type": "execute_result"
    }
   ],
   "source": [
    "censored_inputs_mel"
   ]
  },
  {
   "cell_type": "code",
   "execution_count": 106,
   "metadata": {},
   "outputs": [],
   "source": [
    "fit = HEM_fit(censored_inputs_mel, noncensored_inputs_mel, 0.5, 1000, 'use_clustering')"
   ]
  },
  {
   "cell_type": "code",
   "execution_count": 107,
   "metadata": {},
   "outputs": [],
   "source": [
    "weights = fit['model_weights']"
   ]
  },
  {
   "cell_type": "code",
   "execution_count": 108,
   "metadata": {},
   "outputs": [
    {
     "data": {
      "text/plain": [
       "array([-0.05578208,  0.14007225, -0.08140815, -0.08917484, -0.16671815,\n",
       "       -0.28243868])"
      ]
     },
     "execution_count": 108,
     "metadata": {},
     "output_type": "execute_result"
    }
   ],
   "source": [
    "weights"
   ]
  },
  {
   "cell_type": "code",
   "execution_count": 109,
   "metadata": {},
   "outputs": [],
   "source": [
    "predictions = HEM_predictions(weights, foo_mel, predictors)"
   ]
  },
  {
   "cell_type": "code",
   "execution_count": 114,
   "metadata": {},
   "outputs": [
    {
     "data": {
      "text/plain": [
       "0.5120144019313181"
      ]
     },
     "execution_count": 114,
     "metadata": {},
     "output_type": "execute_result"
    }
   ],
   "source": [
    "(predictions['prob']).mean()"
   ]
  }
 ],
 "metadata": {
  "kernelspec": {
   "display_name": "Python 3",
   "language": "python",
   "name": "python3"
  },
  "language_info": {
   "codemirror_mode": {
    "name": "ipython",
    "version": 3
   },
   "file_extension": ".py",
   "mimetype": "text/x-python",
   "name": "python",
   "nbconvert_exporter": "python",
   "pygments_lexer": "ipython3",
   "version": "3.7.1"
  }
 },
 "nbformat": 4,
 "nbformat_minor": 2
}
