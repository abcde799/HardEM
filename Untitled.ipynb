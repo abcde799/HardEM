{
 "cells": [
  {
   "cell_type": "code",
   "execution_count": 1,
   "metadata": {},
   "outputs": [],
   "source": [
    "from survival_func import survival_fit\n"
   ]
  },
  {
   "cell_type": "code",
   "execution_count": 34,
   "metadata": {},
   "outputs": [],
   "source": [
    "from scipy.optimize import minimize\n",
    "import autograd.numpy as np\n",
    "from autograd import grad, jacobian, hessian\n",
    "import pandas as pd\n",
    "from autograd import grad"
   ]
  },
  {
   "cell_type": "code",
   "execution_count": 35,
   "metadata": {},
   "outputs": [],
   "source": [
    "censored_inputs = [[0.5,0.5,[-0.5,0.5,0.5]],[0.01,0.02,[-0.05,0.0,-0.8]]]\n",
    "\n",
    "noncensored_inputs = [[1.01,0.50,[-0.09,0.97,-0.7]],[0.1,0.2,[-0.99,0.5,0.4]]]\n"
   ]
  },
  {
   "cell_type": "code",
   "execution_count": 7,
   "metadata": {},
   "outputs": [],
   "source": [
    "fit = survival_fit(censored_inputs, noncensored_inputs, 0.5, 100)"
   ]
  },
  {
   "cell_type": "code",
   "execution_count": 5,
   "metadata": {},
   "outputs": [],
   "source": [
    "#for i in range(1000):\n",
    " #   fit = survival_fit(censored_inputs, noncensored_inputs, 0.5, 100)"
   ]
  },
  {
   "cell_type": "code",
   "execution_count": 8,
   "metadata": {},
   "outputs": [
    {
     "data": {
      "text/plain": [
       "array([ 0.59419715,  1.15357323, -0.16345502, -0.06708443,  0.15381426])"
      ]
     },
     "execution_count": 8,
     "metadata": {},
     "output_type": "execute_result"
    }
   ],
   "source": [
    "fit"
   ]
  },
  {
   "cell_type": "code",
   "execution_count": 24,
   "metadata": {},
   "outputs": [],
   "source": [
    "def f(param):\n",
    "    \n",
    "    return param[0]**2+param[1]**2"
   ]
  },
  {
   "cell_type": "code",
   "execution_count": 25,
   "metadata": {},
   "outputs": [
    {
     "data": {
      "text/plain": [
       "2.0"
      ]
     },
     "execution_count": 25,
     "metadata": {},
     "output_type": "execute_result"
    }
   ],
   "source": [
    "f([1.,1.])"
   ]
  },
  {
   "cell_type": "code",
   "execution_count": 26,
   "metadata": {},
   "outputs": [],
   "source": [
    "df =  grad(f)"
   ]
  },
  {
   "cell_type": "code",
   "execution_count": 27,
   "metadata": {},
   "outputs": [
    {
     "data": {
      "text/plain": [
       "[array(2.), array(2.)]"
      ]
     },
     "execution_count": 27,
     "metadata": {},
     "output_type": "execute_result"
    }
   ],
   "source": [
    "df([1.,1.])"
   ]
  },
  {
   "cell_type": "code",
   "execution_count": 28,
   "metadata": {},
   "outputs": [],
   "source": [
    "from autograd import hessian"
   ]
  },
  {
   "cell_type": "code",
   "execution_count": 29,
   "metadata": {},
   "outputs": [],
   "source": [
    "ddf = hessian(f)"
   ]
  },
  {
   "cell_type": "code",
   "execution_count": 33,
   "metadata": {},
   "outputs": [
    {
     "data": {
      "text/plain": [
       "array([[2., 0.],\n",
       "       [0., 2.]])"
      ]
     },
     "execution_count": 33,
     "metadata": {},
     "output_type": "execute_result"
    }
   ],
   "source": [
    "ddf(np.array([1.0,1.0]))"
   ]
  },
  {
   "cell_type": "code",
   "execution_count": 41,
   "metadata": {},
   "outputs": [],
   "source": [
    "n_cens = len(censored_inputs)\n",
    "n_noncens = len(noncensored_inputs)\n",
    "n_rows = n_cens+n_noncens    \n",
    "    \n",
    "def training_loss(flatparam):\n",
    "    \n",
    "      \n",
    "    arr = flatparam[2:]\n",
    "\n",
    "    param = [flatparam[0], flatparam[1], arr]\n",
    "       \n",
    "        #Training loss is the negative log-likelihood.\n",
    "        \n",
    "    known_loss = np.log(np.array(mod_prob_density(noncensored_inputs, param))) #noncensored loss term \n",
    "    unknown_loss = np.log(np.array(mod_overall_survival(censored_inputs, param))) #censored loss term\n",
    "    reg = np.dot(np.array(arr),np.array(arr))\n",
    "    \n",
    "    return 0.5*reg-1/n_rows*(np.sum(known_loss)+np.sum(unknown_loss))\n",
    "        \n",
    "training_gradient = grad(training_loss)"
   ]
  },
  {
   "cell_type": "code",
   "execution_count": 39,
   "metadata": {},
   "outputs": [],
   "source": [
    "def covariate_exp(covariate_vector, gamma):\n",
    "    '''Takes two vectors and returns a scalar. The vectors are in the form of a list of equal length. \n",
    "    '''\n",
    "    dot_prod = np.dot(np.array(gamma), np.array(covariate_vector))\n",
    "    \n",
    "    #assert isinstance(dot_prod, float),\"Dot prod. in 'covariate_exp' doesn't return float.\"\n",
    "    \n",
    "    return np.exp(dot_prod)\n",
    "    \n",
    "def susc_survival(time, covariate_vector, scaling, shape, gamma):\n",
    "    '''This is the survival function of the susceptible individual. It is Eq 16 from paper.\n",
    "    Parameters:\n",
    "    ------------------------------------\n",
    "    time: Positive scalar; either a float or an integer. \n",
    "    \n",
    "    covariate_vector: A list. \n",
    "    \n",
    "    gamma: A list of length matching 'covariate_vector'.\n",
    "    \n",
    "    scaling: positive float; comes from Weibull distribution.\n",
    "    \n",
    "    shape: positive float; comes from Weibull distribution.\n",
    "    \n",
    "    Returns:\n",
    "    -----------------------------------\n",
    "    \n",
    "    Survival function of susceptible individual at given parameters assuming a Weibull distribution\n",
    "    for the proportional hazards model with the baseline hazard function having given shape and scale.\n",
    "    \n",
    "    '''\n",
    "    \n",
    "    arg = (-(time/scaling)**shape)*(covariate_exp(covariate_vector, gamma))\n",
    "    \n",
    "    assert np.exp(arg)>=0,\"Output of 'susc_survival' is not a nonnegative number.\"\n",
    "    \n",
    "    return np.exp(arg)\n",
    "    \n",
    "def overall_survival(time, prob, covariate_vector, scaling, shape, gamma):\n",
    "    '''Same parameters as 'susc_survival' function above but in addition has:\n",
    "    prob: Estimated probabilities (to be returned by HardEM); float type between 0 and 1.\n",
    "    It returns the overall survival function of a (not necessarily susc.) individual. \n",
    "    This is Eq 17 from paper. \n",
    "    '''\n",
    "    \n",
    "    out = prob+(1-prob)*susc_survival(time, covariate_vector, scaling, shape, gamma)\n",
    "    \n",
    "    assert 0<=out<=1,\"Output of 'overall_survival' is not in [0,1].\"\n",
    "    \n",
    "    return out\n",
    "    \n",
    "        \n",
    "def prob_density(time, prob, covariate_vector, scaling, shape, gamma):\n",
    "    '''\n",
    "    Same parameters as above and returns overall prob density for time of event. This is Eq 18\n",
    "    from the paper.\n",
    "    '''\n",
    "    \n",
    "    def time_slice(time_param):\n",
    "        return overall_survival(time_param, prob, covariate_vector, scaling, shape, gamma)\n",
    "    \n",
    "    out = -grad(time_slice)(float(time))\n",
    "    \n",
    "    assert time>0, 'time<=0' \n",
    "    assert (0<=prob<=1), 'prob out of [0,1]' \n",
    "    assert scaling>0, 'scalring not positive'\n",
    "    assert shape>0, 'shape not positive'\n",
    "    \n",
    "    #assert out>0, \"Output of prob_density is not positive\" \n",
    "    \n",
    "    return out\n",
    "    \n",
    "def mod_prob_density(Array, param):\n",
    "\n",
    "    '''\n",
    "    This is a modification of the 'prob_density' function to be used in the training loss below.\n",
    "    \n",
    "    Parameters:\n",
    "    \n",
    "    --------------------------\n",
    "    \n",
    "    Array: An array of arrays the form [[time, prob, covariate_vector],...]. Here covariate_vector is an array and \n",
    "    the others are floats. \n",
    "    \n",
    "    param: An array of the form [scaling, shape, gamma]. Here gamma is an array and the others are floats. \n",
    "\n",
    "    Returns:\n",
    "    \n",
    "    ---------------------------\n",
    "\n",
    "    A list of the prob_density function applied to each array in Array with respect to param.    \n",
    "    '''\n",
    "    \n",
    "    out = [prob_density(arr[0], arr[1], arr[2], param[0], param[1], param[2]) for arr in Array]\n",
    "    \n",
    "    assert isinstance(out, list),\"Output of 'mod_prob_density' is not a list.\"\n",
    "    \n",
    "    return out\n",
    "    \n",
    "def mod_overall_survival(Array, param):\n",
    "    \n",
    "    '''\n",
    "    Same modification as mod_prob_density function but for the overall_survival function.\n",
    "    '''\n",
    "    \n",
    "    out = [overall_survival(arr[0], arr[1], arr[2], param[0], param[1], param[2]) for arr in Array]\n",
    "    \n",
    "    assert isinstance(out, list),\"Output of 'mod_prob_density' is not a list.\"\n",
    "    \n",
    "    return out"
   ]
  },
  {
   "cell_type": "code",
   "execution_count": 42,
   "metadata": {},
   "outputs": [
    {
     "data": {
      "text/plain": [
       "1.6172114357403882"
      ]
     },
     "execution_count": 42,
     "metadata": {},
     "output_type": "execute_result"
    }
   ],
   "source": [
    "training_loss([0.1, 0.1, 0.1, 0.1, 0.1])"
   ]
  },
  {
   "cell_type": "code",
   "execution_count": 43,
   "metadata": {},
   "outputs": [],
   "source": [
    "ddtrain = hessian(training_loss)"
   ]
  },
  {
   "cell_type": "code",
   "execution_count": 53,
   "metadata": {},
   "outputs": [],
   "source": [
    "matrix = ddtrain(np.array([0.1, 0.7, 0.1, 0.1, 0.1]))"
   ]
  },
  {
   "cell_type": "code",
   "execution_count": 54,
   "metadata": {},
   "outputs": [],
   "source": [
    "def is_pos_def(x):\n",
    "    return np.all(np.linalg.eigvals(x) > 0)"
   ]
  },
  {
   "cell_type": "code",
   "execution_count": 55,
   "metadata": {},
   "outputs": [
    {
     "data": {
      "text/plain": [
       "True"
      ]
     },
     "execution_count": 55,
     "metadata": {},
     "output_type": "execute_result"
    }
   ],
   "source": [
    "is_pos_def(matrix)"
   ]
  },
  {
   "cell_type": "code",
   "execution_count": 50,
   "metadata": {},
   "outputs": [],
   "source": [
    "def check_symmetric(a, rtol=1e-05, atol=1e-08):\n",
    "    return np.allclose(a, a.T, rtol=rtol, atol=atol)"
   ]
  },
  {
   "cell_type": "code",
   "execution_count": 56,
   "metadata": {},
   "outputs": [
    {
     "data": {
      "text/plain": [
       "True"
      ]
     },
     "execution_count": 56,
     "metadata": {},
     "output_type": "execute_result"
    }
   ],
   "source": [
    "check_symmetric(matrix, rtol=1e-05, atol=1e-08)"
   ]
  },
  {
   "cell_type": "code",
   "execution_count": 57,
   "metadata": {},
   "outputs": [
    {
     "data": {
      "text/plain": [
       "array([[ 1.51633796e+02, -3.04256182e+01,  2.31570882e+00,\n",
       "        -9.36370565e+00,  6.07653389e+00],\n",
       "       [-3.04256182e+01,  7.95911950e+00, -2.10241696e-01,\n",
       "         2.82965521e+00, -2.04953222e+00],\n",
       "       [ 2.31570882e+00, -2.10241696e-01,  1.23719109e+00,\n",
       "        -2.18635036e-01,  7.55953992e-04],\n",
       "       [-9.36370565e+00,  2.82965521e+00, -2.18635036e-01,\n",
       "         2.25450461e+00, -8.38875706e-01],\n",
       "       [ 6.07653389e+00, -2.04953222e+00,  7.55953992e-04,\n",
       "        -8.38875706e-01,  1.68145660e+00]])"
      ]
     },
     "execution_count": 57,
     "metadata": {},
     "output_type": "execute_result"
    }
   ],
   "source": [
    "matrix"
   ]
  },
  {
   "cell_type": "code",
   "execution_count": null,
   "metadata": {},
   "outputs": [],
   "source": []
  }
 ],
 "metadata": {
  "kernelspec": {
   "display_name": "Python 3",
   "language": "python",
   "name": "python3"
  },
  "language_info": {
   "codemirror_mode": {
    "name": "ipython",
    "version": 3
   },
   "file_extension": ".py",
   "mimetype": "text/x-python",
   "name": "python",
   "nbconvert_exporter": "python",
   "pygments_lexer": "ipython3",
   "version": "3.7.1"
  }
 },
 "nbformat": 4,
 "nbformat_minor": 4
}
