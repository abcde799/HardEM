{
 "cells": [
  {
   "cell_type": "code",
   "execution_count": 1,
   "metadata": {},
   "outputs": [],
   "source": [
    "import pandas as pd\n",
    "import numpy as np\n",
    "from make_df import create_df, make_inputs #Custom module here\n",
    "from naive import naive_fit, get_true_labels #Custom module here\n",
    "import matplotlib.pyplot as plt"
   ]
  },
  {
   "cell_type": "markdown",
   "metadata": {},
   "source": [
    "This is a demo of our Hard EM algorithm for survival analysis datasets\n",
    "with a latent cured subpopulation. We will apply this to a melanoma data set."
   ]
  },
  {
   "cell_type": "markdown",
   "metadata": {},
   "source": [
    "STEP 1: DATA PREPARATION"
   ]
  },
  {
   "cell_type": "code",
   "execution_count": 2,
   "metadata": {},
   "outputs": [],
   "source": [
    "mel = pd.read_csv('melanoma.csv')"
   ]
  },
  {
   "cell_type": "code",
   "execution_count": 3,
   "metadata": {},
   "outputs": [
    {
     "data": {
      "text/html": [
       "<div>\n",
       "<style scoped>\n",
       "    .dataframe tbody tr th:only-of-type {\n",
       "        vertical-align: middle;\n",
       "    }\n",
       "\n",
       "    .dataframe tbody tr th {\n",
       "        vertical-align: top;\n",
       "    }\n",
       "\n",
       "    .dataframe thead th {\n",
       "        text-align: right;\n",
       "    }\n",
       "</style>\n",
       "<table border=\"1\" class=\"dataframe\">\n",
       "  <thead>\n",
       "    <tr style=\"text-align: right;\">\n",
       "      <th></th>\n",
       "      <th>Unnamed: 0</th>\n",
       "      <th>time</th>\n",
       "      <th>status</th>\n",
       "      <th>sex</th>\n",
       "      <th>age</th>\n",
       "      <th>year</th>\n",
       "      <th>thickness</th>\n",
       "      <th>ulcer</th>\n",
       "    </tr>\n",
       "  </thead>\n",
       "  <tbody>\n",
       "    <tr>\n",
       "      <th>0</th>\n",
       "      <td>1</td>\n",
       "      <td>10</td>\n",
       "      <td>3</td>\n",
       "      <td>1</td>\n",
       "      <td>76</td>\n",
       "      <td>1972</td>\n",
       "      <td>6.76</td>\n",
       "      <td>1</td>\n",
       "    </tr>\n",
       "    <tr>\n",
       "      <th>1</th>\n",
       "      <td>2</td>\n",
       "      <td>30</td>\n",
       "      <td>3</td>\n",
       "      <td>1</td>\n",
       "      <td>56</td>\n",
       "      <td>1968</td>\n",
       "      <td>0.65</td>\n",
       "      <td>0</td>\n",
       "    </tr>\n",
       "    <tr>\n",
       "      <th>2</th>\n",
       "      <td>3</td>\n",
       "      <td>35</td>\n",
       "      <td>2</td>\n",
       "      <td>1</td>\n",
       "      <td>41</td>\n",
       "      <td>1977</td>\n",
       "      <td>1.34</td>\n",
       "      <td>0</td>\n",
       "    </tr>\n",
       "    <tr>\n",
       "      <th>3</th>\n",
       "      <td>4</td>\n",
       "      <td>99</td>\n",
       "      <td>3</td>\n",
       "      <td>0</td>\n",
       "      <td>71</td>\n",
       "      <td>1968</td>\n",
       "      <td>2.90</td>\n",
       "      <td>0</td>\n",
       "    </tr>\n",
       "    <tr>\n",
       "      <th>4</th>\n",
       "      <td>5</td>\n",
       "      <td>185</td>\n",
       "      <td>1</td>\n",
       "      <td>1</td>\n",
       "      <td>52</td>\n",
       "      <td>1965</td>\n",
       "      <td>12.08</td>\n",
       "      <td>1</td>\n",
       "    </tr>\n",
       "  </tbody>\n",
       "</table>\n",
       "</div>"
      ],
      "text/plain": [
       "   Unnamed: 0  time  status  sex  age  year  thickness  ulcer\n",
       "0           1    10       3    1   76  1972       6.76      1\n",
       "1           2    30       3    1   56  1968       0.65      0\n",
       "2           3    35       2    1   41  1977       1.34      0\n",
       "3           4    99       3    0   71  1968       2.90      0\n",
       "4           5   185       1    1   52  1965      12.08      1"
      ]
     },
     "execution_count": 3,
     "metadata": {},
     "output_type": "execute_result"
    }
   ],
   "source": [
    "mel.head()"
   ]
  },
  {
   "cell_type": "markdown",
   "metadata": {},
   "source": [
    "For the status column 1 means died from the disease, 2 means alive at then end of study, and 3 means died from unrelated\n",
    "causes. Use this to make a censoring column as follows:\n",
    "    \n",
    "    1 means not censored (label 1)\n",
    "    2 means censored (label 0)\n",
    "    3 means cenosred (label 0)"
   ]
  },
  {
   "cell_type": "code",
   "execution_count": 4,
   "metadata": {},
   "outputs": [],
   "source": [
    "censoring_indicator = mel['status'] "
   ]
  },
  {
   "cell_type": "code",
   "execution_count": 5,
   "metadata": {},
   "outputs": [],
   "source": [
    "censoring_indicator = censoring_indicator.replace(3, 0)"
   ]
  },
  {
   "cell_type": "code",
   "execution_count": 6,
   "metadata": {},
   "outputs": [],
   "source": [
    "censoring_indicator = censoring_indicator.replace(2, 0)"
   ]
  },
  {
   "cell_type": "code",
   "execution_count": 7,
   "metadata": {},
   "outputs": [],
   "source": [
    "mel['status'] = censoring_indicator"
   ]
  },
  {
   "cell_type": "code",
   "execution_count": 8,
   "metadata": {},
   "outputs": [
    {
     "data": {
      "text/html": [
       "<div>\n",
       "<style scoped>\n",
       "    .dataframe tbody tr th:only-of-type {\n",
       "        vertical-align: middle;\n",
       "    }\n",
       "\n",
       "    .dataframe tbody tr th {\n",
       "        vertical-align: top;\n",
       "    }\n",
       "\n",
       "    .dataframe thead th {\n",
       "        text-align: right;\n",
       "    }\n",
       "</style>\n",
       "<table border=\"1\" class=\"dataframe\">\n",
       "  <thead>\n",
       "    <tr style=\"text-align: right;\">\n",
       "      <th></th>\n",
       "      <th>Unnamed: 0</th>\n",
       "      <th>time</th>\n",
       "      <th>status</th>\n",
       "      <th>sex</th>\n",
       "      <th>age</th>\n",
       "      <th>year</th>\n",
       "      <th>thickness</th>\n",
       "      <th>ulcer</th>\n",
       "    </tr>\n",
       "  </thead>\n",
       "  <tbody>\n",
       "    <tr>\n",
       "      <th>0</th>\n",
       "      <td>1</td>\n",
       "      <td>10</td>\n",
       "      <td>0</td>\n",
       "      <td>1</td>\n",
       "      <td>76</td>\n",
       "      <td>1972</td>\n",
       "      <td>6.76</td>\n",
       "      <td>1</td>\n",
       "    </tr>\n",
       "    <tr>\n",
       "      <th>1</th>\n",
       "      <td>2</td>\n",
       "      <td>30</td>\n",
       "      <td>0</td>\n",
       "      <td>1</td>\n",
       "      <td>56</td>\n",
       "      <td>1968</td>\n",
       "      <td>0.65</td>\n",
       "      <td>0</td>\n",
       "    </tr>\n",
       "    <tr>\n",
       "      <th>2</th>\n",
       "      <td>3</td>\n",
       "      <td>35</td>\n",
       "      <td>0</td>\n",
       "      <td>1</td>\n",
       "      <td>41</td>\n",
       "      <td>1977</td>\n",
       "      <td>1.34</td>\n",
       "      <td>0</td>\n",
       "    </tr>\n",
       "    <tr>\n",
       "      <th>3</th>\n",
       "      <td>4</td>\n",
       "      <td>99</td>\n",
       "      <td>0</td>\n",
       "      <td>0</td>\n",
       "      <td>71</td>\n",
       "      <td>1968</td>\n",
       "      <td>2.90</td>\n",
       "      <td>0</td>\n",
       "    </tr>\n",
       "    <tr>\n",
       "      <th>4</th>\n",
       "      <td>5</td>\n",
       "      <td>185</td>\n",
       "      <td>1</td>\n",
       "      <td>1</td>\n",
       "      <td>52</td>\n",
       "      <td>1965</td>\n",
       "      <td>12.08</td>\n",
       "      <td>1</td>\n",
       "    </tr>\n",
       "  </tbody>\n",
       "</table>\n",
       "</div>"
      ],
      "text/plain": [
       "   Unnamed: 0  time  status  sex  age  year  thickness  ulcer\n",
       "0           1    10       0    1   76  1972       6.76      1\n",
       "1           2    30       0    1   56  1968       0.65      0\n",
       "2           3    35       0    1   41  1977       1.34      0\n",
       "3           4    99       0    0   71  1968       2.90      0\n",
       "4           5   185       1    1   52  1965      12.08      1"
      ]
     },
     "execution_count": 8,
     "metadata": {},
     "output_type": "execute_result"
    }
   ],
   "source": [
    "mel.head() #Sanity check"
   ]
  },
  {
   "cell_type": "code",
   "execution_count": 9,
   "metadata": {},
   "outputs": [],
   "source": [
    "covariates = ['sex', 'age', 'thickness', 'ulcer'] #Omit time, year, and status"
   ]
  },
  {
   "cell_type": "code",
   "execution_count": 30,
   "metadata": {},
   "outputs": [],
   "source": [
    "time = mel['time']"
   ]
  },
  {
   "cell_type": "code",
   "execution_count": 10,
   "metadata": {},
   "outputs": [],
   "source": [
    "mel_covariates = mel[covariates] "
   ]
  },
  {
   "cell_type": "code",
   "execution_count": 11,
   "metadata": {},
   "outputs": [],
   "source": [
    "#Now standardize the dataframe column wise \n",
    "\n",
    "mel_covariates = 1/mel_covariates.std()*(mel_covariates-mel_covariates.mean()) "
   ]
  },
  {
   "cell_type": "code",
   "execution_count": 12,
   "metadata": {},
   "outputs": [],
   "source": [
    "mel_covariates['status'] = censoring_indicator \n",
    "#add back the censoring indicator column"
   ]
  },
  {
   "cell_type": "code",
   "execution_count": 13,
   "metadata": {},
   "outputs": [
    {
     "data": {
      "text/html": [
       "<div>\n",
       "<style scoped>\n",
       "    .dataframe tbody tr th:only-of-type {\n",
       "        vertical-align: middle;\n",
       "    }\n",
       "\n",
       "    .dataframe tbody tr th {\n",
       "        vertical-align: top;\n",
       "    }\n",
       "\n",
       "    .dataframe thead th {\n",
       "        text-align: right;\n",
       "    }\n",
       "</style>\n",
       "<table border=\"1\" class=\"dataframe\">\n",
       "  <thead>\n",
       "    <tr style=\"text-align: right;\">\n",
       "      <th></th>\n",
       "      <th>sex</th>\n",
       "      <th>age</th>\n",
       "      <th>thickness</th>\n",
       "      <th>ulcer</th>\n",
       "      <th>status</th>\n",
       "    </tr>\n",
       "  </thead>\n",
       "  <tbody>\n",
       "    <tr>\n",
       "      <th>0</th>\n",
       "      <td>1.259824</td>\n",
       "      <td>1.411768</td>\n",
       "      <td>1.297595</td>\n",
       "      <td>1.127628</td>\n",
       "      <td>0</td>\n",
       "    </tr>\n",
       "    <tr>\n",
       "      <th>1</th>\n",
       "      <td>1.259824</td>\n",
       "      <td>0.212131</td>\n",
       "      <td>-0.766989</td>\n",
       "      <td>-0.882491</td>\n",
       "      <td>0</td>\n",
       "    </tr>\n",
       "    <tr>\n",
       "      <th>2</th>\n",
       "      <td>1.259824</td>\n",
       "      <td>-0.687597</td>\n",
       "      <td>-0.533837</td>\n",
       "      <td>-0.882491</td>\n",
       "      <td>0</td>\n",
       "    </tr>\n",
       "    <tr>\n",
       "      <th>3</th>\n",
       "      <td>-0.789890</td>\n",
       "      <td>1.111859</td>\n",
       "      <td>-0.006709</td>\n",
       "      <td>-0.882491</td>\n",
       "      <td>0</td>\n",
       "    </tr>\n",
       "    <tr>\n",
       "      <th>4</th>\n",
       "      <td>1.259824</td>\n",
       "      <td>-0.027796</td>\n",
       "      <td>3.095237</td>\n",
       "      <td>1.127628</td>\n",
       "      <td>1</td>\n",
       "    </tr>\n",
       "  </tbody>\n",
       "</table>\n",
       "</div>"
      ],
      "text/plain": [
       "        sex       age  thickness     ulcer  status\n",
       "0  1.259824  1.411768   1.297595  1.127628       0\n",
       "1  1.259824  0.212131  -0.766989 -0.882491       0\n",
       "2  1.259824 -0.687597  -0.533837 -0.882491       0\n",
       "3 -0.789890  1.111859  -0.006709 -0.882491       0\n",
       "4  1.259824 -0.027796   3.095237  1.127628       1"
      ]
     },
     "execution_count": 13,
     "metadata": {},
     "output_type": "execute_result"
    }
   ],
   "source": [
    "mel_covariates.head() #Sanity check"
   ]
  },
  {
   "cell_type": "code",
   "execution_count": 14,
   "metadata": {},
   "outputs": [
    {
     "data": {
      "text/plain": [
       "0.2780487804878049"
      ]
     },
     "execution_count": 14,
     "metadata": {},
     "output_type": "execute_result"
    }
   ],
   "source": [
    "noncensored_proportion = len(mel_covariates[mel_covariates.status==1].index)/len(mel_covariates.index)\n",
    "\n",
    "noncensored_proportion \n",
    "#This is the fraction of our dataset which is *not* censored."
   ]
  },
  {
   "cell_type": "code",
   "execution_count": 15,
   "metadata": {},
   "outputs": [],
   "source": [
    "#Extract censored inputs (status label 0) and noncensored inputs \n",
    "#(status label 1) using our own function \n",
    "\n",
    "columns = ['status']\n",
    "\n",
    "censored_inputs = make_inputs(mel_covariates, 0, columns) #extract censored\n",
    "\n",
    "noncensored_inputs = make_inputs(mel_covariates, 1, columns) \n",
    "#extract noncensored"
   ]
  },
  {
   "cell_type": "markdown",
   "metadata": {},
   "source": [
    "STEP 2: FEED INTO CUSTOM ALGORITHM"
   ]
  },
  {
   "cell_type": "markdown",
   "metadata": {},
   "source": [
    "Now that the data has been prepared we can fit it into my algorithm."
   ]
  },
  {
   "cell_type": "code",
   "execution_count": 16,
   "metadata": {},
   "outputs": [],
   "source": [
    "fit = naive_fit(censored_inputs, noncensored_inputs, 'use_HardEM')  "
   ]
  },
  {
   "cell_type": "code",
   "execution_count": 17,
   "metadata": {},
   "outputs": [],
   "source": [
    "y_pred = fit['pred'] #predicted label of the corresponding row \n",
    "        \n",
    "y_scores = fit['prob'] #This is the probability of *not* being cured\n",
    "    \n",
    "\n",
    "    "
   ]
  },
  {
   "cell_type": "code",
   "execution_count": 18,
   "metadata": {},
   "outputs": [],
   "source": [
    "censored_mel = mel_covariates[mel_covariates['status']==0]\n",
    "\n",
    "noncensored_mel = mel_covariates[mel_covariates['status']==1]"
   ]
  },
  {
   "cell_type": "code",
   "execution_count": 19,
   "metadata": {},
   "outputs": [
    {
     "data": {
      "text/html": [
       "<div>\n",
       "<style scoped>\n",
       "    .dataframe tbody tr th:only-of-type {\n",
       "        vertical-align: middle;\n",
       "    }\n",
       "\n",
       "    .dataframe tbody tr th {\n",
       "        vertical-align: top;\n",
       "    }\n",
       "\n",
       "    .dataframe thead th {\n",
       "        text-align: right;\n",
       "    }\n",
       "</style>\n",
       "<table border=\"1\" class=\"dataframe\">\n",
       "  <thead>\n",
       "    <tr style=\"text-align: right;\">\n",
       "      <th></th>\n",
       "      <th>sex</th>\n",
       "      <th>age</th>\n",
       "      <th>thickness</th>\n",
       "      <th>ulcer</th>\n",
       "      <th>status</th>\n",
       "    </tr>\n",
       "  </thead>\n",
       "  <tbody>\n",
       "    <tr>\n",
       "      <th>0</th>\n",
       "      <td>1.259824</td>\n",
       "      <td>1.411768</td>\n",
       "      <td>1.297595</td>\n",
       "      <td>1.127628</td>\n",
       "      <td>0</td>\n",
       "    </tr>\n",
       "    <tr>\n",
       "      <th>1</th>\n",
       "      <td>1.259824</td>\n",
       "      <td>0.212131</td>\n",
       "      <td>-0.766989</td>\n",
       "      <td>-0.882491</td>\n",
       "      <td>0</td>\n",
       "    </tr>\n",
       "    <tr>\n",
       "      <th>2</th>\n",
       "      <td>1.259824</td>\n",
       "      <td>-0.687597</td>\n",
       "      <td>-0.533837</td>\n",
       "      <td>-0.882491</td>\n",
       "      <td>0</td>\n",
       "    </tr>\n",
       "    <tr>\n",
       "      <th>3</th>\n",
       "      <td>-0.789890</td>\n",
       "      <td>1.111859</td>\n",
       "      <td>-0.006709</td>\n",
       "      <td>-0.882491</td>\n",
       "      <td>0</td>\n",
       "    </tr>\n",
       "    <tr>\n",
       "      <th>7</th>\n",
       "      <td>-0.789890</td>\n",
       "      <td>0.452058</td>\n",
       "      <td>0.101420</td>\n",
       "      <td>1.127628</td>\n",
       "      <td>0</td>\n",
       "    </tr>\n",
       "  </tbody>\n",
       "</table>\n",
       "</div>"
      ],
      "text/plain": [
       "        sex       age  thickness     ulcer  status\n",
       "0  1.259824  1.411768   1.297595  1.127628       0\n",
       "1  1.259824  0.212131  -0.766989 -0.882491       0\n",
       "2  1.259824 -0.687597  -0.533837 -0.882491       0\n",
       "3 -0.789890  1.111859  -0.006709 -0.882491       0\n",
       "7 -0.789890  0.452058   0.101420  1.127628       0"
      ]
     },
     "execution_count": 19,
     "metadata": {},
     "output_type": "execute_result"
    }
   ],
   "source": [
    "censored_mel.head()"
   ]
  },
  {
   "cell_type": "code",
   "execution_count": 20,
   "metadata": {},
   "outputs": [],
   "source": [
    "final = pd.concat([censored_mel, noncensored_mel]) \n",
    "\n",
    "final['predicted_cure_label'] = y_pred\n",
    "\n",
    "final['predicted_prob'] = y_scores"
   ]
  },
  {
   "cell_type": "code",
   "execution_count": 21,
   "metadata": {},
   "outputs": [],
   "source": [
    "cured = final[final.predicted_cure_label==0]\n",
    "\n",
    "not_cured = final[final.predicted_cure_label==1]\n"
   ]
  },
  {
   "cell_type": "code",
   "execution_count": 22,
   "metadata": {},
   "outputs": [
    {
     "data": {
      "image/png": "[encoded data removed]",
      "text/plain": [
       "<Figure size 432x288 with 1 Axes>"
      ]
     },
     "metadata": {
      "needs_background": "light"
     },
     "output_type": "display_data"
    }
   ],
   "source": [
    "#We plot the predicted cured (not cured) labels on y-axis and \n",
    "#the probability of not being cured on the x-axis.\n",
    "\n",
    "\n",
    "plt.xlabel('probability of not cured')\n",
    "plt.ylabel('predicted outcomes')\n",
    "\n",
    "plt.hist(not_cured['predicted_prob'], bins=12, label='not cured', color='blue', alpha=0.25)\n",
    "plt.hist(cured['predicted_prob'], bins=12, label='cured', alpha=0.25)\n",
    "plt.legend(fontsize=15)\n",
    "\n",
    "plt.show()"
   ]
  },
  {
   "cell_type": "code",
   "execution_count": 23,
   "metadata": {},
   "outputs": [
    {
     "data": {
      "text/plain": [
       "0.4146340747855795"
      ]
     },
     "execution_count": 23,
     "metadata": {},
     "output_type": "execute_result"
    }
   ],
   "source": [
    "y_scores.mean()"
   ]
  },
  {
   "cell_type": "code",
   "execution_count": 24,
   "metadata": {},
   "outputs": [
    {
     "data": {
      "text/plain": [
       "0.375609756097561"
      ]
     },
     "execution_count": 24,
     "metadata": {},
     "output_type": "execute_result"
    }
   ],
   "source": [
    "y_pred.mean()"
   ]
  },
  {
   "cell_type": "code",
   "execution_count": 29,
   "metadata": {},
   "outputs": [
    {
     "data": {
      "text/plain": [
       "array([[ 1.        ,  1.25982401,  1.41176781,  1.29759545,  1.12762792],\n",
       "       [ 1.        ,  1.25982401,  0.21213091, -0.76698946, -0.88249141],\n",
       "       [ 1.        ,  1.25982401, -0.68759676, -0.53383666, -0.88249141],\n",
       "       [ 1.        , -0.78988966,  1.11185858, -0.0067086 , -0.88249141],\n",
       "       [ 1.        , -0.78988966,  0.45205829,  0.10142023,  1.12762792],\n",
       "       [ 1.        , -0.78988966,  0.69198567, -0.93256174,  1.12762792],\n",
       "       [ 1.        ,  1.25982401,  1.17184043,  3.25743055,  1.12762792],\n",
       "       [ 1.        , -0.78988966,  2.01158625,  1.89906208,  1.12762792],\n",
       "       [ 1.        ,  1.25982401,  0.69198567, -0.55073179, -0.88249141],\n",
       "       [ 1.        ,  1.25982401,  1.23182227, -0.55073179, -0.88249141],\n",
       "       [ 1.        ,  1.25982401,  0.63200383,  1.84499767,  1.12762792],\n",
       "       [ 1.        , -0.78988966,  0.9918949 , -0.3310951 , -0.88249141],\n",
       "       [ 1.        , -0.78988966,  1.47174965, -0.93256174, -0.88249141],\n",
       "       [ 1.        , -0.78988966,  1.41176781, -0.55073179,  1.12762792],\n",
       "       [ 1.        , -0.78988966,  0.75196752, -0.93256174, -0.88249141],\n",
       "       [ 1.        , -0.78988966, -1.58732443, -0.55073179, -0.88249141],\n",
       "       [ 1.        , -0.78988966, -0.44766938, -0.87849732, -0.88249141],\n",
       "       [ 1.        , -0.78988966, -0.98750598, -0.60479621, -0.88249141],\n",
       "       [ 1.        , -0.78988966, -0.56763307, -0.43922394, -0.88249141],\n",
       "       [ 1.        , -0.78988966,  0.93191305, -0.52369959, -0.88249141],\n",
       "       [ 1.        ,  1.25982401,  0.27211276, -0.90552953, -0.88249141],\n",
       "       [ 1.        , -0.78988966,  0.27211276, -0.71292504, -0.88249141],\n",
       "       [ 1.        , -0.78988966,  0.15214907, -0.55073179, -0.88249141],\n",
       "       [ 1.        , -0.78988966,  0.3320946 , -0.55073179, -0.88249141],\n",
       "       [ 1.        ,  1.25982401, -1.94721549, -0.65886063, -0.88249141],\n",
       "       [ 1.        , -0.78988966,  0.87193121, -0.60479621, -0.88249141],\n",
       "       [ 1.        , -0.78988966,  0.39207645, -0.55073179, -0.88249141],\n",
       "       [ 1.        , -0.78988966, -1.22743336, -0.8244329 , -0.88249141],\n",
       "       [ 1.        , -0.78988966,  0.15214907, -0.22296627, -0.88249141],\n",
       "       [ 1.        ,  1.25982401, -2.24712472, -0.79064264, -0.88249141],\n",
       "       [ 1.        , -0.78988966, -0.32770569, -0.11483744,  1.12762792],\n",
       "       [ 1.        , -0.78988966,  0.09216722, -0.71292504, -0.88249141],\n",
       "       [ 1.        ,  1.25982401,  0.15214907,  0.20954906,  1.12762792],\n",
       "       [ 1.        ,  1.25982401, -0.86754229, -0.65886063, -0.88249141],\n",
       "       [ 1.        , -0.78988966, -0.68759676, -0.38515952,  1.12762792],\n",
       "       [ 1.        , -0.78988966,  0.21213091, -0.3310951 , -0.88249141],\n",
       "       [ 1.        , -0.78988966, -0.26772384, -0.55073179, -0.88249141],\n",
       "       [ 1.        ,  1.25982401, -0.50765122,  0.10142023,  1.12762792],\n",
       "       [ 1.        , -0.78988966,  1.05187674, -0.46963517, -0.88249141],\n",
       "       [ 1.        , -0.78988966, -0.7475786 , -0.55073179, -0.88249141],\n",
       "       [ 1.        ,  1.25982401,  0.03218538, -0.43922394,  1.12762792],\n",
       "       [ 1.        , -0.78988966,  0.75196752, -0.43922394,  1.12762792],\n",
       "       [ 1.        ,  1.25982401,  0.09216722, -0.87849732, -0.88249141],\n",
       "       [ 1.        ,  1.25982401,  1.11185858,  0.64882245,  1.12762792],\n",
       "       [ 1.        , -0.78988966, -0.207742  , -0.55073179, -0.88249141],\n",
       "       [ 1.        , -0.78988966,  0.15214907, -0.65886063, -0.88249141],\n",
       "       [ 1.        , -0.78988966,  0.9918949 ,  0.04735581, -0.88249141],\n",
       "       [ 1.        ,  1.25982401,  1.83164072,  0.20954906, -0.88249141],\n",
       "       [ 1.        ,  1.25982401,  0.45205829, -0.43922394,  1.12762792],\n",
       "       [ 1.        ,  1.25982401, -0.7475786 , -0.11483744,  1.12762792],\n",
       "       [ 1.        , -0.78988966, -1.04748782, -0.71292504, -0.88249141],\n",
       "       [ 1.        , -0.78988966, -0.38768753,  1.62536097,  1.12762792],\n",
       "       [ 1.        , -0.78988966, -1.10746967, -0.65886063, -0.88249141],\n",
       "       [ 1.        , -0.78988966,  0.9918949 ,  3.36555938, -0.88249141],\n",
       "       [ 1.        , -0.78988966,  0.45205829, -0.11483744, -0.88249141],\n",
       "       [ 1.        ,  1.25982401,  1.89162257,  0.3953955 ,  1.12762792],\n",
       "       [ 1.        , -0.78988966,  0.81194936, -0.77036849, -0.88249141],\n",
       "       [ 1.        ,  1.25982401,  0.21213091, -0.65886063, -0.88249141],\n",
       "       [ 1.        , -0.78988966,  1.35178596,  0.10142023,  1.12762792],\n",
       "       [ 1.        , -0.78988966, -0.98750598, -0.43922394, -0.88249141],\n",
       "       [ 1.        ,  1.25982401, -0.02779646,  0.32105692,  1.12762792],\n",
       "       [ 1.        , -0.78988966,  0.3320946 , -0.87849732,  1.12762792],\n",
       "       [ 1.        , -0.78988966, -0.80756045, -0.87849732, -0.88249141],\n",
       "       [ 1.        ,  1.25982401,  0.93191305,  0.10142023,  1.12762792],\n",
       "       [ 1.        ,  1.25982401,  0.15214907, -0.11483744,  1.12762792],\n",
       "       [ 1.        , -0.78988966,  0.81194936, -0.76698946, -0.88249141],\n",
       "       [ 1.        ,  1.25982401, -1.04748782, -0.60479621, -0.88249141],\n",
       "       [ 1.        , -0.78988966,  1.17184043, -0.65886063, -0.88249141],\n",
       "       [ 1.        , -0.78988966,  0.09216722, -0.3310951 ,  1.12762792],\n",
       "       [ 1.        , -0.78988966, -1.16745151, -0.76698946, -0.88249141],\n",
       "       [ 1.        , -0.78988966, -0.44766938, -0.65886063, -0.88249141],\n",
       "       [ 1.        ,  1.25982401,  0.57202198,  0.91914453, -0.88249141],\n",
       "       [ 1.        , -0.78988966,  1.17184043,  2.277513  , -0.88249141],\n",
       "       [ 1.        , -0.78988966, -0.08777831, -0.95283589, -0.88249141],\n",
       "       [ 1.        ,  1.25982401,  1.47174965,  0.86508011,  1.12762792],\n",
       "       [ 1.        , -0.78988966,  0.75196752,  0.64544342,  1.12762792],\n",
       "       [ 1.        , -0.78988966,  0.63200383, -0.65886063, -0.88249141],\n",
       "       [ 1.        ,  1.25982401,  0.45205829, -0.65886063, -0.88249141],\n",
       "       [ 1.        , -0.78988966, -0.14776015,  0.75695128,  1.12762792],\n",
       "       [ 1.        , -0.78988966,  0.87193121, -0.0067086 ,  1.12762792],\n",
       "       [ 1.        , -0.78988966,  0.9918949 ,  0.32105692, -0.88249141],\n",
       "       [ 1.        , -0.78988966,  1.29180412, -0.3310951 ,  1.12762792],\n",
       "       [ 1.        , -0.78988966, -0.207742  , -0.93256174, -0.88249141],\n",
       "       [ 1.        , -0.78988966, -0.32770569, -0.77036849, -0.88249141],\n",
       "       [ 1.        , -0.78988966,  0.09216722, -0.49666738, -0.88249141],\n",
       "       [ 1.        ,  1.25982401,  1.17184043,  0.6420644 ,  1.12762792],\n",
       "       [ 1.        , -0.78988966, -0.44766938, -0.55073179,  1.12762792],\n",
       "       [ 1.        ,  1.25982401,  0.87193121,  1.67942539,  1.12762792],\n",
       "       [ 1.        , -0.78988966, -0.26772384, -0.71292504,  1.12762792],\n",
       "       [ 1.        , -0.78988966, -0.50765122, -0.55073179, -0.88249141],\n",
       "       [ 1.        , -0.78988966, -1.2874152 , -0.77036849, -0.88249141],\n",
       "       [ 1.        , -0.78988966, -0.62761491,  0.10142023,  1.12762792],\n",
       "       [ 1.        , -0.78988966, -1.70728812, -0.49666738,  1.12762792],\n",
       "       [ 1.        , -0.78988966,  0.3320946 , -0.8244329 , -0.88249141],\n",
       "       [ 1.        ,  1.25982401,  0.57202198, -0.93256174, -0.88249141],\n",
       "       [ 1.        ,  1.25982401,  1.05187674, -0.93256174, -0.88249141],\n",
       "       [ 1.        , -0.78988966, -1.04748782, -0.55073179, -0.88249141],\n",
       "       [ 1.        , -0.78988966,  0.51204014, -0.3310951 , -0.88249141],\n",
       "       [ 1.        , -0.78988966, -1.40737889, -0.71292504, -0.88249141],\n",
       "       [ 1.        ,  1.25982401,  0.69198567, -0.76698946, -0.88249141],\n",
       "       [ 1.        ,  1.25982401, -0.32770569,  1.40910331, -0.88249141],\n",
       "       [ 1.        ,  1.25982401,  0.57202198, -0.93256174, -0.88249141],\n",
       "       [ 1.        , -0.78988966, -1.22743336, -0.43922394, -0.88249141],\n",
       "       [ 1.        ,  1.25982401, -0.207742  , -0.43922394, -0.88249141],\n",
       "       [ 1.        , -0.78988966, -1.64730627, -0.55073179, -0.88249141],\n",
       "       [ 1.        ,  1.25982401, -0.207742  ,  1.08133778, -0.88249141],\n",
       "       [ 1.        , -0.78988966,  0.69198567, -0.8244329 , -0.88249141],\n",
       "       [ 1.        , -0.78988966, -0.98750598, -0.77036849, -0.88249141],\n",
       "       [ 1.        , -0.78988966,  0.3320946 ,  0.10142023,  1.12762792],\n",
       "       [ 1.        , -0.78988966, -0.92752413, -0.3310951 , -0.88249141],\n",
       "       [ 1.        ,  1.25982401,  0.09216722, -0.11483744, -0.88249141],\n",
       "       [ 1.        , -0.78988966,  0.51204014, -0.11483744,  1.12762792],\n",
       "       [ 1.        ,  1.25982401, -1.2874152 , -0.71292504, -0.88249141],\n",
       "       [ 1.        ,  1.25982401,  0.51204014, -0.71292504,  1.12762792],\n",
       "       [ 1.        , -0.78988966, -0.56763307, -0.87849732, -0.88249141],\n",
       "       [ 1.        , -0.78988966,  0.93191305,  0.10142023,  1.12762792],\n",
       "       [ 1.        , -0.78988966, -2.90692501, -0.06077302, -0.88249141],\n",
       "       [ 1.        ,  1.25982401,  0.45205829,  0.64882245,  1.12762792],\n",
       "       [ 1.        ,  1.25982401, -0.14776015, -0.43922394, -0.88249141],\n",
       "       [ 1.        , -0.78988966, -1.94721549, -0.76698946, -0.88249141],\n",
       "       [ 1.        , -0.78988966,  0.09216722, -0.49666738, -0.88249141],\n",
       "       [ 1.        , -0.78988966, -1.40737889, -0.76698946, -0.88249141],\n",
       "       [ 1.        ,  1.25982401,  0.21213091, -0.55073179,  1.12762792],\n",
       "       [ 1.        , -0.78988966,  0.45205829, -0.43922394, -0.88249141],\n",
       "       [ 1.        , -0.78988966, -0.38768753,  0.20954906, -0.88249141],\n",
       "       [ 1.        , -0.78988966, -0.62761491,  0.10142023, -0.88249141],\n",
       "       [ 1.        , -0.78988966, -1.10746967, -0.76698946, -0.88249141],\n",
       "       [ 1.        , -0.78988966,  0.21213091, -0.63858647, -0.88249141],\n",
       "       [ 1.        ,  1.25982401, -2.42707025,  1.40910331,  1.12762792],\n",
       "       [ 1.        , -0.78988966, -1.88723365, -0.55073179,  1.12762792],\n",
       "       [ 1.        ,  1.25982401, -0.38768753, -0.76698946, -0.88249141],\n",
       "       [ 1.        , -0.78988966, -0.207742  , -0.38515952, -0.88249141],\n",
       "       [ 1.        , -0.78988966, -1.04748782,  3.14930172,  1.12762792],\n",
       "       [ 1.        ,  1.25982401, -0.62761491,  1.73686883,  1.12762792],\n",
       "       [ 1.        , -0.78988966, -0.32770569, -0.71292504, -0.88249141],\n",
       "       [ 1.        , -0.78988966,  0.9918949 , -0.27703069, -0.88249141],\n",
       "       [ 1.        , -0.78988966, -0.02779646,  0.32105692, -0.88249141],\n",
       "       [ 1.        ,  1.25982401, -0.02779646, -0.76698946, -0.88249141],\n",
       "       [ 1.        , -0.78988966, -1.34739705, -0.3310951 ,  1.12762792],\n",
       "       [ 1.        ,  1.25982401, -1.82725181, -0.76698946, -0.88249141],\n",
       "       [ 1.        ,  1.25982401,  0.15214907, -0.27703069, -0.88249141],\n",
       "       [ 1.        , -0.78988966, -1.58732443, -0.3310951 ,  1.12762792],\n",
       "       [ 1.        , -0.78988966, -2.00719734, -0.60479621,  1.12762792],\n",
       "       [ 1.        ,  1.25982401, -1.40737889,  1.39896623,  1.12762792],\n",
       "       [ 1.        , -0.78988966, -0.7475786 ,  1.08133778, -0.88249141],\n",
       "       [ 1.        , -0.78988966, -0.62761491, -0.8244329 , -0.88249141],\n",
       "       [ 1.        , -0.78988966, -0.14776015, -0.22296627, -0.88249141],\n",
       "       [ 1.        , -0.78988966, -0.68759676, -0.0067086 , -0.88249141]])"
      ]
     },
     "execution_count": 29,
     "metadata": {},
     "output_type": "execute_result"
    }
   ],
   "source": [
    "censored_inputs"
   ]
  },
  {
   "cell_type": "code",
   "execution_count": null,
   "metadata": {},
   "outputs": [],
   "source": []
  }
 ],
 "metadata": {
  "kernelspec": {
   "display_name": "Python 3",
   "language": "python",
   "name": "python3"
  },
  "language_info": {
   "codemirror_mode": {
    "name": "ipython",
    "version": 3
   },
   "file_extension": ".py",
   "mimetype": "text/x-python",
   "name": "python",
   "nbconvert_exporter": "python",
   "pygments_lexer": "ipython3",
   "version": "3.7.1"
  }
 },
 "nbformat": 4,
 "nbformat_minor": 2
}
