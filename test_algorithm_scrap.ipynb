{
 "cells": [
  {
   "cell_type": "code",
   "execution_count": 1,
   "metadata": {},
   "outputs": [],
   "source": [
    "import pandas as pd\n",
    "import numpy as np\n",
    "from make_df import create_df, make_inputs\n",
    "from hardEM_0 import HEM_fit, HEM_predictions \n",
    "from naive import naive_fit, get_true_labels\n",
    "from sklearn.linear_model import LogisticRegression\n",
    "from sklearn.metrics import accuracy_score\n",
    "from sklearn.metrics import roc_auc_score\n",
    "import matplotlib.pyplot as plt\n",
    "\n",
    "\n",
    "\n"
   ]
  },
  {
   "cell_type": "code",
   "execution_count": 17,
   "metadata": {},
   "outputs": [],
   "source": [
    "#covariates = ['x1', 'x2', 'x3', 'x4', 'x5', 'x6', 'x7', 'x8', 'x9', 'x10']\n",
    "\n",
    "covariates = ['x1', 'x2', 'x3']\n",
    "\n",
    "#dist = [[3.7, 0.7], [5.1, 2.1], [4.75, 0.9], [10.5, 2.1], [8.75, 3.9], [5.7, 0.9], [3.75, 0.5], [9.75, 3.11], [2.11, 0.9], [7.7, 2.9]]\n",
    "\n",
    "dist = [[0, 1], [0, 1], [0, 1]]\n",
    "\n",
    "cols = ['censoring_indicator', 'cure_label']"
   ]
  },
  {
   "cell_type": "code",
   "execution_count": 3,
   "metadata": {},
   "outputs": [],
   "source": [
    "test_model_weights = np.array([-0.31462666, -0.43649021, -0.46716136,  0.2622172 ]) #np.random.uniform(-0.5,0.5,4)    #[0.5, -1.5, -1.3, 0.95]"
   ]
  },
  {
   "cell_type": "code",
   "execution_count": 4,
   "metadata": {},
   "outputs": [],
   "source": [
    "foo = create_df(covariates, dist, 200, test_model_weights, 0.5)"
   ]
  },
  {
   "cell_type": "code",
   "execution_count": 5,
   "metadata": {},
   "outputs": [
    {
     "data": {
      "text/html": [
       "<div>\n",
       "<style scoped>\n",
       "    .dataframe tbody tr th:only-of-type {\n",
       "        vertical-align: middle;\n",
       "    }\n",
       "\n",
       "    .dataframe tbody tr th {\n",
       "        vertical-align: top;\n",
       "    }\n",
       "\n",
       "    .dataframe thead th {\n",
       "        text-align: right;\n",
       "    }\n",
       "</style>\n",
       "<table border=\"1\" class=\"dataframe\">\n",
       "  <thead>\n",
       "    <tr style=\"text-align: right;\">\n",
       "      <th></th>\n",
       "      <th>x1</th>\n",
       "      <th>x2</th>\n",
       "      <th>x3</th>\n",
       "      <th>cure_label</th>\n",
       "      <th>int</th>\n",
       "      <th>censoring_indicator</th>\n",
       "    </tr>\n",
       "  </thead>\n",
       "  <tbody>\n",
       "    <tr>\n",
       "      <th>0</th>\n",
       "      <td>-0.581205</td>\n",
       "      <td>-0.055150</td>\n",
       "      <td>-0.183293</td>\n",
       "      <td>1.0</td>\n",
       "      <td>1</td>\n",
       "      <td>0</td>\n",
       "    </tr>\n",
       "    <tr>\n",
       "      <th>1</th>\n",
       "      <td>-0.773737</td>\n",
       "      <td>0.335992</td>\n",
       "      <td>0.280802</td>\n",
       "      <td>1.0</td>\n",
       "      <td>1</td>\n",
       "      <td>0</td>\n",
       "    </tr>\n",
       "    <tr>\n",
       "      <th>2</th>\n",
       "      <td>2.042512</td>\n",
       "      <td>1.229725</td>\n",
       "      <td>0.521166</td>\n",
       "      <td>1.0</td>\n",
       "      <td>1</td>\n",
       "      <td>1</td>\n",
       "    </tr>\n",
       "    <tr>\n",
       "      <th>3</th>\n",
       "      <td>-1.089770</td>\n",
       "      <td>-0.262968</td>\n",
       "      <td>-0.756843</td>\n",
       "      <td>0.0</td>\n",
       "      <td>1</td>\n",
       "      <td>0</td>\n",
       "    </tr>\n",
       "    <tr>\n",
       "      <th>4</th>\n",
       "      <td>-1.054018</td>\n",
       "      <td>-0.359361</td>\n",
       "      <td>0.902020</td>\n",
       "      <td>0.0</td>\n",
       "      <td>1</td>\n",
       "      <td>0</td>\n",
       "    </tr>\n",
       "  </tbody>\n",
       "</table>\n",
       "</div>"
      ],
      "text/plain": [
       "         x1        x2        x3  cure_label  int  censoring_indicator\n",
       "0 -0.581205 -0.055150 -0.183293         1.0    1                    0\n",
       "1 -0.773737  0.335992  0.280802         1.0    1                    0\n",
       "2  2.042512  1.229725  0.521166         1.0    1                    1\n",
       "3 -1.089770 -0.262968 -0.756843         0.0    1                    0\n",
       "4 -1.054018 -0.359361  0.902020         0.0    1                    0"
      ]
     },
     "execution_count": 5,
     "metadata": {},
     "output_type": "execute_result"
    }
   ],
   "source": [
    "foo.head()"
   ]
  },
  {
   "cell_type": "code",
   "execution_count": 6,
   "metadata": {},
   "outputs": [],
   "source": [
    "loo =foo[foo.censoring_indicator==0]"
   ]
  },
  {
   "cell_type": "code",
   "execution_count": 7,
   "metadata": {},
   "outputs": [
    {
     "data": {
      "text/plain": [
       "139"
      ]
     },
     "execution_count": 7,
     "metadata": {},
     "output_type": "execute_result"
    }
   ],
   "source": [
    "len(loo.index)"
   ]
  },
  {
   "cell_type": "code",
   "execution_count": 8,
   "metadata": {},
   "outputs": [
    {
     "data": {
      "text/plain": [
       "0.460431654676259"
      ]
     },
     "execution_count": 8,
     "metadata": {},
     "output_type": "execute_result"
    }
   ],
   "source": [
    "len(loo[loo.cure_label==0].index)/len(loo.index)"
   ]
  },
  {
   "cell_type": "code",
   "execution_count": 9,
   "metadata": {},
   "outputs": [],
   "source": [
    "censored_inputs = make_inputs(foo, 0, cols)\n",
    "\n",
    "noncensored_inputs = make_inputs(foo, 1, cols)"
   ]
  },
  {
   "cell_type": "code",
   "execution_count": 10,
   "metadata": {},
   "outputs": [],
   "source": [
    "fit = naive_fit(censored_inputs, noncensored_inputs, 'fifty_fifty')\n",
    "    \n"
   ]
  },
  {
   "cell_type": "code",
   "execution_count": 11,
   "metadata": {},
   "outputs": [],
   "source": [
    "y_true = get_true_labels(foo, ['censoring_indicator', 'cure_label'])"
   ]
  },
  {
   "cell_type": "code",
   "execution_count": 12,
   "metadata": {},
   "outputs": [
    {
     "data": {
      "text/plain": [
       "0.705"
      ]
     },
     "execution_count": 12,
     "metadata": {},
     "output_type": "execute_result"
    }
   ],
   "source": [
    "from sklearn.metrics import accuracy_score\n",
    "y_pred = fit['pred']\n",
    "\n",
    "accuracy_score(y_true, y_pred)\n",
    "\n"
   ]
  },
  {
   "cell_type": "code",
   "execution_count": 13,
   "metadata": {},
   "outputs": [],
   "source": [
    "y_scores = fit['prob']"
   ]
  },
  {
   "cell_type": "code",
   "execution_count": 14,
   "metadata": {},
   "outputs": [
    {
     "data": {
      "text/plain": [
       "<matplotlib.collections.PathCollection at 0x23385ee2d30>"
      ]
     },
     "execution_count": 14,
     "metadata": {},
     "output_type": "execute_result"
    },
    {
     "data": {
      "image/png": "[encoded data removed]",
      "text/plain": [
       "<Figure size 432x288 with 1 Axes>"
      ]
     },
     "metadata": {
      "needs_background": "light"
     },
     "output_type": "display_data"
    }
   ],
   "source": [
    "compi = pd.DataFrame({'true': y_true, 'pred': y_pred, 'score': y_scores})\n",
    "\n",
    "plt.scatter(compi['score'], compi['true'], s=5)"
   ]
  },
  {
   "cell_type": "code",
   "execution_count": 15,
   "metadata": {},
   "outputs": [
    {
     "data": {
      "text/plain": [
       "0.9608226102941176"
      ]
     },
     "execution_count": 15,
     "metadata": {},
     "output_type": "execute_result"
    }
   ],
   "source": [
    "#y_scores = fit['prob_not_cured']\n",
    "roc_auc_score(y_true, y_scores)"
   ]
  },
  {
   "cell_type": "code",
   "execution_count": 16,
   "metadata": {},
   "outputs": [],
   "source": [
    "total_inputs = np.concatenate((censored_inputs, noncensored_inputs), axis=0)\n",
    "\n",
    "new_df = pd.DataFrame.from_records(total_inputs)"
   ]
  },
  {
   "cell_type": "code",
   "execution_count": 15,
   "metadata": {},
   "outputs": [],
   "source": [
    "new_df['prob'] = y_scores\n",
    "\n",
    "new_df['cure_labels'] = y_true"
   ]
  },
  {
   "cell_type": "code",
   "execution_count": 16,
   "metadata": {},
   "outputs": [],
   "source": [
    "cured = new_df[new_df.cure_labels==0]\n",
    "\n",
    "not_cured = new_df[new_df.cure_labels==1]"
   ]
  },
  {
   "cell_type": "code",
   "execution_count": 17,
   "metadata": {},
   "outputs": [
    {
     "data": {
      "image/png": "[encoded data removed]",
      "text/plain": [
       "<Figure size 432x288 with 1 Axes>"
      ]
     },
     "metadata": {
      "needs_background": "light"
     },
     "output_type": "display_data"
    }
   ],
   "source": [
    "plt.xlabel('probability')\n",
    "plt.ylabel('actual outcomes')\n",
    "\n",
    "plt.hist(not_cured['prob'], bins=15, label='not cured', color='blue', alpha=0.25)\n",
    "plt.hist(cured['prob'], bins=15, label='cured', alpha=0.25)\n",
    "plt.legend(fontsize=15)\n",
    "\n",
    "plt.show()"
   ]
  },
  {
   "cell_type": "code",
   "execution_count": 18,
   "metadata": {},
   "outputs": [],
   "source": [
    "fit_n = naive_fit(censored_inputs, noncensored_inputs, 'censoring_rate')\n"
   ]
  },
  {
   "cell_type": "code",
   "execution_count": 19,
   "metadata": {},
   "outputs": [],
   "source": [
    "y_true_n = get_true_labels(foo, ['censoring_indicator', 'cure_label'])"
   ]
  },
  {
   "cell_type": "code",
   "execution_count": 20,
   "metadata": {},
   "outputs": [
    {
     "data": {
      "text/plain": [
       "0.81"
      ]
     },
     "execution_count": 20,
     "metadata": {},
     "output_type": "execute_result"
    }
   ],
   "source": [
    "y_pred_n = fit['pred']\n",
    "\n",
    "accuracy_score(y_true_n, y_pred_n)"
   ]
  },
  {
   "cell_type": "code",
   "execution_count": 21,
   "metadata": {},
   "outputs": [],
   "source": [
    "y_scores_n = fit_n['prob']"
   ]
  },
  {
   "cell_type": "code",
   "execution_count": 22,
   "metadata": {},
   "outputs": [
    {
     "data": {
      "text/plain": [
       "1.0"
      ]
     },
     "execution_count": 22,
     "metadata": {},
     "output_type": "execute_result"
    }
   ],
   "source": [
    "roc_auc_score(y_true_n, y_scores_n)"
   ]
  },
  {
   "cell_type": "code",
   "execution_count": 14,
   "metadata": {},
   "outputs": [
    {
     "data": {
      "text/plain": [
       "(2, 3)"
      ]
     },
     "execution_count": 14,
     "metadata": {},
     "output_type": "execute_result"
    }
   ],
   "source": [
    "x = np.array([[1,0.2,0.3], [1,0.6,0.7]])\n",
    "\n",
    "x.shape"
   ]
  },
  {
   "cell_type": "code",
   "execution_count": null,
   "metadata": {},
   "outputs": [],
   "source": []
  },
  {
   "cell_type": "code",
   "execution_count": 24,
   "metadata": {},
   "outputs": [],
   "source": [
    "fit0 = HEM_fit(censored_inputs, noncensored_inputs, 0.5, 1000, 'use_random')"
   ]
  },
  {
   "cell_type": "code",
   "execution_count": 25,
   "metadata": {},
   "outputs": [],
   "source": [
    "weights = fit0['model_weights']"
   ]
  },
  {
   "cell_type": "code",
   "execution_count": 27,
   "metadata": {},
   "outputs": [
    {
     "data": {
      "text/plain": [
       "array([-2.59696043e+00, -1.51651909e-02, -1.17341549e-02,  1.55177863e-03])"
      ]
     },
     "execution_count": 27,
     "metadata": {},
     "output_type": "execute_result"
    }
   ],
   "source": [
    "weights"
   ]
  },
  {
   "cell_type": "code",
   "execution_count": 28,
   "metadata": {},
   "outputs": [
    {
     "data": {
      "text/plain": [
       "0.25143404356392435"
      ]
     },
     "execution_count": 28,
     "metadata": {},
     "output_type": "execute_result"
    }
   ],
   "source": [
    "fit0['minvalue']"
   ]
  },
  {
   "cell_type": "code",
   "execution_count": 29,
   "metadata": {},
   "outputs": [
    {
     "data": {
      "text/plain": [
       "0.6921320701572322"
      ]
     },
     "execution_count": 29,
     "metadata": {},
     "output_type": "execute_result"
    }
   ],
   "source": [
    "fit0['maxvalue']"
   ]
  },
  {
   "cell_type": "code",
   "execution_count": 30,
   "metadata": {},
   "outputs": [],
   "source": [
    "predictions = HEM_predictions(weights, foo, covariates)"
   ]
  },
  {
   "cell_type": "code",
   "execution_count": 31,
   "metadata": {},
   "outputs": [
    {
     "data": {
      "text/plain": [
       "0.715"
      ]
     },
     "execution_count": 31,
     "metadata": {},
     "output_type": "execute_result"
    }
   ],
   "source": [
    "\n",
    "y_pred0 = predictions['pred']\n",
    "y_true0 = foo['cure_label']\n",
    "\n",
    "y_scores0 = predictions['prob']\n",
    "\n",
    "\n",
    "accuracy_score(y_true0, y_pred0)"
   ]
  },
  {
   "cell_type": "code",
   "execution_count": 32,
   "metadata": {},
   "outputs": [],
   "source": [
    "comp = pd.DataFrame({'true': y_true0, 'prob': y_scores0})\n",
    "\n"
   ]
  },
  {
   "cell_type": "code",
   "execution_count": 33,
   "metadata": {},
   "outputs": [
    {
     "data": {
      "text/plain": [
       "<matplotlib.collections.PathCollection at 0x262bfc24710>"
      ]
     },
     "execution_count": 33,
     "metadata": {},
     "output_type": "execute_result"
    },
    {
     "data": {
      "image/png": "[encoded data removed]",
      "text/plain": [
       "<Figure size 432x288 with 1 Axes>"
      ]
     },
     "metadata": {
      "needs_background": "light"
     },
     "output_type": "display_data"
    }
   ],
   "source": [
    "plt.scatter(comp['prob'], comp['true'], s=5)"
   ]
  },
  {
   "cell_type": "code",
   "execution_count": 34,
   "metadata": {},
   "outputs": [],
   "source": [
    "foo['prob0'] = y_scores0"
   ]
  },
  {
   "cell_type": "code",
   "execution_count": 35,
   "metadata": {},
   "outputs": [],
   "source": [
    "not_cured0 = foo[foo.cure_label==1]\n",
    "\n",
    "cured0 = foo[foo.cure_label==0]\n",
    "\n",
    "#not_cured0"
   ]
  },
  {
   "cell_type": "code",
   "execution_count": 36,
   "metadata": {},
   "outputs": [
    {
     "data": {
      "image/png": "[encoded data removed]",
      "text/plain": [
       "<Figure size 432x288 with 1 Axes>"
      ]
     },
     "metadata": {
      "needs_background": "light"
     },
     "output_type": "display_data"
    }
   ],
   "source": [
    "plt.xlabel('probability')\n",
    "plt.ylabel('actual outcomes')\n",
    "\n",
    "plt.hist(not_cured0['prob0'], bins=15, label='not cured', color='blue', alpha=0.25)\n",
    "plt.hist(cured0['prob0'], bins=15, label='cured', alpha=0.25)\n",
    "plt.legend(fontsize=15)\n",
    "\n",
    "plt.show()"
   ]
  },
  {
   "cell_type": "code",
   "execution_count": 37,
   "metadata": {},
   "outputs": [
    {
     "data": {
      "text/plain": [
       "0.9321555637345111"
      ]
     },
     "execution_count": 37,
     "metadata": {},
     "output_type": "execute_result"
    }
   ],
   "source": [
    "from sklearn.metrics import roc_auc_score\n",
    "\n",
    "y_scores0 = predictions['prob']\n",
    "roc_auc_score(y_true0, y_scores0)"
   ]
  },
  {
   "cell_type": "code",
   "execution_count": 19,
   "metadata": {},
   "outputs": [
    {
     "data": {
      "text/plain": [
       "Index(['x1', 'x2', 'x3', 'cure_label', 'int', 'censoring_indicator', 'prob0'], dtype='object')"
      ]
     },
     "execution_count": 19,
     "metadata": {},
     "output_type": "execute_result"
    }
   ],
   "source": [
    "foo.columns"
   ]
  },
  {
   "cell_type": "code",
   "execution_count": 34,
   "metadata": {},
   "outputs": [],
   "source": [
    "extra0 = pd.DataFrame([[0.1,0.1,0.1,0,1,0]],columns = ['x1', 'x2', 'x3', 'cure_label', 'int', 'censoring_indicator'])"
   ]
  },
  {
   "cell_type": "code",
   "execution_count": 35,
   "metadata": {},
   "outputs": [],
   "source": [
    "extra1 = pd.DataFrame([[0.1,0.1,0.1,1,1,1]],columns = ['x1', 'x2', 'x3', 'cure_label', 'int', 'censoring_indicator'])"
   ]
  },
  {
   "cell_type": "code",
   "execution_count": 36,
   "metadata": {},
   "outputs": [
    {
     "data": {
      "text/html": [
       "<div>\n",
       "<style scoped>\n",
       "    .dataframe tbody tr th:only-of-type {\n",
       "        vertical-align: middle;\n",
       "    }\n",
       "\n",
       "    .dataframe tbody tr th {\n",
       "        vertical-align: top;\n",
       "    }\n",
       "\n",
       "    .dataframe thead th {\n",
       "        text-align: right;\n",
       "    }\n",
       "</style>\n",
       "<table border=\"1\" class=\"dataframe\">\n",
       "  <thead>\n",
       "    <tr style=\"text-align: right;\">\n",
       "      <th></th>\n",
       "      <th>x1</th>\n",
       "      <th>x2</th>\n",
       "      <th>x3</th>\n",
       "      <th>cure_label</th>\n",
       "      <th>int</th>\n",
       "      <th>censoring_indicator</th>\n",
       "    </tr>\n",
       "  </thead>\n",
       "  <tbody>\n",
       "    <tr>\n",
       "      <th>0</th>\n",
       "      <td>0.1</td>\n",
       "      <td>0.1</td>\n",
       "      <td>0.1</td>\n",
       "      <td>0</td>\n",
       "      <td>1</td>\n",
       "      <td>0</td>\n",
       "    </tr>\n",
       "  </tbody>\n",
       "</table>\n",
       "</div>"
      ],
      "text/plain": [
       "    x1   x2   x3  cure_label  int  censoring_indicator\n",
       "0  0.1  0.1  0.1           0    1                    0"
      ]
     },
     "execution_count": 36,
     "metadata": {},
     "output_type": "execute_result"
    }
   ],
   "source": [
    "extra0"
   ]
  },
  {
   "cell_type": "code",
   "execution_count": 37,
   "metadata": {},
   "outputs": [
    {
     "data": {
      "text/html": [
       "<div>\n",
       "<style scoped>\n",
       "    .dataframe tbody tr th:only-of-type {\n",
       "        vertical-align: middle;\n",
       "    }\n",
       "\n",
       "    .dataframe tbody tr th {\n",
       "        vertical-align: top;\n",
       "    }\n",
       "\n",
       "    .dataframe thead th {\n",
       "        text-align: right;\n",
       "    }\n",
       "</style>\n",
       "<table border=\"1\" class=\"dataframe\">\n",
       "  <thead>\n",
       "    <tr style=\"text-align: right;\">\n",
       "      <th></th>\n",
       "      <th>x1</th>\n",
       "      <th>x2</th>\n",
       "      <th>x3</th>\n",
       "      <th>cure_label</th>\n",
       "      <th>int</th>\n",
       "      <th>censoring_indicator</th>\n",
       "    </tr>\n",
       "  </thead>\n",
       "  <tbody>\n",
       "    <tr>\n",
       "      <th>0</th>\n",
       "      <td>0.1</td>\n",
       "      <td>0.1</td>\n",
       "      <td>0.1</td>\n",
       "      <td>1</td>\n",
       "      <td>1</td>\n",
       "      <td>1</td>\n",
       "    </tr>\n",
       "  </tbody>\n",
       "</table>\n",
       "</div>"
      ],
      "text/plain": [
       "    x1   x2   x3  cure_label  int  censoring_indicator\n",
       "0  0.1  0.1  0.1           1    1                    1"
      ]
     },
     "execution_count": 37,
     "metadata": {},
     "output_type": "execute_result"
    }
   ],
   "source": [
    "extra1"
   ]
  },
  {
   "cell_type": "code",
   "execution_count": 38,
   "metadata": {},
   "outputs": [],
   "source": [
    "extra = pd.concat([extra0, extra1])"
   ]
  },
  {
   "cell_type": "code",
   "execution_count": 2,
   "metadata": {},
   "outputs": [
    {
     "data": {
      "text/plain": [
       "array([0.1, 0.2, 0.3, 0.4, 0.5, 0.6, 0.7, 0.8, 0.9, 1. ])"
      ]
     },
     "execution_count": 2,
     "metadata": {},
     "output_type": "execute_result"
    }
   ],
   "source": [
    "probs = np.arange(0.1,1.1,0.1)\n",
    "\n",
    "probs"
   ]
  },
  {
   "cell_type": "code",
   "execution_count": 32,
   "metadata": {},
   "outputs": [
    {
     "ename": "ValueError",
     "evalue": "The truth value of an array with more than one element is ambiguous. Use a.any() or a.all()",
     "output_type": "error",
     "traceback": [
      "\u001b[1;31m---------------------------------------------------------------------------\u001b[0m",
      "\u001b[1;31mValueError\u001b[0m                                Traceback (most recent call last)",
      "\u001b[1;32m<ipython-input-32-71fc0dd37881>\u001b[0m in \u001b[0;36m<module>\u001b[1;34m\u001b[0m\n\u001b[0;32m      5\u001b[0m \u001b[0mcols\u001b[0m \u001b[1;33m=\u001b[0m \u001b[1;33m[\u001b[0m\u001b[1;34m'censoring_indicator'\u001b[0m\u001b[1;33m,\u001b[0m \u001b[1;34m'cure_label'\u001b[0m\u001b[1;33m]\u001b[0m\u001b[1;33m\u001b[0m\u001b[1;33m\u001b[0m\u001b[0m\n\u001b[0;32m      6\u001b[0m \u001b[1;33m\u001b[0m\u001b[0m\n\u001b[1;32m----> 7\u001b[1;33m \u001b[1;32mfor\u001b[0m \u001b[0mtest_model_weights\u001b[0m \u001b[1;32min\u001b[0m \u001b[0mr_weights\u001b[0m \u001b[1;32mand\u001b[0m \u001b[0mp\u001b[0m \u001b[1;32min\u001b[0m \u001b[0mprobs\u001b[0m\u001b[1;33m:\u001b[0m\u001b[1;33m\u001b[0m\u001b[1;33m\u001b[0m\u001b[0m\n\u001b[0m\u001b[0;32m      8\u001b[0m \u001b[1;33m\u001b[0m\u001b[0m\n\u001b[0;32m      9\u001b[0m     \u001b[0mfoo\u001b[0m \u001b[1;33m=\u001b[0m \u001b[0mcreate_df\u001b[0m\u001b[1;33m(\u001b[0m\u001b[0mcovariates\u001b[0m\u001b[1;33m,\u001b[0m \u001b[0mdist\u001b[0m\u001b[1;33m,\u001b[0m \u001b[1;36m150\u001b[0m\u001b[1;33m,\u001b[0m \u001b[0mtest_model_weights\u001b[0m\u001b[1;33m,\u001b[0m \u001b[0mp\u001b[0m\u001b[1;33m)\u001b[0m\u001b[1;33m\u001b[0m\u001b[1;33m\u001b[0m\u001b[0m\n",
      "\u001b[1;31mValueError\u001b[0m: The truth value of an array with more than one element is ambiguous. Use a.any() or a.all()"
     ]
    }
   ],
   "source": [
    "r_weights = np.random.uniform(-0.5,0.5,(10,4))\n",
    "scores = []\n",
    "covariates = ['x1', 'x2', 'x3']\n",
    "dist = [[0, 1], [0, 1], [0, 1]]\n",
    "cols = ['censoring_indicator', 'cure_label']\n",
    "\n",
    "for test_model_weights in r_weights:\n",
    "    \n",
    "    foo = create_df(covariates, dist, 150, test_model_weights, 0.5)\n",
    "    \n",
    "    foo = pd.concat([foo, extra])\n",
    "    \n",
    "    censored_inputs = make_inputs(foo, 0, cols)\n",
    "\n",
    "    noncensored_inputs = make_inputs(foo, 1, cols)\n",
    "    \n",
    "    \n",
    "    #fit = HEM_fit(censored_inputs, noncensored_inputs, 0.5, 1000, 'use_random')\n",
    "    \n",
    "    #weights = fit['model_weights']\n",
    "    \n",
    "    #predictions = HEM_predictions(weights, foo, covariates)\n",
    "    \n",
    "    #y_pred = predictions['pred']\n",
    "    \n",
    "    #y_true = foo['cure_label']\n",
    "    \n",
    "    #y_scores = predictions['prob']\n",
    "    \n",
    "    fit = naive_fit(censored_inputs, noncensored_inputs, 'use_HardEM')    \n",
    "    \n",
    "    y_pred = fit['pred']\n",
    "    \n",
    "    y_true = get_true_labels(foo, ['censoring_indicator', 'cure_label'])\n",
    "    \n",
    "    y_scores = fit['prob']\n",
    "    \n",
    "    hard_acc = accuracy_score(y_true, y_pred)\n",
    "    \n",
    "    hard_auc = roc_auc_score(y_true, y_scores)\n",
    "    \n",
    "    fit_naive = naive_fit(censored_inputs, noncensored_inputs, 'fifty_fifty')\n",
    "    \n",
    "    y_pred_naive = fit_naive['pred']\n",
    "    \n",
    "    y_true_naive = get_true_labels(foo, ['censoring_indicator', 'cure_label'])\n",
    "    \n",
    "    y_scores_naive = fit_naive['prob']\n",
    "    \n",
    "    naive_acc = accuracy_score(y_true_naive, y_pred_naive)\n",
    "    \n",
    "    naive_auc = roc_auc_score(y_true_naive, y_scores_naive)\n",
    "    \n",
    "\n",
    "    scores.append([hard_auc, naive_auc, hard_acc, naive_acc ])\n",
    "    \n",
    "new_df = pd.DataFrame(columns=['HardEM_auc', 'NaiveEM_auc', 'HardEM_acc', 'NaiveEM_acc'], data=scores)"
   ]
  },
  {
   "cell_type": "code",
   "execution_count": 79,
   "metadata": {},
   "outputs": [
    {
     "data": {
      "text/html": [
       "<div>\n",
       "<style scoped>\n",
       "    .dataframe tbody tr th:only-of-type {\n",
       "        vertical-align: middle;\n",
       "    }\n",
       "\n",
       "    .dataframe tbody tr th {\n",
       "        vertical-align: top;\n",
       "    }\n",
       "\n",
       "    .dataframe thead th {\n",
       "        text-align: right;\n",
       "    }\n",
       "</style>\n",
       "<table border=\"1\" class=\"dataframe\">\n",
       "  <thead>\n",
       "    <tr style=\"text-align: right;\">\n",
       "      <th></th>\n",
       "      <th>HardEM_auc</th>\n",
       "      <th>NaiveEM_auc</th>\n",
       "      <th>HardEM_acc</th>\n",
       "      <th>NaiveEM_acc</th>\n",
       "    </tr>\n",
       "  </thead>\n",
       "  <tbody>\n",
       "    <tr>\n",
       "      <th>0</th>\n",
       "      <td>0.853431</td>\n",
       "      <td>0.912843</td>\n",
       "      <td>0.782895</td>\n",
       "      <td>0.730263</td>\n",
       "    </tr>\n",
       "    <tr>\n",
       "      <th>1</th>\n",
       "      <td>0.941783</td>\n",
       "      <td>0.939336</td>\n",
       "      <td>0.894737</td>\n",
       "      <td>0.631579</td>\n",
       "    </tr>\n",
       "    <tr>\n",
       "      <th>2</th>\n",
       "      <td>0.978365</td>\n",
       "      <td>0.821250</td>\n",
       "      <td>0.736842</td>\n",
       "      <td>0.657895</td>\n",
       "    </tr>\n",
       "    <tr>\n",
       "      <th>3</th>\n",
       "      <td>0.932134</td>\n",
       "      <td>0.969381</td>\n",
       "      <td>0.809211</td>\n",
       "      <td>0.901316</td>\n",
       "    </tr>\n",
       "    <tr>\n",
       "      <th>4</th>\n",
       "      <td>0.675599</td>\n",
       "      <td>0.808061</td>\n",
       "      <td>0.881579</td>\n",
       "      <td>0.888158</td>\n",
       "    </tr>\n",
       "    <tr>\n",
       "      <th>5</th>\n",
       "      <td>0.986867</td>\n",
       "      <td>0.832483</td>\n",
       "      <td>0.894737</td>\n",
       "      <td>0.453947</td>\n",
       "    </tr>\n",
       "    <tr>\n",
       "      <th>6</th>\n",
       "      <td>0.959746</td>\n",
       "      <td>0.861042</td>\n",
       "      <td>0.782895</td>\n",
       "      <td>0.822368</td>\n",
       "    </tr>\n",
       "    <tr>\n",
       "      <th>7</th>\n",
       "      <td>0.981838</td>\n",
       "      <td>0.886600</td>\n",
       "      <td>0.855263</td>\n",
       "      <td>0.309211</td>\n",
       "    </tr>\n",
       "    <tr>\n",
       "      <th>8</th>\n",
       "      <td>0.965783</td>\n",
       "      <td>0.911729</td>\n",
       "      <td>0.881579</td>\n",
       "      <td>0.723684</td>\n",
       "    </tr>\n",
       "    <tr>\n",
       "      <th>9</th>\n",
       "      <td>0.956197</td>\n",
       "      <td>0.966575</td>\n",
       "      <td>0.907895</td>\n",
       "      <td>0.467105</td>\n",
       "    </tr>\n",
       "    <tr>\n",
       "      <th>10</th>\n",
       "      <td>0.526490</td>\n",
       "      <td>0.473510</td>\n",
       "      <td>0.164474</td>\n",
       "      <td>0.282895</td>\n",
       "    </tr>\n",
       "    <tr>\n",
       "      <th>11</th>\n",
       "      <td>0.984606</td>\n",
       "      <td>0.948414</td>\n",
       "      <td>0.822368</td>\n",
       "      <td>0.756579</td>\n",
       "    </tr>\n",
       "    <tr>\n",
       "      <th>12</th>\n",
       "      <td>0.500000</td>\n",
       "      <td>0.612583</td>\n",
       "      <td>0.993421</td>\n",
       "      <td>0.993421</td>\n",
       "    </tr>\n",
       "    <tr>\n",
       "      <th>13</th>\n",
       "      <td>0.998320</td>\n",
       "      <td>0.980990</td>\n",
       "      <td>0.947368</td>\n",
       "      <td>0.572368</td>\n",
       "    </tr>\n",
       "    <tr>\n",
       "      <th>14</th>\n",
       "      <td>0.985677</td>\n",
       "      <td>0.902344</td>\n",
       "      <td>0.796053</td>\n",
       "      <td>0.756579</td>\n",
       "    </tr>\n",
       "    <tr>\n",
       "      <th>15</th>\n",
       "      <td>0.994349</td>\n",
       "      <td>0.994697</td>\n",
       "      <td>0.861842</td>\n",
       "      <td>0.631579</td>\n",
       "    </tr>\n",
       "    <tr>\n",
       "      <th>16</th>\n",
       "      <td>0.892840</td>\n",
       "      <td>0.793942</td>\n",
       "      <td>0.855263</td>\n",
       "      <td>0.565789</td>\n",
       "    </tr>\n",
       "    <tr>\n",
       "      <th>17</th>\n",
       "      <td>0.972538</td>\n",
       "      <td>0.921822</td>\n",
       "      <td>0.927632</td>\n",
       "      <td>0.756579</td>\n",
       "    </tr>\n",
       "    <tr>\n",
       "      <th>18</th>\n",
       "      <td>0.955032</td>\n",
       "      <td>0.904617</td>\n",
       "      <td>0.625000</td>\n",
       "      <td>0.625000</td>\n",
       "    </tr>\n",
       "    <tr>\n",
       "      <th>19</th>\n",
       "      <td>0.880708</td>\n",
       "      <td>0.822489</td>\n",
       "      <td>0.967105</td>\n",
       "      <td>0.500000</td>\n",
       "    </tr>\n",
       "  </tbody>\n",
       "</table>\n",
       "</div>"
      ],
      "text/plain": [
       "    HardEM_auc  NaiveEM_auc  HardEM_acc  NaiveEM_acc\n",
       "0     0.853431     0.912843    0.782895     0.730263\n",
       "1     0.941783     0.939336    0.894737     0.631579\n",
       "2     0.978365     0.821250    0.736842     0.657895\n",
       "3     0.932134     0.969381    0.809211     0.901316\n",
       "4     0.675599     0.808061    0.881579     0.888158\n",
       "5     0.986867     0.832483    0.894737     0.453947\n",
       "6     0.959746     0.861042    0.782895     0.822368\n",
       "7     0.981838     0.886600    0.855263     0.309211\n",
       "8     0.965783     0.911729    0.881579     0.723684\n",
       "9     0.956197     0.966575    0.907895     0.467105\n",
       "10    0.526490     0.473510    0.164474     0.282895\n",
       "11    0.984606     0.948414    0.822368     0.756579\n",
       "12    0.500000     0.612583    0.993421     0.993421\n",
       "13    0.998320     0.980990    0.947368     0.572368\n",
       "14    0.985677     0.902344    0.796053     0.756579\n",
       "15    0.994349     0.994697    0.861842     0.631579\n",
       "16    0.892840     0.793942    0.855263     0.565789\n",
       "17    0.972538     0.921822    0.927632     0.756579\n",
       "18    0.955032     0.904617    0.625000     0.625000\n",
       "19    0.880708     0.822489    0.967105     0.500000"
      ]
     },
     "execution_count": 79,
     "metadata": {},
     "output_type": "execute_result"
    }
   ],
   "source": [
    "new_df"
   ]
  },
  {
   "cell_type": "code",
   "execution_count": 80,
   "metadata": {},
   "outputs": [
    {
     "data": {
      "text/plain": [
       "14"
      ]
     },
     "execution_count": 80,
     "metadata": {},
     "output_type": "execute_result"
    }
   ],
   "source": [
    "len(new_df[new_df['HardEM_auc']-new_df['NaiveEM_auc']>0].index)"
   ]
  },
  {
   "cell_type": "code",
   "execution_count": null,
   "metadata": {},
   "outputs": [],
   "source": [
    "'use_HardEM'"
   ]
  },
  {
   "cell_type": "code",
   "execution_count": 40,
   "metadata": {},
   "outputs": [],
   "source": [
    "r_weights = np.random.uniform(-0.5,0.5,(10,4))\n",
    "scores = []\n",
    "covariates = ['x1', 'x2', 'x3']\n",
    "dist = [[0, 1], [0, 1], [0, 1]]\n",
    "cols = ['censoring_indicator', 'cure_label']\n",
    "\n",
    "for test_model_weights in r_weights: \n",
    "    \n",
    "    for p in probs:\n",
    "    \n",
    "        foo = create_df(covariates, dist, 150, test_model_weights, p)\n",
    "    \n",
    "        foo = pd.concat([foo, extra])\n",
    "    \n",
    "        censored_inputs = make_inputs(foo, 0, cols)\n",
    "\n",
    "        noncensored_inputs = make_inputs(foo, 1, cols)\n",
    "    \n",
    "    \n",
    "    #fit = HEM_fit(censored_inputs, noncensored_inputs, 0.5, 1000, 'use_random')\n",
    "    \n",
    "    #weights = fit['model_weights']\n",
    "    \n",
    "    #predictions = HEM_predictions(weights, foo, covariates)\n",
    "    \n",
    "    #y_pred = predictions['pred']\n",
    "    \n",
    "    #y_true = foo['cure_label']\n",
    "    \n",
    "    #y_scores = predictions['prob']\n",
    "    \n",
    "        fit = naive_fit(censored_inputs, noncensored_inputs, 'use_HardEM')    \n",
    "    \n",
    "        y_pred = fit['pred']\n",
    "    \n",
    "        y_true = get_true_labels(foo, ['censoring_indicator', 'cure_label'])\n",
    "    \n",
    "        y_scores = fit['prob']\n",
    "    \n",
    "        hard_acc = accuracy_score(y_true, y_pred)\n",
    "    \n",
    "        hard_auc = roc_auc_score(y_true, y_scores)\n",
    "    \n",
    "        fit_naive = naive_fit(censored_inputs, noncensored_inputs, 'fifty_fifty')\n",
    "    \n",
    "        y_pred_naive = fit_naive['pred']\n",
    "    \n",
    "        y_true_naive = get_true_labels(foo, ['censoring_indicator', 'cure_label'])\n",
    "    \n",
    "        y_scores_naive = fit_naive['prob']\n",
    "    \n",
    "        naive_acc = accuracy_score(y_true_naive, y_pred_naive)\n",
    "    \n",
    "        naive_auc = roc_auc_score(y_true_naive, y_scores_naive)\n",
    "    \n",
    "\n",
    "        scores.append([hard_auc, naive_auc, hard_acc, naive_acc ])\n",
    "    \n",
    "new_df = pd.DataFrame(columns=['HardEM_auc', 'NaiveEM_auc', 'HardEM_acc', 'NaiveEM_acc'], data=scores)"
   ]
  },
  {
   "cell_type": "code",
   "execution_count": 41,
   "metadata": {},
   "outputs": [
    {
     "data": {
      "text/html": [
       "<div>\n",
       "<style scoped>\n",
       "    .dataframe tbody tr th:only-of-type {\n",
       "        vertical-align: middle;\n",
       "    }\n",
       "\n",
       "    .dataframe tbody tr th {\n",
       "        vertical-align: top;\n",
       "    }\n",
       "\n",
       "    .dataframe thead th {\n",
       "        text-align: right;\n",
       "    }\n",
       "</style>\n",
       "<table border=\"1\" class=\"dataframe\">\n",
       "  <thead>\n",
       "    <tr style=\"text-align: right;\">\n",
       "      <th></th>\n",
       "      <th>HardEM_auc</th>\n",
       "      <th>NaiveEM_auc</th>\n",
       "      <th>HardEM_acc</th>\n",
       "      <th>NaiveEM_acc</th>\n",
       "    </tr>\n",
       "  </thead>\n",
       "  <tbody>\n",
       "    <tr>\n",
       "      <th>0</th>\n",
       "      <td>0.991635</td>\n",
       "      <td>0.972019</td>\n",
       "      <td>0.927632</td>\n",
       "      <td>0.500000</td>\n",
       "    </tr>\n",
       "    <tr>\n",
       "      <th>1</th>\n",
       "      <td>0.994697</td>\n",
       "      <td>0.998348</td>\n",
       "      <td>0.967105</td>\n",
       "      <td>0.657895</td>\n",
       "    </tr>\n",
       "    <tr>\n",
       "      <th>2</th>\n",
       "      <td>0.991859</td>\n",
       "      <td>0.945641</td>\n",
       "      <td>0.907895</td>\n",
       "      <td>0.651316</td>\n",
       "    </tr>\n",
       "    <tr>\n",
       "      <th>3</th>\n",
       "      <td>0.998512</td>\n",
       "      <td>0.981005</td>\n",
       "      <td>0.848684</td>\n",
       "      <td>0.605263</td>\n",
       "    </tr>\n",
       "    <tr>\n",
       "      <th>4</th>\n",
       "      <td>0.923519</td>\n",
       "      <td>0.982051</td>\n",
       "      <td>0.828947</td>\n",
       "      <td>0.480263</td>\n",
       "    </tr>\n",
       "    <tr>\n",
       "      <th>...</th>\n",
       "      <td>...</td>\n",
       "      <td>...</td>\n",
       "      <td>...</td>\n",
       "      <td>...</td>\n",
       "    </tr>\n",
       "    <tr>\n",
       "      <th>95</th>\n",
       "      <td>0.659994</td>\n",
       "      <td>0.777506</td>\n",
       "      <td>0.730263</td>\n",
       "      <td>0.828947</td>\n",
       "    </tr>\n",
       "    <tr>\n",
       "      <th>96</th>\n",
       "      <td>0.505040</td>\n",
       "      <td>0.481423</td>\n",
       "      <td>0.789474</td>\n",
       "      <td>0.802632</td>\n",
       "    </tr>\n",
       "    <tr>\n",
       "      <th>97</th>\n",
       "      <td>0.575974</td>\n",
       "      <td>0.806140</td>\n",
       "      <td>0.315789</td>\n",
       "      <td>0.809211</td>\n",
       "    </tr>\n",
       "    <tr>\n",
       "      <th>98</th>\n",
       "      <td>0.688743</td>\n",
       "      <td>0.928716</td>\n",
       "      <td>0.269737</td>\n",
       "      <td>0.888158</td>\n",
       "    </tr>\n",
       "    <tr>\n",
       "      <th>99</th>\n",
       "      <td>0.480632</td>\n",
       "      <td>0.890788</td>\n",
       "      <td>0.835526</td>\n",
       "      <td>0.171053</td>\n",
       "    </tr>\n",
       "  </tbody>\n",
       "</table>\n",
       "<p>100 rows × 4 columns</p>\n",
       "</div>"
      ],
      "text/plain": [
       "    HardEM_auc  NaiveEM_auc  HardEM_acc  NaiveEM_acc\n",
       "0     0.991635     0.972019    0.927632     0.500000\n",
       "1     0.994697     0.998348    0.967105     0.657895\n",
       "2     0.991859     0.945641    0.907895     0.651316\n",
       "3     0.998512     0.981005    0.848684     0.605263\n",
       "4     0.923519     0.982051    0.828947     0.480263\n",
       "..         ...          ...         ...          ...\n",
       "95    0.659994     0.777506    0.730263     0.828947\n",
       "96    0.505040     0.481423    0.789474     0.802632\n",
       "97    0.575974     0.806140    0.315789     0.809211\n",
       "98    0.688743     0.928716    0.269737     0.888158\n",
       "99    0.480632     0.890788    0.835526     0.171053\n",
       "\n",
       "[100 rows x 4 columns]"
      ]
     },
     "execution_count": 41,
     "metadata": {},
     "output_type": "execute_result"
    }
   ],
   "source": [
    "new_df"
   ]
  },
  {
   "cell_type": "code",
   "execution_count": 42,
   "metadata": {},
   "outputs": [
    {
     "data": {
      "text/plain": [
       "62"
      ]
     },
     "execution_count": 42,
     "metadata": {},
     "output_type": "execute_result"
    }
   ],
   "source": [
    "len(new_df[new_df['HardEM_auc']-new_df['NaiveEM_auc']>0].index)"
   ]
  },
  {
   "cell_type": "code",
   "execution_count": 43,
   "metadata": {},
   "outputs": [
    {
     "data": {
      "text/plain": [
       "70"
      ]
     },
     "execution_count": 43,
     "metadata": {},
     "output_type": "execute_result"
    }
   ],
   "source": [
    "len(new_df[new_df['HardEM_acc']-new_df['NaiveEM_acc']>0].index)"
   ]
  },
  {
   "cell_type": "code",
   "execution_count": 44,
   "metadata": {},
   "outputs": [],
   "source": [
    "how_auc = new_df[new_df['HardEM_auc']-new_df['NaiveEM_auc']>0]"
   ]
  },
  {
   "cell_type": "code",
   "execution_count": 47,
   "metadata": {},
   "outputs": [
    {
     "data": {
      "text/plain": [
       "0.1151441516857973"
      ]
     },
     "execution_count": 47,
     "metadata": {},
     "output_type": "execute_result"
    }
   ],
   "source": [
    "(how_auc['HardEM_auc']-how_auc['NaiveEM_auc']).mean()"
   ]
  },
  {
   "cell_type": "code",
   "execution_count": 48,
   "metadata": {},
   "outputs": [
    {
     "data": {
      "text/plain": [
       "0.14526740237691008"
      ]
     },
     "execution_count": 48,
     "metadata": {},
     "output_type": "execute_result"
    }
   ],
   "source": [
    "(how_auc['HardEM_acc']-how_auc['NaiveEM_acc']).mean()"
   ]
  },
  {
   "cell_type": "code",
   "execution_count": null,
   "metadata": {},
   "outputs": [],
   "source": []
  },
  {
   "cell_type": "code",
   "execution_count": null,
   "metadata": {},
   "outputs": [],
   "source": []
  },
  {
   "cell_type": "code",
   "execution_count": null,
   "metadata": {},
   "outputs": [],
   "source": []
  },
  {
   "cell_type": "code",
   "execution_count": null,
   "metadata": {},
   "outputs": [],
   "source": []
  },
  {
   "cell_type": "code",
   "execution_count": null,
   "metadata": {},
   "outputs": [],
   "source": []
  },
  {
   "cell_type": "code",
   "execution_count": 18,
   "metadata": {},
   "outputs": [],
   "source": [
    "import pandas as pd\n",
    "\n",
    "\n",
    "mel = pd.read_csv('melanoma.csv')"
   ]
  },
  {
   "cell_type": "code",
   "execution_count": 19,
   "metadata": {},
   "outputs": [
    {
     "data": {
      "text/html": [
       "<div>\n",
       "<style scoped>\n",
       "    .dataframe tbody tr th:only-of-type {\n",
       "        vertical-align: middle;\n",
       "    }\n",
       "\n",
       "    .dataframe tbody tr th {\n",
       "        vertical-align: top;\n",
       "    }\n",
       "\n",
       "    .dataframe thead th {\n",
       "        text-align: right;\n",
       "    }\n",
       "</style>\n",
       "<table border=\"1\" class=\"dataframe\">\n",
       "  <thead>\n",
       "    <tr style=\"text-align: right;\">\n",
       "      <th></th>\n",
       "      <th>Unnamed: 0</th>\n",
       "      <th>time</th>\n",
       "      <th>status</th>\n",
       "      <th>sex</th>\n",
       "      <th>age</th>\n",
       "      <th>year</th>\n",
       "      <th>thickness</th>\n",
       "      <th>ulcer</th>\n",
       "    </tr>\n",
       "  </thead>\n",
       "  <tbody>\n",
       "    <tr>\n",
       "      <th>0</th>\n",
       "      <td>1</td>\n",
       "      <td>10</td>\n",
       "      <td>3</td>\n",
       "      <td>1</td>\n",
       "      <td>76</td>\n",
       "      <td>1972</td>\n",
       "      <td>6.76</td>\n",
       "      <td>1</td>\n",
       "    </tr>\n",
       "    <tr>\n",
       "      <th>1</th>\n",
       "      <td>2</td>\n",
       "      <td>30</td>\n",
       "      <td>3</td>\n",
       "      <td>1</td>\n",
       "      <td>56</td>\n",
       "      <td>1968</td>\n",
       "      <td>0.65</td>\n",
       "      <td>0</td>\n",
       "    </tr>\n",
       "    <tr>\n",
       "      <th>2</th>\n",
       "      <td>3</td>\n",
       "      <td>35</td>\n",
       "      <td>2</td>\n",
       "      <td>1</td>\n",
       "      <td>41</td>\n",
       "      <td>1977</td>\n",
       "      <td>1.34</td>\n",
       "      <td>0</td>\n",
       "    </tr>\n",
       "    <tr>\n",
       "      <th>3</th>\n",
       "      <td>4</td>\n",
       "      <td>99</td>\n",
       "      <td>3</td>\n",
       "      <td>0</td>\n",
       "      <td>71</td>\n",
       "      <td>1968</td>\n",
       "      <td>2.90</td>\n",
       "      <td>0</td>\n",
       "    </tr>\n",
       "    <tr>\n",
       "      <th>4</th>\n",
       "      <td>5</td>\n",
       "      <td>185</td>\n",
       "      <td>1</td>\n",
       "      <td>1</td>\n",
       "      <td>52</td>\n",
       "      <td>1965</td>\n",
       "      <td>12.08</td>\n",
       "      <td>1</td>\n",
       "    </tr>\n",
       "  </tbody>\n",
       "</table>\n",
       "</div>"
      ],
      "text/plain": [
       "   Unnamed: 0  time  status  sex  age  year  thickness  ulcer\n",
       "0           1    10       3    1   76  1972       6.76      1\n",
       "1           2    30       3    1   56  1968       0.65      0\n",
       "2           3    35       2    1   41  1977       1.34      0\n",
       "3           4    99       3    0   71  1968       2.90      0\n",
       "4           5   185       1    1   52  1965      12.08      1"
      ]
     },
     "execution_count": 19,
     "metadata": {},
     "output_type": "execute_result"
    }
   ],
   "source": [
    "mel.head()"
   ]
  },
  {
   "cell_type": "code",
   "execution_count": 20,
   "metadata": {},
   "outputs": [],
   "source": [
    "status_df = mel.status"
   ]
  },
  {
   "cell_type": "code",
   "execution_count": 21,
   "metadata": {},
   "outputs": [],
   "source": [
    "#Creating a censoring indicator: 1 means not censored, 2 means censored, and 3 means censored. \n",
    "\n",
    "status_df = status_df.replace(3, 0) # means censored"
   ]
  },
  {
   "cell_type": "code",
   "execution_count": 22,
   "metadata": {},
   "outputs": [],
   "source": [
    "status_df = status_df.replace(2, 0) # means censored"
   ]
  },
  {
   "cell_type": "code",
   "execution_count": 23,
   "metadata": {},
   "outputs": [],
   "source": [
    "mel['status'] = status_df #This is r censoring column"
   ]
  },
  {
   "cell_type": "code",
   "execution_count": 30,
   "metadata": {},
   "outputs": [
    {
     "data": {
      "text/plain": [
       "0    0\n",
       "1    0\n",
       "2    0\n",
       "3    0\n",
       "4    1\n",
       "Name: status, dtype: int64"
      ]
     },
     "execution_count": 30,
     "metadata": {},
     "output_type": "execute_result"
    }
   ],
   "source": [
    "status_df.head()"
   ]
  },
  {
   "cell_type": "code",
   "execution_count": 24,
   "metadata": {
    "scrolled": true
   },
   "outputs": [
    {
     "data": {
      "text/html": [
       "<div>\n",
       "<style scoped>\n",
       "    .dataframe tbody tr th:only-of-type {\n",
       "        vertical-align: middle;\n",
       "    }\n",
       "\n",
       "    .dataframe tbody tr th {\n",
       "        vertical-align: top;\n",
       "    }\n",
       "\n",
       "    .dataframe thead th {\n",
       "        text-align: right;\n",
       "    }\n",
       "</style>\n",
       "<table border=\"1\" class=\"dataframe\">\n",
       "  <thead>\n",
       "    <tr style=\"text-align: right;\">\n",
       "      <th></th>\n",
       "      <th>Unnamed: 0</th>\n",
       "      <th>time</th>\n",
       "      <th>status</th>\n",
       "      <th>sex</th>\n",
       "      <th>age</th>\n",
       "      <th>year</th>\n",
       "      <th>thickness</th>\n",
       "      <th>ulcer</th>\n",
       "    </tr>\n",
       "  </thead>\n",
       "  <tbody>\n",
       "    <tr>\n",
       "      <th>0</th>\n",
       "      <td>1</td>\n",
       "      <td>10</td>\n",
       "      <td>0</td>\n",
       "      <td>1</td>\n",
       "      <td>76</td>\n",
       "      <td>1972</td>\n",
       "      <td>6.76</td>\n",
       "      <td>1</td>\n",
       "    </tr>\n",
       "    <tr>\n",
       "      <th>1</th>\n",
       "      <td>2</td>\n",
       "      <td>30</td>\n",
       "      <td>0</td>\n",
       "      <td>1</td>\n",
       "      <td>56</td>\n",
       "      <td>1968</td>\n",
       "      <td>0.65</td>\n",
       "      <td>0</td>\n",
       "    </tr>\n",
       "    <tr>\n",
       "      <th>2</th>\n",
       "      <td>3</td>\n",
       "      <td>35</td>\n",
       "      <td>0</td>\n",
       "      <td>1</td>\n",
       "      <td>41</td>\n",
       "      <td>1977</td>\n",
       "      <td>1.34</td>\n",
       "      <td>0</td>\n",
       "    </tr>\n",
       "    <tr>\n",
       "      <th>3</th>\n",
       "      <td>4</td>\n",
       "      <td>99</td>\n",
       "      <td>0</td>\n",
       "      <td>0</td>\n",
       "      <td>71</td>\n",
       "      <td>1968</td>\n",
       "      <td>2.90</td>\n",
       "      <td>0</td>\n",
       "    </tr>\n",
       "    <tr>\n",
       "      <th>4</th>\n",
       "      <td>5</td>\n",
       "      <td>185</td>\n",
       "      <td>1</td>\n",
       "      <td>1</td>\n",
       "      <td>52</td>\n",
       "      <td>1965</td>\n",
       "      <td>12.08</td>\n",
       "      <td>1</td>\n",
       "    </tr>\n",
       "  </tbody>\n",
       "</table>\n",
       "</div>"
      ],
      "text/plain": [
       "   Unnamed: 0  time  status  sex  age  year  thickness  ulcer\n",
       "0           1    10       0    1   76  1972       6.76      1\n",
       "1           2    30       0    1   56  1968       0.65      0\n",
       "2           3    35       0    1   41  1977       1.34      0\n",
       "3           4    99       0    0   71  1968       2.90      0\n",
       "4           5   185       1    1   52  1965      12.08      1"
      ]
     },
     "execution_count": 24,
     "metadata": {},
     "output_type": "execute_result"
    }
   ],
   "source": [
    "mel.head()"
   ]
  },
  {
   "cell_type": "code",
   "execution_count": 25,
   "metadata": {},
   "outputs": [],
   "source": [
    "predictors_and_status = ['status', 'time', 'sex', 'age', 'thickness', 'ulcer']\n",
    "\n",
    "predictors = ['time', 'sex', 'age', 'thickness', 'ulcer']\n",
    "\n"
   ]
  },
  {
   "cell_type": "code",
   "execution_count": 26,
   "metadata": {},
   "outputs": [],
   "source": [
    "mel_predictors = mel[predictors]"
   ]
  },
  {
   "cell_type": "code",
   "execution_count": 27,
   "metadata": {},
   "outputs": [],
   "source": [
    "mel_predictors_s = 1/mel_predictors.std()*(mel_predictors-mel_predictors.mean()) #standardize"
   ]
  },
  {
   "cell_type": "code",
   "execution_count": 28,
   "metadata": {},
   "outputs": [],
   "source": [
    "foo_mel = mel_predictors_s #shorten name"
   ]
  },
  {
   "cell_type": "code",
   "execution_count": 29,
   "metadata": {},
   "outputs": [],
   "source": [
    "foo_mel['status'] = mel['status'] #add back the censoring indicator column"
   ]
  },
  {
   "cell_type": "code",
   "execution_count": 103,
   "metadata": {},
   "outputs": [],
   "source": [
    "columns = ['status'] # to be fed into algo"
   ]
  },
  {
   "cell_type": "code",
   "execution_count": 104,
   "metadata": {},
   "outputs": [],
   "source": [
    "censored_inputs_mel = make_inputs(foo_mel, 0, columns) #extract censored\n",
    "\n",
    "noncensored_inputs_mel = make_inputs(foo_mel, 1, columns) #extract noncensored"
   ]
  },
  {
   "cell_type": "code",
   "execution_count": 105,
   "metadata": {},
   "outputs": [
    {
     "data": {
      "text/plain": [
       "array([[ 1.00000000e+00, -1.90970066e+00,  1.25982401e+00,\n",
       "         1.41176781e+00,  1.29759545e+00,  1.12762792e+00],\n",
       "       [ 1.00000000e+00, -1.89187631e+00,  1.25982401e+00,\n",
       "         2.12130914e-01, -7.66989461e-01, -8.82491412e-01],\n",
       "       [ 1.00000000e+00, -1.88742023e+00,  1.25982401e+00,\n",
       "        -6.87596756e-01, -5.33836665e-01, -8.82491412e-01],\n",
       "       [ 1.00000000e+00, -1.83038231e+00, -7.89889655e-01,\n",
       "         1.11185858e+00, -6.70860291e-03, -8.82491412e-01],\n",
       "       [ 1.00000000e+00, -1.71185040e+00, -7.89889655e-01,\n",
       "         4.52058293e-01,  1.01420230e-01,  1.12762792e+00],\n",
       "       [ 1.00000000e+00, -1.60223066e+00, -7.89889655e-01,\n",
       "         6.91985672e-01, -9.32561737e-01,  1.12762792e+00],\n",
       "       [ 1.00000000e+00, -1.47924265e+00,  1.25982401e+00,\n",
       "         1.17184043e+00,  3.25743055e+00,  1.12762792e+00],\n",
       "       [ 1.00000000e+00, -1.18246726e+00, -7.89889655e-01,\n",
       "         2.01158625e+00,  1.89906208e+00,  1.12762792e+00],\n",
       "       [ 1.00000000e+00, -6.46845595e-01,  1.25982401e+00,\n",
       "         6.91985672e-01, -5.50731795e-01, -8.82491412e-01],\n",
       "       [ 1.00000000e+00, -5.82677942e-01,  1.25982401e+00,\n",
       "         1.23182227e+00, -5.50731795e-01, -8.82491412e-01],\n",
       "       [ 1.00000000e+00, -5.74656985e-01,  1.25982401e+00,\n",
       "         6.32003827e-01,  1.84499767e+00,  1.12762792e+00],\n",
       "       [ 1.00000000e+00, -5.72874550e-01, -7.89889655e-01,\n",
       "         9.91894895e-01, -3.31095102e-01, -8.82491412e-01],\n",
       "       [ 1.00000000e+00, -5.71092115e-01, -7.89889655e-01,\n",
       "         1.47174965e+00, -9.32561737e-01, -8.82491412e-01],\n",
       "       [ 1.00000000e+00, -5.59506289e-01, -7.89889655e-01,\n",
       "         1.41176781e+00, -5.50731795e-01,  1.12762792e+00],\n",
       "       [ 1.00000000e+00, -5.44355593e-01, -7.89889655e-01,\n",
       "         7.51967516e-01, -9.32561737e-01, -8.82491412e-01],\n",
       "       [ 1.00000000e+00, -5.30987332e-01, -7.89889655e-01,\n",
       "        -1.58732443e+00, -5.50731795e-01, -8.82491412e-01],\n",
       "       [ 1.00000000e+00, -5.25640027e-01, -7.89889655e-01,\n",
       "        -4.47669377e-01, -8.78497321e-01, -8.82491412e-01],\n",
       "       [ 1.00000000e+00, -4.88208896e-01, -7.89889655e-01,\n",
       "        -9.87505980e-01, -6.04796212e-01, -8.82491412e-01],\n",
       "       [ 1.00000000e+00, -4.68602113e-01, -7.89889655e-01,\n",
       "        -5.67633067e-01, -4.39223936e-01, -8.82491412e-01],\n",
       "       [ 1.00000000e+00, -4.62363591e-01, -7.89889655e-01,\n",
       "         9.31913050e-01, -5.23699587e-01, -8.82491412e-01],\n",
       "       [ 1.00000000e+00, -4.56125070e-01,  1.25982401e+00,\n",
       "         2.72112759e-01, -9.05529529e-01, -8.82491412e-01],\n",
       "       [ 1.00000000e+00, -4.56125070e-01, -7.89889655e-01,\n",
       "         2.72112759e-01, -7.12925045e-01, -8.82491412e-01],\n",
       "       [ 1.00000000e+00, -4.49886548e-01, -7.89889655e-01,\n",
       "         1.52149069e-01, -5.50731795e-01, -8.82491412e-01],\n",
       "       [ 1.00000000e+00, -4.46321678e-01, -7.89889655e-01,\n",
       "         3.32094604e-01, -5.50731795e-01, -8.82491412e-01],\n",
       "       [ 1.00000000e+00, -4.44539243e-01,  1.25982401e+00,\n",
       "        -1.94721549e+00, -6.58860628e-01, -8.82491412e-01],\n",
       "       [ 1.00000000e+00, -4.44539243e-01, -7.89889655e-01,\n",
       "         8.71931206e-01, -6.04796212e-01, -8.82491412e-01],\n",
       "       [ 1.00000000e+00, -4.23150026e-01, -7.89889655e-01,\n",
       "         3.92076448e-01, -5.50731795e-01, -8.82491412e-01],\n",
       "       [ 1.00000000e+00, -4.16911504e-01, -7.89889655e-01,\n",
       "        -1.22743336e+00, -8.24432904e-01, -8.82491412e-01],\n",
       "       [ 1.00000000e+00, -3.94631068e-01, -7.89889655e-01,\n",
       "         1.52149069e-01, -2.22966269e-01, -8.82491412e-01],\n",
       "       [ 1.00000000e+00, -3.94631068e-01,  1.25982401e+00,\n",
       "        -2.24712472e+00, -7.90642644e-01, -8.82491412e-01],\n",
       "       [ 1.00000000e+00, -3.63438459e-01, -7.89889655e-01,\n",
       "        -3.27705688e-01, -1.14837436e-01,  1.12762792e+00],\n",
       "       [ 1.00000000e+00, -3.48287763e-01, -7.89889655e-01,\n",
       "         9.21672248e-02, -7.12925045e-01, -8.82491412e-01],\n",
       "       [ 1.00000000e+00, -3.33137067e-01,  1.25982401e+00,\n",
       "         1.52149069e-01,  2.09549063e-01,  1.12762792e+00],\n",
       "       [ 1.00000000e+00, -3.26007328e-01,  1.25982401e+00,\n",
       "        -8.67542290e-01, -6.58860628e-01, -8.82491412e-01],\n",
       "       [ 1.00000000e+00, -3.26007328e-01, -7.89889655e-01,\n",
       "        -6.87596756e-01, -3.85159519e-01,  1.12762792e+00],\n",
       "       [ 1.00000000e+00, -3.20660024e-01, -7.89889655e-01,\n",
       "         2.12130914e-01, -3.31095102e-01, -8.82491412e-01],\n",
       "       [ 1.00000000e+00, -3.10856632e-01, -7.89889655e-01,\n",
       "        -2.67723843e-01, -5.50731795e-01, -8.82491412e-01],\n",
       "       [ 1.00000000e+00, -3.03726893e-01,  1.25982401e+00,\n",
       "        -5.07651222e-01,  1.01420230e-01,  1.12762792e+00],\n",
       "       [ 1.00000000e+00, -2.82337675e-01, -7.89889655e-01,\n",
       "         1.05187674e+00, -4.69635170e-01, -8.82491412e-01],\n",
       "       [ 1.00000000e+00, -2.79664023e-01, -7.89889655e-01,\n",
       "        -7.47578601e-01, -5.50731795e-01, -8.82491412e-01],\n",
       "       [ 1.00000000e+00, -2.79664023e-01,  1.25982401e+00,\n",
       "         3.21853801e-02, -4.39223936e-01,  1.12762792e+00],\n",
       "       [ 1.00000000e+00, -2.66295762e-01, -7.89889655e-01,\n",
       "         7.51967516e-01, -4.39223936e-01,  1.12762792e+00],\n",
       "       [ 1.00000000e+00, -2.64513327e-01,  1.25982401e+00,\n",
       "         9.21672248e-02, -8.78497321e-01, -8.82491412e-01],\n",
       "       [ 1.00000000e+00, -2.60948457e-01,  1.25982401e+00,\n",
       "         1.11185858e+00,  6.48822448e-01,  1.12762792e+00],\n",
       "       [ 1.00000000e+00, -2.57383588e-01, -7.89889655e-01,\n",
       "        -2.07741999e-01, -5.50731795e-01, -8.82491412e-01],\n",
       "       [ 1.00000000e+00, -2.26190978e-01, -7.89889655e-01,\n",
       "         1.52149069e-01, -6.58860628e-01, -8.82491412e-01],\n",
       "       [ 1.00000000e+00, -2.12822717e-01, -7.89889655e-01,\n",
       "         9.91894895e-01,  4.73558137e-02, -8.82491412e-01],\n",
       "       [ 1.00000000e+00, -2.08366630e-01,  1.25982401e+00,\n",
       "         1.83164072e+00,  2.09549063e-01, -8.82491412e-01],\n",
       "       [ 1.00000000e+00, -2.07475413e-01,  1.25982401e+00,\n",
       "         4.52058293e-01, -4.39223936e-01,  1.12762792e+00],\n",
       "       [ 1.00000000e+00, -2.01236891e-01,  1.25982401e+00,\n",
       "        -7.47578601e-01, -1.14837436e-01,  1.12762792e+00],\n",
       "       [ 1.00000000e+00, -1.87868630e-01, -7.89889655e-01,\n",
       "        -1.04748782e+00, -7.12925045e-01, -8.82491412e-01],\n",
       "       [ 1.00000000e+00, -1.76282803e-01, -7.89889655e-01,\n",
       "        -3.87687533e-01,  1.62536097e+00,  1.12762792e+00],\n",
       "       [ 1.00000000e+00, -1.75391586e-01, -7.89889655e-01,\n",
       "        -1.10746967e+00, -6.58860628e-01, -8.82491412e-01],\n",
       "       [ 1.00000000e+00, -1.73609151e-01, -7.89889655e-01,\n",
       "         9.91894895e-01,  3.36555938e+00, -8.82491412e-01],\n",
       "       [ 1.00000000e+00, -1.69153064e-01, -7.89889655e-01,\n",
       "         4.52058293e-01, -1.14837436e-01, -8.82491412e-01],\n",
       "       [ 1.00000000e+00, -1.62914542e-01,  1.25982401e+00,\n",
       "         1.89162257e+00,  3.95395496e-01,  1.12762792e+00],\n",
       "       [ 1.00000000e+00, -1.31721933e-01, -7.89889655e-01,\n",
       "         8.11949361e-01, -7.70368487e-01, -8.82491412e-01],\n",
       "       [ 1.00000000e+00, -1.29939498e-01,  1.25982401e+00,\n",
       "         2.12130914e-01, -6.58860628e-01, -8.82491412e-01],\n",
       "       [ 1.00000000e+00, -1.26374629e-01, -7.89889655e-01,\n",
       "         1.35178596e+00,  1.01420230e-01,  1.12762792e+00],\n",
       "       [ 1.00000000e+00, -1.14788802e-01, -7.89889655e-01,\n",
       "        -9.87505980e-01, -4.39223936e-01, -8.82491412e-01],\n",
       "       [ 1.00000000e+00, -1.11223933e-01,  1.25982401e+00,\n",
       "        -2.77964646e-02,  3.21056923e-01,  1.12762792e+00],\n",
       "       [ 1.00000000e+00, -1.02311758e-01, -7.89889655e-01,\n",
       "         3.32094604e-01, -8.78497321e-01,  1.12762792e+00],\n",
       "       [ 1.00000000e+00, -8.62698451e-02, -7.89889655e-01,\n",
       "        -8.07560446e-01, -8.78497321e-01, -8.82491412e-01],\n",
       "       [ 1.00000000e+00, -8.35961929e-02,  1.25982401e+00,\n",
       "         9.31913050e-01,  1.01420230e-01,  1.12762792e+00],\n",
       "       [ 1.00000000e+00, -6.93367144e-02,  1.25982401e+00,\n",
       "         1.52149069e-01, -1.14837436e-01,  1.12762792e+00],\n",
       "       [ 1.00000000e+00, -6.04245403e-02, -7.89889655e-01,\n",
       "         8.11949361e-01, -7.66989461e-01, -8.82491412e-01],\n",
       "       [ 1.00000000e+00, -4.52738443e-02,  1.25982401e+00,\n",
       "        -1.04748782e+00, -6.04796212e-01, -8.82491412e-01],\n",
       "       [ 1.00000000e+00, -4.34914095e-02, -7.89889655e-01,\n",
       "         1.17184043e+00, -6.58860628e-01, -8.82491412e-01],\n",
       "       [ 1.00000000e+00, -3.63616703e-02, -7.89889655e-01,\n",
       "         9.21672248e-02, -3.31095102e-01,  1.12762792e+00],\n",
       "       [ 1.00000000e+00, -2.49540874e-03, -7.89889655e-01,\n",
       "        -1.16745151e+00, -7.66989461e-01, -8.82491412e-01],\n",
       "       [ 1.00000000e+00,  2.85189571e-03, -7.89889655e-01,\n",
       "        -4.47669377e-01, -6.58860628e-01, -8.82491412e-01],\n",
       "       [ 1.00000000e+00,  1.08728524e-02,  1.25982401e+00,\n",
       "         5.72021982e-01,  9.19144531e-01, -8.82491412e-01],\n",
       "       [ 1.00000000e+00,  5.00864184e-02, -7.89889655e-01,\n",
       "         1.17184043e+00,  2.27751300e+00, -8.82491412e-01],\n",
       "       [ 1.00000000e+00,  6.61283317e-02, -7.89889655e-01,\n",
       "        -8.77783093e-02, -9.52835893e-01, -8.82491412e-01],\n",
       "       [ 1.00000000e+00,  6.61283317e-02,  1.25982401e+00,\n",
       "         1.47174965e+00,  8.65080115e-01,  1.12762792e+00],\n",
       "       [ 1.00000000e+00,  9.91033758e-02, -7.89889655e-01,\n",
       "         7.51967516e-01,  6.45443422e-01,  1.12762792e+00],\n",
       "       [ 1.00000000e+00,  1.65944681e-01, -7.89889655e-01,\n",
       "         6.32003827e-01, -6.58860628e-01, -8.82491412e-01],\n",
       "       [ 1.00000000e+00,  1.85551464e-01,  1.25982401e+00,\n",
       "         4.52058293e-01, -6.58860628e-01, -8.82491412e-01],\n",
       "       [ 1.00000000e+00,  2.08723117e-01, -7.89889655e-01,\n",
       "        -1.47760154e-01,  7.56951282e-01,  1.12762792e+00],\n",
       "       [ 1.00000000e+00,  2.22982596e-01, -7.89889655e-01,\n",
       "         8.71931206e-01, -6.70860291e-03,  1.12762792e+00],\n",
       "       [ 1.00000000e+00,  2.43480596e-01, -7.89889655e-01,\n",
       "         9.91894895e-01,  3.21056923e-01, -8.82491412e-01],\n",
       "       [ 1.00000000e+00,  2.43480596e-01, -7.89889655e-01,\n",
       "         1.29180412e+00, -3.31095102e-01,  1.12762792e+00],\n",
       "       [ 1.00000000e+00,  2.47936683e-01, -7.89889655e-01,\n",
       "        -2.07741999e-01, -9.32561737e-01, -8.82491412e-01],\n",
       "       [ 1.00000000e+00,  2.73781988e-01, -7.89889655e-01,\n",
       "        -3.27705688e-01, -7.70368487e-01, -8.82491412e-01],\n",
       "       [ 1.00000000e+00,  3.02300945e-01, -7.89889655e-01,\n",
       "         9.21672248e-02, -4.96667378e-01, -8.82491412e-01],\n",
       "       [ 1.00000000e+00,  3.03192162e-01,  1.25982401e+00,\n",
       "         1.17184043e+00,  6.42064396e-01,  1.12762792e+00],\n",
       "       [ 1.00000000e+00,  3.28146250e-01, -7.89889655e-01,\n",
       "        -4.47669377e-01, -5.50731795e-01,  1.12762792e+00],\n",
       "       [ 1.00000000e+00,  3.46861815e-01,  1.25982401e+00,\n",
       "         8.71931206e-01,  1.67942539e+00,  1.12762792e+00],\n",
       "       [ 1.00000000e+00,  3.62012511e-01, -7.89889655e-01,\n",
       "        -2.67723843e-01, -7.12925045e-01,  1.12762792e+00],\n",
       "       [ 1.00000000e+00,  3.71815903e-01, -7.89889655e-01,\n",
       "        -5.07651222e-01, -5.50731795e-01, -8.82491412e-01],\n",
       "       [ 1.00000000e+00,  4.52025470e-01, -7.89889655e-01,\n",
       "        -1.28741520e+00, -7.70368487e-01, -8.82491412e-01],\n",
       "       [ 1.00000000e+00,  4.57372774e-01, -7.89889655e-01,\n",
       "        -6.27614911e-01,  1.01420230e-01,  1.12762792e+00],\n",
       "       [ 1.00000000e+00,  4.66284948e-01, -7.89889655e-01,\n",
       "        -1.70728812e+00, -4.96667378e-01,  1.12762792e+00],\n",
       "       [ 1.00000000e+00,  5.21540427e-01, -7.89889655e-01,\n",
       "         3.32094604e-01, -8.24432904e-01, -8.82491412e-01],\n",
       "       [ 1.00000000e+00,  5.65210080e-01,  1.25982401e+00,\n",
       "         5.72021982e-01, -9.32561737e-01, -8.82491412e-01],\n",
       "       [ 1.00000000e+00,  7.40779910e-01,  1.25982401e+00,\n",
       "         1.05187674e+00, -9.32561737e-01, -8.82491412e-01],\n",
       "       [ 1.00000000e+00,  7.83558345e-01, -7.89889655e-01,\n",
       "        -1.04748782e+00, -5.50731795e-01, -8.82491412e-01],\n",
       "       [ 1.00000000e+00,  7.90688085e-01, -7.89889655e-01,\n",
       "         5.12040138e-01, -3.31095102e-01, -8.82491412e-01],\n",
       "       [ 1.00000000e+00,  8.14750955e-01, -7.89889655e-01,\n",
       "        -1.40737889e+00, -7.12925045e-01, -8.82491412e-01],\n",
       "       [ 1.00000000e+00,  8.25445564e-01,  1.25982401e+00,\n",
       "         6.91985672e-01, -7.66989461e-01, -8.82491412e-01],\n",
       "       [ 1.00000000e+00,  8.45052347e-01,  1.25982401e+00,\n",
       "        -3.27705688e-01,  1.40910331e+00, -8.82491412e-01],\n",
       "       [ 1.00000000e+00,  8.83374695e-01,  1.25982401e+00,\n",
       "         5.72021982e-01, -9.32561737e-01, -8.82491412e-01],\n",
       "       [ 1.00000000e+00,  8.90504434e-01, -7.89889655e-01,\n",
       "        -1.22743336e+00, -4.39223936e-01, -8.82491412e-01],\n",
       "       [ 1.00000000e+00,  8.92286869e-01,  1.25982401e+00,\n",
       "        -2.07741999e-01, -4.39223936e-01, -8.82491412e-01],\n",
       "       [ 1.00000000e+00,  9.15458522e-01, -7.89889655e-01,\n",
       "        -1.64730627e+00, -5.50731795e-01, -8.82491412e-01],\n",
       "       [ 1.00000000e+00,  9.17240957e-01,  1.25982401e+00,\n",
       "        -2.07741999e-01,  1.08133778e+00, -8.82491412e-01],\n",
       "       [ 1.00000000e+00,  9.19914609e-01, -7.89889655e-01,\n",
       "         6.91985672e-01, -8.24432904e-01, -8.82491412e-01],\n",
       "       [ 1.00000000e+00,  9.32391653e-01, -7.89889655e-01,\n",
       "        -9.87505980e-01, -7.70368487e-01, -8.82491412e-01],\n",
       "       [ 1.00000000e+00,  9.58236958e-01, -7.89889655e-01,\n",
       "         3.32094604e-01,  1.01420230e-01,  1.12762792e+00],\n",
       "       [ 1.00000000e+00,  9.59128175e-01, -7.89889655e-01,\n",
       "        -9.27524135e-01, -3.31095102e-01, -8.82491412e-01],\n",
       "       [ 1.00000000e+00,  1.00279783e+00,  1.25982401e+00,\n",
       "         9.21672248e-02, -1.14837436e-01, -8.82491412e-01],\n",
       "       [ 1.00000000e+00,  1.01973096e+00, -7.89889655e-01,\n",
       "         5.12040138e-01, -1.14837436e-01,  1.12762792e+00],\n",
       "       [ 1.00000000e+00,  1.04735870e+00,  1.25982401e+00,\n",
       "        -1.28741520e+00, -7.12925045e-01, -8.82491412e-01],\n",
       "       [ 1.00000000e+00,  1.04914113e+00,  1.25982401e+00,\n",
       "         5.12040138e-01, -7.12925045e-01,  1.12762792e+00],\n",
       "       [ 1.00000000e+00,  1.09637566e+00, -7.89889655e-01,\n",
       "        -5.67633067e-01, -8.78497321e-01, -8.82491412e-01],\n",
       "       [ 1.00000000e+00,  1.09726687e+00, -7.89889655e-01,\n",
       "         9.31913050e-01,  1.01420230e-01,  1.12762792e+00],\n",
       "       [ 1.00000000e+00,  1.09815809e+00, -7.89889655e-01,\n",
       "        -2.90692501e+00, -6.07730195e-02, -8.82491412e-01],\n",
       "       [ 1.00000000e+00,  1.10083174e+00,  1.25982401e+00,\n",
       "         4.52058293e-01,  6.48822448e-01,  1.12762792e+00],\n",
       "       [ 1.00000000e+00,  1.11330879e+00,  1.25982401e+00,\n",
       "        -1.47760154e-01, -4.39223936e-01, -8.82491412e-01],\n",
       "       [ 1.00000000e+00,  1.14806627e+00, -7.89889655e-01,\n",
       "        -1.94721549e+00, -7.66989461e-01, -8.82491412e-01],\n",
       "       [ 1.00000000e+00,  1.16321696e+00, -7.89889655e-01,\n",
       "         9.21672248e-02, -4.96667378e-01, -8.82491412e-01],\n",
       "       [ 1.00000000e+00,  1.16410818e+00, -7.89889655e-01,\n",
       "        -1.40737889e+00, -7.66989461e-01, -8.82491412e-01],\n",
       "       [ 1.00000000e+00,  1.16410818e+00,  1.25982401e+00,\n",
       "         2.12130914e-01, -5.50731795e-01,  1.12762792e+00],\n",
       "       [ 1.00000000e+00,  1.17925887e+00, -7.89889655e-01,\n",
       "         4.52058293e-01, -4.39223936e-01, -8.82491412e-01],\n",
       "       [ 1.00000000e+00,  1.22114609e+00, -7.89889655e-01,\n",
       "        -3.87687533e-01,  2.09549063e-01, -8.82491412e-01],\n",
       "       [ 1.00000000e+00,  1.34948140e+00, -7.89889655e-01,\n",
       "        -6.27614911e-01,  1.01420230e-01, -8.82491412e-01],\n",
       "       [ 1.00000000e+00,  1.37443549e+00, -7.89889655e-01,\n",
       "        -1.10746967e+00, -7.66989461e-01, -8.82491412e-01],\n",
       "       [ 1.00000000e+00,  1.37443549e+00, -7.89889655e-01,\n",
       "         2.12130914e-01, -6.38586472e-01, -8.82491412e-01],\n",
       "       [ 1.00000000e+00,  1.44662410e+00,  1.25982401e+00,\n",
       "        -2.42707025e+00,  1.40910331e+00,  1.12762792e+00],\n",
       "       [ 1.00000000e+00,  1.44662410e+00, -7.89889655e-01,\n",
       "        -1.88723365e+00, -5.50731795e-01,  1.12762792e+00],\n",
       "       [ 1.00000000e+00,  1.49474984e+00,  1.25982401e+00,\n",
       "        -3.87687533e-01, -7.66989461e-01, -8.82491412e-01],\n",
       "       [ 1.00000000e+00,  1.51792149e+00, -7.89889655e-01,\n",
       "        -2.07741999e-01, -3.85159519e-01, -8.82491412e-01],\n",
       "       [ 1.00000000e+00,  1.53218097e+00, -7.89889655e-01,\n",
       "        -1.04748782e+00,  3.14930172e+00,  1.12762792e+00],\n",
       "       [ 1.00000000e+00,  1.56515601e+00,  1.25982401e+00,\n",
       "        -6.27614911e-01,  1.73686883e+00,  1.12762792e+00],\n",
       "       [ 1.00000000e+00,  1.61773784e+00, -7.89889655e-01,\n",
       "        -3.27705688e-01, -7.12925045e-01, -8.82491412e-01],\n",
       "       [ 1.00000000e+00,  1.64714801e+00, -7.89889655e-01,\n",
       "         9.91894895e-01, -2.77030686e-01, -8.82491412e-01],\n",
       "       [ 1.00000000e+00,  1.73805219e+00, -7.89889655e-01,\n",
       "        -2.77964646e-02,  3.21056923e-01, -8.82491412e-01],\n",
       "       [ 1.00000000e+00,  1.75231167e+00,  1.25982401e+00,\n",
       "        -2.77964646e-02, -7.66989461e-01, -8.82491412e-01],\n",
       "       [ 1.00000000e+00,  1.75676776e+00, -7.89889655e-01,\n",
       "        -1.34739705e+00, -3.31095102e-01,  1.12762792e+00],\n",
       "       [ 1.00000000e+00,  1.83073880e+00,  1.25982401e+00,\n",
       "        -1.82725181e+00, -7.66989461e-01, -8.82491412e-01],\n",
       "       [ 1.00000000e+00,  1.92253419e+00,  1.25982401e+00,\n",
       "         1.52149069e-01, -2.77030686e-01, -8.82491412e-01],\n",
       "       [ 1.00000000e+00,  1.99383159e+00, -7.89889655e-01,\n",
       "        -1.58732443e+00, -3.31095102e-01,  1.12762792e+00],\n",
       "       [ 1.00000000e+00,  2.07314994e+00, -7.89889655e-01,\n",
       "        -2.00719734e+00, -6.04796212e-01,  1.12762792e+00],\n",
       "       [ 1.00000000e+00,  2.08473576e+00,  1.25982401e+00,\n",
       "        -1.40737889e+00,  1.39896623e+00,  1.12762792e+00],\n",
       "       [ 1.00000000e+00,  2.24159003e+00, -7.89889655e-01,\n",
       "        -7.47578601e-01,  1.08133778e+00, -8.82491412e-01],\n",
       "       [ 1.00000000e+00,  2.25941437e+00, -7.89889655e-01,\n",
       "        -6.27614911e-01, -8.24432904e-01, -8.82491412e-01],\n",
       "       [ 1.00000000e+00,  2.47152412e+00, -7.89889655e-01,\n",
       "        -1.47760154e-01, -2.22966269e-01, -8.82491412e-01],\n",
       "       [ 1.00000000e+00,  3.04101204e+00, -7.89889655e-01,\n",
       "        -6.87596756e-01, -6.70860291e-03, -8.82491412e-01]])"
      ]
     },
     "execution_count": 105,
     "metadata": {},
     "output_type": "execute_result"
    }
   ],
   "source": [
    "censored_inputs_mel"
   ]
  },
  {
   "cell_type": "code",
   "execution_count": 106,
   "metadata": {},
   "outputs": [],
   "source": [
    "fit = HEM_fit(censored_inputs_mel, noncensored_inputs_mel, 0.5, 1000, 'use_clustering')"
   ]
  },
  {
   "cell_type": "code",
   "execution_count": 107,
   "metadata": {},
   "outputs": [],
   "source": [
    "weights = fit['model_weights']"
   ]
  },
  {
   "cell_type": "code",
   "execution_count": 108,
   "metadata": {},
   "outputs": [
    {
     "data": {
      "text/plain": [
       "array([-0.05578208,  0.14007225, -0.08140815, -0.08917484, -0.16671815,\n",
       "       -0.28243868])"
      ]
     },
     "execution_count": 108,
     "metadata": {},
     "output_type": "execute_result"
    }
   ],
   "source": [
    "weights"
   ]
  },
  {
   "cell_type": "code",
   "execution_count": 109,
   "metadata": {},
   "outputs": [],
   "source": [
    "predictions = HEM_predictions(weights, foo_mel, predictors)"
   ]
  },
  {
   "cell_type": "code",
   "execution_count": 114,
   "metadata": {},
   "outputs": [
    {
     "data": {
      "text/plain": [
       "0.5120144019313181"
      ]
     },
     "execution_count": 114,
     "metadata": {},
     "output_type": "execute_result"
    }
   ],
   "source": [
    "(predictions['prob']).mean()"
   ]
  }
 ],
 "metadata": {
  "kernelspec": {
   "display_name": "Python 3",
   "language": "python",
   "name": "python3"
  },
  "language_info": {
   "codemirror_mode": {
    "name": "ipython",
    "version": 3
   },
   "file_extension": ".py",
   "mimetype": "text/x-python",
   "name": "python",
   "nbconvert_exporter": "python",
   "pygments_lexer": "ipython3",
   "version": "3.7.1"
  }
 },
 "nbformat": 4,
 "nbformat_minor": 2
}
