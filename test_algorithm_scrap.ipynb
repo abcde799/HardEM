{
 "cells": [
  {
   "cell_type": "code",
   "execution_count": 15,
   "metadata": {},
   "outputs": [],
   "source": [
    "import pandas as pd\n",
    "import numpy as np\n",
    "from make_df import create_df, add_intercept, make_inputs\n",
    "from hardEM_0 import HEM_fit, HEM_predictions \n"
   ]
  },
  {
   "cell_type": "code",
   "execution_count": 2,
   "metadata": {},
   "outputs": [],
   "source": [
    "covariates = ['x1', 'x2', 'x3', 'x4', 'x5', 'x6', 'x7', 'x8', 'x9', 'x10']\n",
    "\n",
    "dist = [[3.7, 0.7], [5.1, 2.1], [4.75, 0.9], [10.5, 2.1], [8.75, 3.9], [5.7, 0.9], [3.75, 0.5], [9.75, 3.11], [2.11, 0.9], [7.7, 2.9]]\n",
    "\n",
    "cols = ['censoring_indicator', 'cure_label']"
   ]
  },
  {
   "cell_type": "code",
   "execution_count": 3,
   "metadata": {},
   "outputs": [],
   "source": [
    "foo = create_df(covariates, dist, 0.5, 0.45, 1000)"
   ]
  },
  {
   "cell_type": "code",
   "execution_count": 4,
   "metadata": {},
   "outputs": [
    {
     "data": {
      "text/html": [
       "<div>\n",
       "<style scoped>\n",
       "    .dataframe tbody tr th:only-of-type {\n",
       "        vertical-align: middle;\n",
       "    }\n",
       "\n",
       "    .dataframe tbody tr th {\n",
       "        vertical-align: top;\n",
       "    }\n",
       "\n",
       "    .dataframe thead th {\n",
       "        text-align: right;\n",
       "    }\n",
       "</style>\n",
       "<table border=\"1\" class=\"dataframe\">\n",
       "  <thead>\n",
       "    <tr style=\"text-align: right;\">\n",
       "      <th></th>\n",
       "      <th>x1</th>\n",
       "      <th>x2</th>\n",
       "      <th>x3</th>\n",
       "      <th>x4</th>\n",
       "      <th>x5</th>\n",
       "      <th>x6</th>\n",
       "      <th>x7</th>\n",
       "      <th>x8</th>\n",
       "      <th>x9</th>\n",
       "      <th>x10</th>\n",
       "      <th>censoring_indicator</th>\n",
       "      <th>cure_label</th>\n",
       "    </tr>\n",
       "  </thead>\n",
       "  <tbody>\n",
       "    <tr>\n",
       "      <th>0</th>\n",
       "      <td>3.114586</td>\n",
       "      <td>8.043680</td>\n",
       "      <td>5.705325</td>\n",
       "      <td>11.040199</td>\n",
       "      <td>6.946156</td>\n",
       "      <td>6.089903</td>\n",
       "      <td>3.840177</td>\n",
       "      <td>7.516968</td>\n",
       "      <td>4.009400</td>\n",
       "      <td>6.784780</td>\n",
       "      <td>1</td>\n",
       "      <td>1</td>\n",
       "    </tr>\n",
       "    <tr>\n",
       "      <th>1</th>\n",
       "      <td>3.959355</td>\n",
       "      <td>5.585260</td>\n",
       "      <td>4.623250</td>\n",
       "      <td>12.949318</td>\n",
       "      <td>4.415039</td>\n",
       "      <td>5.717672</td>\n",
       "      <td>3.967929</td>\n",
       "      <td>7.920083</td>\n",
       "      <td>2.137746</td>\n",
       "      <td>7.134735</td>\n",
       "      <td>0</td>\n",
       "      <td>0</td>\n",
       "    </tr>\n",
       "    <tr>\n",
       "      <th>2</th>\n",
       "      <td>3.808362</td>\n",
       "      <td>2.628790</td>\n",
       "      <td>6.211116</td>\n",
       "      <td>13.742615</td>\n",
       "      <td>7.146527</td>\n",
       "      <td>6.802605</td>\n",
       "      <td>3.632458</td>\n",
       "      <td>12.795675</td>\n",
       "      <td>1.583578</td>\n",
       "      <td>8.914356</td>\n",
       "      <td>0</td>\n",
       "      <td>0</td>\n",
       "    </tr>\n",
       "    <tr>\n",
       "      <th>3</th>\n",
       "      <td>4.930466</td>\n",
       "      <td>4.714504</td>\n",
       "      <td>4.080886</td>\n",
       "      <td>11.246399</td>\n",
       "      <td>10.800803</td>\n",
       "      <td>4.898141</td>\n",
       "      <td>3.814453</td>\n",
       "      <td>11.422108</td>\n",
       "      <td>2.039398</td>\n",
       "      <td>8.648179</td>\n",
       "      <td>0</td>\n",
       "      <td>0</td>\n",
       "    </tr>\n",
       "    <tr>\n",
       "      <th>4</th>\n",
       "      <td>2.478165</td>\n",
       "      <td>6.270619</td>\n",
       "      <td>4.400114</td>\n",
       "      <td>10.220097</td>\n",
       "      <td>6.351055</td>\n",
       "      <td>5.301952</td>\n",
       "      <td>2.282677</td>\n",
       "      <td>6.944414</td>\n",
       "      <td>3.053279</td>\n",
       "      <td>6.545462</td>\n",
       "      <td>0</td>\n",
       "      <td>0</td>\n",
       "    </tr>\n",
       "  </tbody>\n",
       "</table>\n",
       "</div>"
      ],
      "text/plain": [
       "         x1        x2        x3         x4         x5        x6        x7  \\\n",
       "0  3.114586  8.043680  5.705325  11.040199   6.946156  6.089903  3.840177   \n",
       "1  3.959355  5.585260  4.623250  12.949318   4.415039  5.717672  3.967929   \n",
       "2  3.808362  2.628790  6.211116  13.742615   7.146527  6.802605  3.632458   \n",
       "3  4.930466  4.714504  4.080886  11.246399  10.800803  4.898141  3.814453   \n",
       "4  2.478165  6.270619  4.400114  10.220097   6.351055  5.301952  2.282677   \n",
       "\n",
       "          x8        x9       x10  censoring_indicator  cure_label  \n",
       "0   7.516968  4.009400  6.784780                    1           1  \n",
       "1   7.920083  2.137746  7.134735                    0           0  \n",
       "2  12.795675  1.583578  8.914356                    0           0  \n",
       "3  11.422108  2.039398  8.648179                    0           0  \n",
       "4   6.944414  3.053279  6.545462                    0           0  "
      ]
     },
     "execution_count": 4,
     "metadata": {},
     "output_type": "execute_result"
    }
   ],
   "source": [
    "foo.head()"
   ]
  },
  {
   "cell_type": "code",
   "execution_count": 5,
   "metadata": {},
   "outputs": [],
   "source": [
    "censored_inputs = make_inputs(foo, 0, cols)\n",
    "\n",
    "noncensored_inputs = make_inputs(foo, 1, cols)"
   ]
  },
  {
   "cell_type": "code",
   "execution_count": 6,
   "metadata": {},
   "outputs": [
    {
     "data": {
      "text/plain": [
       "498"
      ]
     },
     "execution_count": 6,
     "metadata": {},
     "output_type": "execute_result"
    }
   ],
   "source": [
    "len(censored_inputs)"
   ]
  },
  {
   "cell_type": "code",
   "execution_count": 12,
   "metadata": {},
   "outputs": [
    {
     "name": "stderr",
     "output_type": "stream",
     "text": [
      "C:\\Users\\macguyver011\\Anaconda3\\lib\\site-packages\\autograd\\tracer.py:48: RuntimeWarning: divide by zero encountered in log\n",
      "  return f_raw(*args, **kwargs)\n",
      "C:\\Users\\macguyver011\\Anaconda3\\lib\\site-packages\\numpy\\core\\fromnumeric.py:90: RuntimeWarning: invalid value encountered in reduce\n",
      "  return ufunc.reduce(obj, axis, dtype, out, **passkwargs)\n"
     ]
    }
   ],
   "source": [
    "fit = HEM_fit(censored_inputs, noncensored_inputs, 0.5, 1000)"
   ]
  },
  {
   "cell_type": "code",
   "execution_count": 13,
   "metadata": {},
   "outputs": [],
   "source": [
    "weights = fit['model_weights']"
   ]
  },
  {
   "cell_type": "code",
   "execution_count": 14,
   "metadata": {},
   "outputs": [
    {
     "data": {
      "text/plain": [
       "-0.921612239924978"
      ]
     },
     "execution_count": 14,
     "metadata": {},
     "output_type": "execute_result"
    }
   ],
   "source": [
    "weights[0]"
   ]
  },
  {
   "cell_type": "code",
   "execution_count": 15,
   "metadata": {},
   "outputs": [],
   "source": [
    "pred = HEM_predictions(weights, foo, covariates)"
   ]
  },
  {
   "cell_type": "code",
   "execution_count": 16,
   "metadata": {},
   "outputs": [
    {
     "data": {
      "text/plain": [
       "1000.0"
      ]
     },
     "execution_count": 16,
     "metadata": {},
     "output_type": "execute_result"
    }
   ],
   "source": [
    "pred.sum()"
   ]
  },
  {
   "cell_type": "code",
   "execution_count": 17,
   "metadata": {},
   "outputs": [
    {
     "data": {
      "text/plain": [
       "0.53"
      ]
     },
     "execution_count": 17,
     "metadata": {},
     "output_type": "execute_result"
    }
   ],
   "source": [
    "from sklearn.metrics import accuracy_score\n",
    "y_pred = pred\n",
    "y_true = foo['cure_label']\n",
    "accuracy_score(y_true, y_pred)\n",
    "\n",
    "accuracy_score(y_true, y_pred)"
   ]
  },
  {
   "cell_type": "code",
   "execution_count": 18,
   "metadata": {},
   "outputs": [
    {
     "data": {
      "text/plain": [
       "0.5"
      ]
     },
     "execution_count": 18,
     "metadata": {},
     "output_type": "execute_result"
    }
   ],
   "source": [
    "from sklearn.metrics import roc_auc_score\n",
    "y_scores = pred\n",
    "roc_auc_score(y_true, y_scores)\n"
   ]
  },
  {
   "cell_type": "code",
   "execution_count": 8,
   "metadata": {},
   "outputs": [
    {
     "data": {
      "text/plain": [
       "array([[ 1.        ,  3.65912911,  5.18370681,  4.706901  , 10.55680328,\n",
       "         8.78296472,  5.70457791,  3.76771783,  9.57288305,  2.10865563,\n",
       "         7.50789214]])"
      ]
     },
     "execution_count": 8,
     "metadata": {},
     "output_type": "execute_result"
    }
   ],
   "source": [
    "from sklearn.cluster import KMeans\n",
    "import numpy as np\n",
    "X = noncensored_inputs\n",
    "kmeans_ns = KMeans(n_clusters=1, random_state=0).fit(X)\n",
    "\n",
    "\n",
    "\n",
    "\n",
    "kmeans_ns.cluster_centers_\n",
    "\n"
   ]
  },
  {
   "cell_type": "code",
   "execution_count": 16,
   "metadata": {},
   "outputs": [],
   "source": [
    "noncensored_clust_cent = kmeans_ns.cluster_centers_[0]"
   ]
  },
  {
   "cell_type": "code",
   "execution_count": 9,
   "metadata": {},
   "outputs": [],
   "source": [
    "Y = censored_inputs\n",
    "kmeans_s = KMeans(n_clusters=2, random_state=0).fit(Y)\n"
   ]
  },
  {
   "cell_type": "code",
   "execution_count": 10,
   "metadata": {},
   "outputs": [
    {
     "data": {
      "text/plain": [
       "array([[ 1.        ,  3.67975745,  5.05046977,  4.75813208, 10.71826818,\n",
       "         5.53647405,  5.76429743,  3.78607078,  9.71659958,  2.13691059,\n",
       "         7.25929253],\n",
       "       [ 1.        ,  3.70337645,  5.01586727,  4.8033528 , 10.5005953 ,\n",
       "        11.77726356,  5.76848276,  3.73599705,  9.4601336 ,  2.02039817,\n",
       "         8.0329401 ]])"
      ]
     },
     "execution_count": 10,
     "metadata": {},
     "output_type": "execute_result"
    }
   ],
   "source": [
    "kmeans_s.cluster_centers_"
   ]
  },
  {
   "cell_type": "code",
   "execution_count": 18,
   "metadata": {},
   "outputs": [
    {
     "data": {
      "text/plain": [
       "498"
      ]
     },
     "execution_count": 18,
     "metadata": {},
     "output_type": "execute_result"
    }
   ],
   "source": [
    "len(kmeans_s.labels_)"
   ]
  },
  {
   "cell_type": "code",
   "execution_count": 12,
   "metadata": {},
   "outputs": [],
   "source": [
    "a = np.array([1,1])\n",
    "\n",
    "b = np.repeat(0,2)"
   ]
  },
  {
   "cell_type": "code",
   "execution_count": 13,
   "metadata": {},
   "outputs": [
    {
     "data": {
      "text/plain": [
       "1.4142135623730951"
      ]
     },
     "execution_count": 13,
     "metadata": {},
     "output_type": "execute_result"
    }
   ],
   "source": [
    "np.sqrt(np.dot(a-b,a-b))"
   ]
  },
  {
   "cell_type": "code",
   "execution_count": null,
   "metadata": {},
   "outputs": [],
   "source": [
    "first_censored_clust_cent = kmeans_s.cluster_centers_[0]\n",
    "\n",
    "second_censored_clust_cent = kmeans_s.cluster_centers_[1]\n",
    "\n",
    "def dist(x,y):\n",
    "    \n",
    "    return np.sqrt(np.dot(x-y,x-y))\n",
    "\n",
    "def cure_labeler(cens_row):\n",
    "    \n",
    "    if dist(first_censored_clust_cent, noncensored_clust_cent)-dist(second_censored_clust_cent, noncensored_clust_cent)<0:\n",
    "        \n",
    "        \n",
    "        \n",
    "        \n",
    "        \n",
    "        \n",
    "    \n",
    "    "
   ]
  },
  {
   "cell_type": "code",
   "execution_count": null,
   "metadata": {},
   "outputs": [],
   "source": []
  },
  {
   "cell_type": "code",
   "execution_count": null,
   "metadata": {},
   "outputs": [],
   "source": []
  },
  {
   "cell_type": "code",
   "execution_count": null,
   "metadata": {},
   "outputs": [],
   "source": []
  },
  {
   "cell_type": "code",
   "execution_count": null,
   "metadata": {},
   "outputs": [],
   "source": []
  },
  {
   "cell_type": "code",
   "execution_count": null,
   "metadata": {},
   "outputs": [],
   "source": []
  }
 ],
 "metadata": {
  "kernelspec": {
   "display_name": "Python 3",
   "language": "python",
   "name": "python3"
  },
  "language_info": {
   "codemirror_mode": {
    "name": "ipython",
    "version": 3
   },
   "file_extension": ".py",
   "mimetype": "text/x-python",
   "name": "python",
   "nbconvert_exporter": "python",
   "pygments_lexer": "ipython3",
   "version": "3.7.1"
  }
 },
 "nbformat": 4,
 "nbformat_minor": 2
}
