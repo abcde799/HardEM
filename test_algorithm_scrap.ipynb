{
 "cells": [
  {
   "cell_type": "code",
   "execution_count": 7,
   "metadata": {},
   "outputs": [],
   "source": [
    "import pandas as pd\n",
    "import numpy as np\n",
    "from make_df import create_df, make_inputs\n",
    "from naive import naive_fit, get_true_labels\n",
    "from sklearn.metrics import accuracy_score\n",
    "from sklearn.metrics import roc_auc_score\n",
    "from sklearn.metrics import log_loss\n",
    "import matplotlib\n"
   ]
  },
  {
   "cell_type": "markdown",
   "metadata": {},
   "source": [
    "In this notebook we test our custom 'Hard EM' algorithm against the following simpler alternatives for populating the missing cure labels:\n",
    "\n",
    "\n",
    "\n",
    "(I) Creating one cluster from the noncensord individuals and two clusters from the cesnored individuals, then assigning cure\n",
    "labels to the censored individuals by comparing which of the two censored clusters is closer to the noncensored one, giving it the label '1' (not cured), and the furhter one the label '0'.\n",
    "\n",
    "(II) Guessing that a censored individual is cured with a probability of 50%.\n",
    "\n",
    "(III) Guessing that anyone who is censored is also cured.\n",
    "\n",
    "This is achieved by creating test data sets in which we know exactly who is cured and who is censored, then removing the cure labels for the censored individuals, and feeding the censored and noncensored inputs into our algorithm. The latter is achieved\n",
    "using the 'naive_fit' function with the 'use_HardEM' option."
   ]
  },
  {
   "cell_type": "code",
   "execution_count": 8,
   "metadata": {},
   "outputs": [],
   "source": [
    "#To avoid a dataset with only one label we append the following extra columns.\n",
    "\n",
    "extra0 = pd.DataFrame([[0.1,0.1,0.1,0,1,0]],columns = ['x1', 'x2', 'x3', 'cure_label', 'int', 'censoring_indicator'])\n",
    "\n",
    "extra1 = pd.DataFrame([[0.1,0.1,0.1,1,1,1]],columns = ['x1', 'x2', 'x3', 'cure_label', 'int', 'censoring_indicator'])"
   ]
  },
  {
   "cell_type": "code",
   "execution_count": 9,
   "metadata": {},
   "outputs": [
    {
     "data": {
      "text/html": [
       "<div>\n",
       "<style scoped>\n",
       "    .dataframe tbody tr th:only-of-type {\n",
       "        vertical-align: middle;\n",
       "    }\n",
       "\n",
       "    .dataframe tbody tr th {\n",
       "        vertical-align: top;\n",
       "    }\n",
       "\n",
       "    .dataframe thead th {\n",
       "        text-align: right;\n",
       "    }\n",
       "</style>\n",
       "<table border=\"1\" class=\"dataframe\">\n",
       "  <thead>\n",
       "    <tr style=\"text-align: right;\">\n",
       "      <th></th>\n",
       "      <th>x1</th>\n",
       "      <th>x2</th>\n",
       "      <th>x3</th>\n",
       "      <th>cure_label</th>\n",
       "      <th>int</th>\n",
       "      <th>censoring_indicator</th>\n",
       "    </tr>\n",
       "  </thead>\n",
       "  <tbody>\n",
       "    <tr>\n",
       "      <th>0</th>\n",
       "      <td>0.1</td>\n",
       "      <td>0.1</td>\n",
       "      <td>0.1</td>\n",
       "      <td>0</td>\n",
       "      <td>1</td>\n",
       "      <td>0</td>\n",
       "    </tr>\n",
       "  </tbody>\n",
       "</table>\n",
       "</div>"
      ],
      "text/plain": [
       "    x1   x2   x3  cure_label  int  censoring_indicator\n",
       "0  0.1  0.1  0.1           0    1                    0"
      ]
     },
     "execution_count": 9,
     "metadata": {},
     "output_type": "execute_result"
    }
   ],
   "source": [
    "extra0 "
   ]
  },
  {
   "cell_type": "code",
   "execution_count": 10,
   "metadata": {},
   "outputs": [
    {
     "data": {
      "text/html": [
       "<div>\n",
       "<style scoped>\n",
       "    .dataframe tbody tr th:only-of-type {\n",
       "        vertical-align: middle;\n",
       "    }\n",
       "\n",
       "    .dataframe tbody tr th {\n",
       "        vertical-align: top;\n",
       "    }\n",
       "\n",
       "    .dataframe thead th {\n",
       "        text-align: right;\n",
       "    }\n",
       "</style>\n",
       "<table border=\"1\" class=\"dataframe\">\n",
       "  <thead>\n",
       "    <tr style=\"text-align: right;\">\n",
       "      <th></th>\n",
       "      <th>x1</th>\n",
       "      <th>x2</th>\n",
       "      <th>x3</th>\n",
       "      <th>cure_label</th>\n",
       "      <th>int</th>\n",
       "      <th>censoring_indicator</th>\n",
       "    </tr>\n",
       "  </thead>\n",
       "  <tbody>\n",
       "    <tr>\n",
       "      <th>0</th>\n",
       "      <td>0.1</td>\n",
       "      <td>0.1</td>\n",
       "      <td>0.1</td>\n",
       "      <td>1</td>\n",
       "      <td>1</td>\n",
       "      <td>1</td>\n",
       "    </tr>\n",
       "  </tbody>\n",
       "</table>\n",
       "</div>"
      ],
      "text/plain": [
       "    x1   x2   x3  cure_label  int  censoring_indicator\n",
       "0  0.1  0.1  0.1           1    1                    1"
      ]
     },
     "execution_count": 10,
     "metadata": {},
     "output_type": "execute_result"
    }
   ],
   "source": [
    "extra1"
   ]
  },
  {
   "cell_type": "code",
   "execution_count": 11,
   "metadata": {},
   "outputs": [],
   "source": [
    "extra = pd.concat([extra0, extra1])"
   ]
  },
  {
   "cell_type": "code",
   "execution_count": 45,
   "metadata": {},
   "outputs": [],
   "source": [
    "#This is (I)\n",
    "r_weights = np.random.uniform(-0.9,0.9,(10,4)) \n",
    "#The above will be used for the model parameter weights which we use to compute\n",
    "#the cure lables for our test sets via sigmoid function.\n",
    "\n",
    "probs = np.random.uniform(0.1,0.9,10) #probability of being censored given one is not cured\n",
    "\n",
    "scores = []\n",
    "covariates = ['x1', 'x2', 'x3'] #We choose three covariates for illustration.\n",
    "dist = [[0, 1], [0, 1], [0, 1]] #Drawing covariates from a normal distribution with mean 0 and std 1.\n",
    "cols = ['censoring_indicator', 'cure_label']\n",
    "\n",
    "for test_model_weights in r_weights:\n",
    "    \n",
    "    for p in probs:\n",
    "    \n",
    "        foo = create_df(covariates, dist, 150, test_model_weights, 0.5) \n",
    "        #We have 150 rows in our table and p is the probability\n",
    "        #of being censored given one is not cured we use to \n",
    "        #assign who is censored and who isn't.\n",
    "    \n",
    "        foo = pd.concat([foo, extra])\n",
    "    \n",
    "        censored_inputs = make_inputs(foo, 0, cols)\n",
    "\n",
    "        noncensored_inputs = make_inputs(foo, 1, cols)\n",
    "    \n",
    "        fit = naive_fit(censored_inputs, noncensored_inputs, 'use_HardEM')    \n",
    "    \n",
    "        y_pred = fit['pred']\n",
    "    \n",
    "        y_true = get_true_labels(foo, ['censoring_indicator', 'cure_label'])\n",
    "    \n",
    "        y_scores = fit['prob']\n",
    "    \n",
    "        hard_acc = accuracy_score(y_true, y_pred) \n",
    "        #In above 'hard' is the score our algorithm produces. In this case, accuracy.\n",
    "    \n",
    "        hard_auc = roc_auc_score(y_true, y_scores)\n",
    "        \n",
    "        hard_logloss = log_loss(y_true, y_scores)\n",
    "    \n",
    "        fit_naive = naive_fit(censored_inputs, noncensored_inputs, 'use_clustering') \n",
    "        #See the opening description.\n",
    "    \n",
    "        y_pred_naive = fit_naive['pred']\n",
    "    \n",
    "    \n",
    "        y_scores_naive = fit_naive['prob']\n",
    "    \n",
    "        naive_acc = accuracy_score(y_true, y_pred_naive) \n",
    "        #Above is accuracy of the result produced by naive way of populating\n",
    "        #the missing lables.\n",
    "        naive_auc = roc_auc_score(y_true, y_scores_naive)\n",
    "        \n",
    "        naive_logloss = log_loss(y_true, y_scores_naive)\n",
    "        \n",
    "        scores.append([hard_auc, naive_auc, hard_acc, naive_acc, hard_logloss, naive_logloss])\n",
    "    \n",
    "    \n",
    "new_df = pd.DataFrame(columns=['Hard_auc', 'Naive_auc', 'Hard_acc', 'Naive_acc', 'Hard_ll', 'Naive_ll'], data=scores)"
   ]
  },
  {
   "cell_type": "code",
   "execution_count": 46,
   "metadata": {},
   "outputs": [
    {
     "data": {
      "text/plain": [
       "100"
      ]
     },
     "execution_count": 46,
     "metadata": {},
     "output_type": "execute_result"
    }
   ],
   "source": [
    "len(new_df)"
   ]
  },
  {
   "cell_type": "code",
   "execution_count": 47,
   "metadata": {},
   "outputs": [
    {
     "data": {
      "text/plain": [
       "78"
      ]
     },
     "execution_count": 47,
     "metadata": {},
     "output_type": "execute_result"
    }
   ],
   "source": [
    "len(new_df[new_df['Hard_ll']-new_df['Naive_ll']<0].index)\n",
    "#How many times our logloss score was lower (better)."
   ]
  },
  {
   "cell_type": "code",
   "execution_count": 48,
   "metadata": {},
   "outputs": [
    {
     "data": {
      "text/plain": [
       "86"
      ]
     },
     "execution_count": 48,
     "metadata": {},
     "output_type": "execute_result"
    }
   ],
   "source": [
    "len(new_df[new_df['Hard_auc']-new_df['Naive_auc']>0].index)\n",
    "#How many times our AUC score was higher."
   ]
  },
  {
   "cell_type": "code",
   "execution_count": 49,
   "metadata": {},
   "outputs": [
    {
     "data": {
      "text/plain": [
       "68"
      ]
     },
     "execution_count": 49,
     "metadata": {},
     "output_type": "execute_result"
    }
   ],
   "source": [
    "len(new_df[new_df['Hard_acc']-new_df['Naive_acc']>0].index) \n",
    "#How many times our accuracy was higher."
   ]
  },
  {
   "cell_type": "code",
   "execution_count": 12,
   "metadata": {},
   "outputs": [],
   "source": [
    "#This is (II)\n",
    "\n",
    "r_weights = np.random.uniform(-0.9,0.9,(24,4)) \n",
    "#The above will be used for the model parameter weights which we use to compute\n",
    "#the cure lables for our test sets via sigmoid function.\n",
    "\n",
    "probs = np.random.uniform(0.1,0.9,25) #probability of being censored given one is not cured\n",
    "\n",
    "scores = []\n",
    "covariates = ['x1', 'x2', 'x3'] #We choose three covariates for illustration.\n",
    "dist = [[0, 1], [0, 1], [0, 1]] #Drawing covariates from a normal distribution with mean 0 and std 1.\n",
    "cols = ['censoring_indicator', 'cure_label']\n",
    "\n",
    "for test_model_weights in r_weights:\n",
    "    \n",
    "    for p in probs:\n",
    "    \n",
    "        foo = create_df(covariates, dist, 150, test_model_weights, 0.5) \n",
    "        #We have 150 rows in our table and p is the probability\n",
    "        #of being censored given one is not cured we use to \n",
    "        #assign who is censored and who isn't.\n",
    "    \n",
    "        foo = pd.concat([foo, extra])\n",
    "    \n",
    "        censored_inputs = make_inputs(foo, 0, cols)\n",
    "\n",
    "        noncensored_inputs = make_inputs(foo, 1, cols)\n",
    "    \n",
    "        fit = naive_fit(censored_inputs, noncensored_inputs, 'use_HardEM')    \n",
    "    \n",
    "        y_pred = fit['pred']\n",
    "    \n",
    "        y_true = get_true_labels(foo, ['censoring_indicator', 'cure_label'])\n",
    "    \n",
    "        y_scores = fit['prob']\n",
    "    \n",
    "        hard_acc = accuracy_score(y_true, y_pred) \n",
    "        #In above 'hard' is the score our algorithm produces. In this case, accuracy.\n",
    "    \n",
    "        hard_auc = roc_auc_score(y_true, y_scores)\n",
    "        \n",
    "        hard_logloss = log_loss(y_true, y_scores)\n",
    "    \n",
    "        fit_naive = naive_fit(censored_inputs, noncensored_inputs, 'fifty_fifty') \n",
    "        #See the opening description.\n",
    "    \n",
    "        y_pred_naive = fit_naive['pred']\n",
    "    \n",
    "    \n",
    "        y_scores_naive = fit_naive['prob']\n",
    "    \n",
    "        naive_acc = accuracy_score(y_true, y_pred_naive) \n",
    "        #Above is accuracy of the result produced by naive way of populating\n",
    "        #the missing lables.\n",
    "        naive_auc = roc_auc_score(y_true, y_scores_naive)\n",
    "        \n",
    "        naive_logloss = log_loss(y_true, y_scores_naive)\n",
    "        \n",
    "        scores.append([hard_auc, naive_auc, hard_acc, naive_acc, hard_logloss, naive_logloss])\n",
    "    \n",
    "    \n",
    "new_df = pd.DataFrame(columns=['Hard_auc', 'Naive_auc', 'Hard_acc', 'Naive_acc', 'Hard_ll', 'Naive_ll'], data=scores)"
   ]
  },
  {
   "cell_type": "code",
   "execution_count": 13,
   "metadata": {},
   "outputs": [
    {
     "data": {
      "text/plain": [
       "600"
      ]
     },
     "execution_count": 13,
     "metadata": {},
     "output_type": "execute_result"
    }
   ],
   "source": [
    "len(new_df)"
   ]
  },
  {
   "cell_type": "code",
   "execution_count": 14,
   "metadata": {},
   "outputs": [
    {
     "data": {
      "text/plain": [
       "432"
      ]
     },
     "execution_count": 14,
     "metadata": {},
     "output_type": "execute_result"
    }
   ],
   "source": [
    "len(new_df[new_df['Hard_ll']-new_df['Naive_ll']<0].index)\n",
    "#How many times our logloss score was lower (better)."
   ]
  },
  {
   "cell_type": "code",
   "execution_count": 15,
   "metadata": {},
   "outputs": [
    {
     "data": {
      "text/plain": [
       "372"
      ]
     },
     "execution_count": 15,
     "metadata": {},
     "output_type": "execute_result"
    }
   ],
   "source": [
    "len(new_df[new_df['Hard_auc']-new_df['Naive_auc']>0].index)\n",
    "#How many times our AUC score was higher."
   ]
  },
  {
   "cell_type": "code",
   "execution_count": 16,
   "metadata": {},
   "outputs": [
    {
     "data": {
      "text/plain": [
       "440"
      ]
     },
     "execution_count": 16,
     "metadata": {},
     "output_type": "execute_result"
    }
   ],
   "source": [
    "len(new_df[new_df['Hard_acc']-new_df['Naive_acc']>0].index) \n",
    "#How many times our accuracy was higher.\n",
    "\n"
   ]
  },
  {
   "cell_type": "code",
   "execution_count": 55,
   "metadata": {},
   "outputs": [],
   "source": [
    "#This is (III)\n",
    "\n",
    "\n",
    "r_weights = np.random.uniform(-0.9,0.9,(10,4)) \n",
    "#The above will be used for the model parameter weights which we use to compute\n",
    "#the cure lables for our test sets via sigmoid function.\n",
    "\n",
    "probs = np.random.uniform(0.1,0.9,10) #probability of being censored given one is not cured\n",
    "\n",
    "scores = []\n",
    "covariates = ['x1', 'x2', 'x3'] #We choose three covariates for illustration.\n",
    "dist = [[0, 1], [0, 1], [0, 1]] #Drawing covariates from a normal distribution with mean 0 and std 1.\n",
    "cols = ['censoring_indicator', 'cure_label']\n",
    "\n",
    "for test_model_weights in r_weights:\n",
    "    \n",
    "    for p in probs:\n",
    "    \n",
    "        foo = create_df(covariates, dist, 150, test_model_weights, 0.5) \n",
    "        #We have 150 rows in our table and p is the probability\n",
    "        #of being censored given one is not cured we use to \n",
    "        #assign who is censored and who isn't.\n",
    "    \n",
    "        foo = pd.concat([foo, extra])\n",
    "    \n",
    "        censored_inputs = make_inputs(foo, 0, cols)\n",
    "\n",
    "        noncensored_inputs = make_inputs(foo, 1, cols)\n",
    "    \n",
    "        fit = naive_fit(censored_inputs, noncensored_inputs, 'use_HardEM')    \n",
    "    \n",
    "        y_pred = fit['pred']\n",
    "    \n",
    "        y_true = get_true_labels(foo, ['censoring_indicator', 'cure_label'])\n",
    "    \n",
    "        y_scores = fit['prob']\n",
    "    \n",
    "        hard_acc = accuracy_score(y_true, y_pred) \n",
    "        #In above 'hard' is the score our algorithm produces. In this case, accuracy.\n",
    "    \n",
    "        hard_auc = roc_auc_score(y_true, y_scores)\n",
    "        \n",
    "        hard_logloss = log_loss(y_true, y_scores)\n",
    "    \n",
    "        fit_naive = naive_fit(censored_inputs, noncensored_inputs, 'all_cens_cured') \n",
    "        #See the opening description.\n",
    "    \n",
    "        y_pred_naive = fit_naive['pred']\n",
    "    \n",
    "    \n",
    "        y_scores_naive = fit_naive['prob']\n",
    "    \n",
    "        naive_acc = accuracy_score(y_true, y_pred_naive) \n",
    "        #Above is accuracy of the result produced by naive way of populating\n",
    "        #the missing lables.\n",
    "        naive_auc = roc_auc_score(y_true, y_scores_naive)\n",
    "        \n",
    "        naive_logloss = log_loss(y_true, y_scores_naive)\n",
    "        \n",
    "        scores.append([hard_auc, naive_auc, hard_acc, naive_acc, hard_logloss, naive_logloss])\n",
    "    \n",
    "    \n",
    "new_df = pd.DataFrame(columns=['Hard_auc', 'Naive_auc', 'Hard_acc', 'Naive_acc', 'Hard_ll', 'Naive_ll'], data=scores)"
   ]
  },
  {
   "cell_type": "code",
   "execution_count": 56,
   "metadata": {},
   "outputs": [
    {
     "data": {
      "text/plain": [
       "100"
      ]
     },
     "execution_count": 56,
     "metadata": {},
     "output_type": "execute_result"
    }
   ],
   "source": [
    "len(new_df)"
   ]
  },
  {
   "cell_type": "code",
   "execution_count": 57,
   "metadata": {},
   "outputs": [
    {
     "data": {
      "text/plain": [
       "78"
      ]
     },
     "execution_count": 57,
     "metadata": {},
     "output_type": "execute_result"
    }
   ],
   "source": [
    "len(new_df[new_df['Hard_ll']-new_df['Naive_ll']<0].index)\n",
    "#How many times our logloss score was lower (better)."
   ]
  },
  {
   "cell_type": "code",
   "execution_count": 58,
   "metadata": {},
   "outputs": [
    {
     "data": {
      "text/plain": [
       "23"
      ]
     },
     "execution_count": 58,
     "metadata": {},
     "output_type": "execute_result"
    }
   ],
   "source": [
    "len(new_df[new_df['Hard_auc']-new_df['Naive_auc']>0].index)\n",
    "#How many times our AUC score was higher."
   ]
  },
  {
   "cell_type": "code",
   "execution_count": 59,
   "metadata": {},
   "outputs": [
    {
     "data": {
      "text/plain": [
       "84"
      ]
     },
     "execution_count": 59,
     "metadata": {},
     "output_type": "execute_result"
    }
   ],
   "source": [
    "len(new_df[new_df['Hard_acc']-new_df['Naive_acc']>0].index) \n",
    "#How many times our accuracy was higher.\n"
   ]
  },
  {
   "cell_type": "markdown",
   "metadata": {},
   "source": [
    "Below is some exploratory analysis which shows that that the naive model separates the data better, despite\n",
    "having a poorer logloss."
   ]
  },
  {
   "cell_type": "code",
   "execution_count": 51,
   "metadata": {},
   "outputs": [],
   "source": [
    "test_model_weights = np.random.uniform(-0.5,0.5,4)\n",
    "scores = []\n",
    "covariates = ['x1', 'x2', 'x3']\n",
    "dist = [[0, 1], [0, 1], [0, 1]]\n",
    "cols = ['censoring_indicator', 'cure_label']\n",
    "\n",
    "scores=[]\n",
    "foo = create_df(covariates, dist, 150, test_model_weights, 0.01)\n",
    "    \n",
    "foo = pd.concat([foo, extra])\n",
    "    \n",
    "censored_inputs = make_inputs(foo, 0, cols)\n",
    "\n",
    "noncensored_inputs = make_inputs(foo, 1, cols)\n",
    "    \n",
    "fit = naive_fit(censored_inputs, noncensored_inputs, 'use_HardEM')    \n",
    "    \n",
    "y_pred = fit['pred']\n",
    "    \n",
    "y_true = get_true_labels(foo, ['censoring_indicator', 'cure_label'])\n",
    "    \n",
    "y_scores = fit['prob']\n",
    "    \n",
    "hard_acc = accuracy_score(y_true, y_pred)\n",
    "    \n",
    "hard_auc = roc_auc_score(y_true, y_scores)\n",
    "    \n",
    "fit_naive = naive_fit(censored_inputs, noncensored_inputs, 'all_cens_cured')\n",
    "    \n",
    "y_pred_naive = fit_naive['pred']\n",
    "    \n",
    "y_true_naive = get_true_labels(foo, ['censoring_indicator', 'cure_label'])\n",
    "    \n",
    "y_scores_naive = fit_naive['prob']\n",
    "    \n",
    "naive_acc = accuracy_score(y_true_naive, y_pred_naive)\n",
    "    \n",
    "naive_auc = roc_auc_score(y_true_naive, y_scores_naive)\n",
    "    \n",
    "\n",
    "scores.append([hard_auc, naive_auc, hard_acc, naive_acc ])\n",
    "    \n",
    "new_df = pd.DataFrame(columns=['HardEM_auc', 'NaiveEM_auc', 'HardEM_acc', 'NaiveEM_acc'], data=scores)"
   ]
  },
  {
   "cell_type": "code",
   "execution_count": 52,
   "metadata": {},
   "outputs": [
    {
     "data": {
      "text/html": [
       "<div>\n",
       "<style scoped>\n",
       "    .dataframe tbody tr th:only-of-type {\n",
       "        vertical-align: middle;\n",
       "    }\n",
       "\n",
       "    .dataframe tbody tr th {\n",
       "        vertical-align: top;\n",
       "    }\n",
       "\n",
       "    .dataframe thead th {\n",
       "        text-align: right;\n",
       "    }\n",
       "</style>\n",
       "<table border=\"1\" class=\"dataframe\">\n",
       "  <thead>\n",
       "    <tr style=\"text-align: right;\">\n",
       "      <th></th>\n",
       "      <th>HardEM_auc</th>\n",
       "      <th>NaiveEM_auc</th>\n",
       "      <th>HardEM_acc</th>\n",
       "      <th>NaiveEM_acc</th>\n",
       "    </tr>\n",
       "  </thead>\n",
       "  <tbody>\n",
       "    <tr>\n",
       "      <th>0</th>\n",
       "      <td>0.995521</td>\n",
       "      <td>0.995712</td>\n",
       "      <td>0.973684</td>\n",
       "      <td>0.986842</td>\n",
       "    </tr>\n",
       "  </tbody>\n",
       "</table>\n",
       "</div>"
      ],
      "text/plain": [
       "   HardEM_auc  NaiveEM_auc  HardEM_acc  NaiveEM_acc\n",
       "0    0.995521     0.995712    0.973684     0.986842"
      ]
     },
     "execution_count": 52,
     "metadata": {},
     "output_type": "execute_result"
    }
   ],
   "source": [
    "new_df.head()"
   ]
  },
  {
   "cell_type": "code",
   "execution_count": 53,
   "metadata": {},
   "outputs": [],
   "source": [
    "separated_df_hard = pd.DataFrame({'pred_prob':y_scores, 'pred_cure_label':y_pred, 'true_cure_label':y_true})"
   ]
  },
  {
   "cell_type": "code",
   "execution_count": 54,
   "metadata": {},
   "outputs": [
    {
     "data": {
      "text/html": [
       "<div>\n",
       "<style scoped>\n",
       "    .dataframe tbody tr th:only-of-type {\n",
       "        vertical-align: middle;\n",
       "    }\n",
       "\n",
       "    .dataframe tbody tr th {\n",
       "        vertical-align: top;\n",
       "    }\n",
       "\n",
       "    .dataframe thead th {\n",
       "        text-align: right;\n",
       "    }\n",
       "</style>\n",
       "<table border=\"1\" class=\"dataframe\">\n",
       "  <thead>\n",
       "    <tr style=\"text-align: right;\">\n",
       "      <th></th>\n",
       "      <th>pred_prob</th>\n",
       "      <th>pred_cure_label</th>\n",
       "      <th>true_cure_label</th>\n",
       "    </tr>\n",
       "  </thead>\n",
       "  <tbody>\n",
       "    <tr>\n",
       "      <th>0</th>\n",
       "      <td>0.462964</td>\n",
       "      <td>-0.0</td>\n",
       "      <td>0.0</td>\n",
       "    </tr>\n",
       "    <tr>\n",
       "      <th>1</th>\n",
       "      <td>0.501953</td>\n",
       "      <td>1.0</td>\n",
       "      <td>0.0</td>\n",
       "    </tr>\n",
       "    <tr>\n",
       "      <th>2</th>\n",
       "      <td>0.044128</td>\n",
       "      <td>-0.0</td>\n",
       "      <td>0.0</td>\n",
       "    </tr>\n",
       "    <tr>\n",
       "      <th>3</th>\n",
       "      <td>0.462407</td>\n",
       "      <td>-0.0</td>\n",
       "      <td>0.0</td>\n",
       "    </tr>\n",
       "    <tr>\n",
       "      <th>4</th>\n",
       "      <td>0.128298</td>\n",
       "      <td>-0.0</td>\n",
       "      <td>0.0</td>\n",
       "    </tr>\n",
       "  </tbody>\n",
       "</table>\n",
       "</div>"
      ],
      "text/plain": [
       "   pred_prob  pred_cure_label  true_cure_label\n",
       "0   0.462964             -0.0              0.0\n",
       "1   0.501953              1.0              0.0\n",
       "2   0.044128             -0.0              0.0\n",
       "3   0.462407             -0.0              0.0\n",
       "4   0.128298             -0.0              0.0"
      ]
     },
     "execution_count": 54,
     "metadata": {},
     "output_type": "execute_result"
    }
   ],
   "source": [
    "separated_df_hard.head()"
   ]
  },
  {
   "cell_type": "code",
   "execution_count": 55,
   "metadata": {},
   "outputs": [],
   "source": [
    "separated_df_naive = pd.DataFrame({'pred_prob':y_scores_naive, 'pred_cure_label':y_pred_naive, 'true_cure_label':y_true_naive})"
   ]
  },
  {
   "cell_type": "code",
   "execution_count": 56,
   "metadata": {},
   "outputs": [],
   "source": [
    "cured_hard = separated_df_hard[separated_df_hard.true_cure_label==0]\n",
    "\n",
    "not_cured_hard = separated_df_hard[separated_df_hard.true_cure_label==1]"
   ]
  },
  {
   "cell_type": "code",
   "execution_count": 57,
   "metadata": {},
   "outputs": [],
   "source": [
    "cured_naive = separated_df_naive[separated_df_naive.true_cure_label==0]\n",
    "\n",
    "not_cured_naive = separated_df_naive[separated_df_naive.true_cure_label==1]"
   ]
  },
  {
   "cell_type": "code",
   "execution_count": 58,
   "metadata": {},
   "outputs": [
    {
     "data": {
      "image/png": "[encoded data removed]",
      "text/plain": [
       "<Figure size 432x288 with 1 Axes>"
      ]
     },
     "metadata": {
      "needs_background": "light"
     },
     "output_type": "display_data"
    }
   ],
   "source": [
    "#We plot the predicted cured (not cured) labels on y-axis and the probability of not being cured on the x-axis.\n",
    "#No surprise here\n",
    "\n",
    "#Note that we expect a lot of variance with this model even when run multiple times on the same training data, which can \n",
    "#seen by how the distribution below changes with different runs.\n",
    "\n",
    "#The figures indicate the naive model separates the data better. \n",
    "\n",
    "import matplotlib.pyplot as plt\n",
    "plt.xlabel('probability of not cured')\n",
    "plt.ylabel('predicted outcomes')\n",
    "\n",
    "plt.hist(not_cured_hard['pred_prob'], bins=12, label='not cured', color='blue', alpha=0.25)\n",
    "plt.hist(cured_hard['pred_prob'], bins=12, label='cured', alpha=0.25)\n",
    "plt.legend(fontsize=15)\n",
    "\n",
    "plt.show()"
   ]
  },
  {
   "cell_type": "code",
   "execution_count": 50,
   "metadata": {},
   "outputs": [
    {
     "data": {
      "image/png": "[encoded data removed]",
      "text/plain": [
       "<Figure size 432x288 with 1 Axes>"
      ]
     },
     "metadata": {
      "needs_background": "light"
     },
     "output_type": "display_data"
    }
   ],
   "source": [
    "plt.xlabel('probability of not cured')\n",
    "plt.ylabel('predicted outcomes')\n",
    "\n",
    "plt.hist(not_cured_naive['pred_prob'], bins=12, label='not cured', color='blue', alpha=0.25)\n",
    "plt.hist(cured_naive['pred_prob'], bins=12, label='cured', alpha=0.25)\n",
    "plt.legend(fontsize=15)\n",
    "\n",
    "plt.show()"
   ]
  },
  {
   "cell_type": "code",
   "execution_count": null,
   "metadata": {},
   "outputs": [],
   "source": []
  },
  {
   "cell_type": "code",
   "execution_count": null,
   "metadata": {},
   "outputs": [],
   "source": []
  },
  {
   "cell_type": "code",
   "execution_count": null,
   "metadata": {},
   "outputs": [],
   "source": []
  },
  {
   "cell_type": "code",
   "execution_count": null,
   "metadata": {},
   "outputs": [],
   "source": []
  },
  {
   "cell_type": "code",
   "execution_count": null,
   "metadata": {},
   "outputs": [],
   "source": []
  },
  {
   "cell_type": "code",
   "execution_count": null,
   "metadata": {},
   "outputs": [],
   "source": []
  }
 ],
 "metadata": {
  "kernelspec": {
   "display_name": "Python 3",
   "language": "python",
   "name": "python3"
  },
  "language_info": {
   "codemirror_mode": {
    "name": "ipython",
    "version": 3
   },
   "file_extension": ".py",
   "mimetype": "text/x-python",
   "name": "python",
   "nbconvert_exporter": "python",
   "pygments_lexer": "ipython3",
   "version": "3.7.1"
  }
 },
 "nbformat": 4,
 "nbformat_minor": 2
}
