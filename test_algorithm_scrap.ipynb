{
 "cells": [
  {
   "cell_type": "code",
   "execution_count": 1,
   "metadata": {},
   "outputs": [],
   "source": [
    "import pandas as pd\n",
    "import numpy as np\n",
    "from make_df import create_df, add_intercept, make_inputs\n",
    "from hardEM_0 import HEM_fit, HEM_predictions \n"
   ]
  },
  {
   "cell_type": "code",
   "execution_count": 2,
   "metadata": {},
   "outputs": [],
   "source": [
    "covariates = ['x1', 'x2', 'x3', 'x4', 'x5', 'x6', 'x7', 'x8', 'x9', 'x10']\n",
    "\n",
    "dist = [[3.7, 0.7], [5.1, 2.1], [4.75, 0.9], [10.5, 2.1], [8.75, 3.9], [5.7, 0.9], [3.75, 0.5], [9.75, 3.11], [2.11, 0.9], [7.7, 2.9]]\n",
    "\n",
    "cols = ['censoring_indicator', 'cure_label']"
   ]
  },
  {
   "cell_type": "code",
   "execution_count": 4,
   "metadata": {},
   "outputs": [],
   "source": [
    "foo = create_df(covariates, dist, 0.5, 0.45, 1000)"
   ]
  },
  {
   "cell_type": "code",
   "execution_count": 5,
   "metadata": {},
   "outputs": [
    {
     "data": {
      "text/html": [
       "<div>\n",
       "<style scoped>\n",
       "    .dataframe tbody tr th:only-of-type {\n",
       "        vertical-align: middle;\n",
       "    }\n",
       "\n",
       "    .dataframe tbody tr th {\n",
       "        vertical-align: top;\n",
       "    }\n",
       "\n",
       "    .dataframe thead th {\n",
       "        text-align: right;\n",
       "    }\n",
       "</style>\n",
       "<table border=\"1\" class=\"dataframe\">\n",
       "  <thead>\n",
       "    <tr style=\"text-align: right;\">\n",
       "      <th></th>\n",
       "      <th>x1</th>\n",
       "      <th>x2</th>\n",
       "      <th>x3</th>\n",
       "      <th>x4</th>\n",
       "      <th>x5</th>\n",
       "      <th>x6</th>\n",
       "      <th>x7</th>\n",
       "      <th>x8</th>\n",
       "      <th>x9</th>\n",
       "      <th>x10</th>\n",
       "      <th>censoring_indicator</th>\n",
       "      <th>cure_label</th>\n",
       "    </tr>\n",
       "  </thead>\n",
       "  <tbody>\n",
       "    <tr>\n",
       "      <th>0</th>\n",
       "      <td>3.524439</td>\n",
       "      <td>3.986125</td>\n",
       "      <td>4.877873</td>\n",
       "      <td>11.320935</td>\n",
       "      <td>5.325713</td>\n",
       "      <td>5.149138</td>\n",
       "      <td>3.164284</td>\n",
       "      <td>5.321599</td>\n",
       "      <td>3.057533</td>\n",
       "      <td>11.482625</td>\n",
       "      <td>0</td>\n",
       "      <td>0</td>\n",
       "    </tr>\n",
       "    <tr>\n",
       "      <th>1</th>\n",
       "      <td>3.209260</td>\n",
       "      <td>6.363521</td>\n",
       "      <td>3.960305</td>\n",
       "      <td>14.332361</td>\n",
       "      <td>8.914196</td>\n",
       "      <td>5.457657</td>\n",
       "      <td>4.055759</td>\n",
       "      <td>4.983836</td>\n",
       "      <td>1.959727</td>\n",
       "      <td>6.764888</td>\n",
       "      <td>0</td>\n",
       "      <td>0</td>\n",
       "    </tr>\n",
       "    <tr>\n",
       "      <th>2</th>\n",
       "      <td>4.071496</td>\n",
       "      <td>6.605702</td>\n",
       "      <td>5.338992</td>\n",
       "      <td>5.933862</td>\n",
       "      <td>3.256941</td>\n",
       "      <td>5.671487</td>\n",
       "      <td>3.933097</td>\n",
       "      <td>11.908796</td>\n",
       "      <td>2.109579</td>\n",
       "      <td>9.484209</td>\n",
       "      <td>0</td>\n",
       "      <td>0</td>\n",
       "    </tr>\n",
       "    <tr>\n",
       "      <th>3</th>\n",
       "      <td>3.204516</td>\n",
       "      <td>3.461469</td>\n",
       "      <td>2.259339</td>\n",
       "      <td>6.569943</td>\n",
       "      <td>4.512841</td>\n",
       "      <td>5.990677</td>\n",
       "      <td>4.585010</td>\n",
       "      <td>12.659224</td>\n",
       "      <td>2.970174</td>\n",
       "      <td>5.660107</td>\n",
       "      <td>1</td>\n",
       "      <td>1</td>\n",
       "    </tr>\n",
       "    <tr>\n",
       "      <th>4</th>\n",
       "      <td>3.392651</td>\n",
       "      <td>2.156848</td>\n",
       "      <td>6.422894</td>\n",
       "      <td>9.545595</td>\n",
       "      <td>5.352027</td>\n",
       "      <td>8.417267</td>\n",
       "      <td>4.217121</td>\n",
       "      <td>11.450311</td>\n",
       "      <td>2.989823</td>\n",
       "      <td>6.151383</td>\n",
       "      <td>1</td>\n",
       "      <td>1</td>\n",
       "    </tr>\n",
       "  </tbody>\n",
       "</table>\n",
       "</div>"
      ],
      "text/plain": [
       "         x1        x2        x3         x4        x5        x6        x7  \\\n",
       "0  3.524439  3.986125  4.877873  11.320935  5.325713  5.149138  3.164284   \n",
       "1  3.209260  6.363521  3.960305  14.332361  8.914196  5.457657  4.055759   \n",
       "2  4.071496  6.605702  5.338992   5.933862  3.256941  5.671487  3.933097   \n",
       "3  3.204516  3.461469  2.259339   6.569943  4.512841  5.990677  4.585010   \n",
       "4  3.392651  2.156848  6.422894   9.545595  5.352027  8.417267  4.217121   \n",
       "\n",
       "          x8        x9        x10  censoring_indicator  cure_label  \n",
       "0   5.321599  3.057533  11.482625                    0           0  \n",
       "1   4.983836  1.959727   6.764888                    0           0  \n",
       "2  11.908796  2.109579   9.484209                    0           0  \n",
       "3  12.659224  2.970174   5.660107                    1           1  \n",
       "4  11.450311  2.989823   6.151383                    1           1  "
      ]
     },
     "execution_count": 5,
     "metadata": {},
     "output_type": "execute_result"
    }
   ],
   "source": [
    "foo.head()"
   ]
  },
  {
   "cell_type": "code",
   "execution_count": 6,
   "metadata": {},
   "outputs": [],
   "source": [
    "censored_inputs = make_inputs(foo, 0, cols)\n",
    "\n",
    "noncensored_inputs = make_inputs(foo, 1, cols)"
   ]
  },
  {
   "cell_type": "code",
   "execution_count": 7,
   "metadata": {},
   "outputs": [
    {
     "data": {
      "text/plain": [
       "540"
      ]
     },
     "execution_count": 7,
     "metadata": {},
     "output_type": "execute_result"
    }
   ],
   "source": [
    "len(censored_inputs)"
   ]
  },
  {
   "cell_type": "code",
   "execution_count": 8,
   "metadata": {},
   "outputs": [
    {
     "name": "stderr",
     "output_type": "stream",
     "text": [
      "C:\\Users\\macguyver011\\Anaconda3\\lib\\site-packages\\autograd\\tracer.py:48: RuntimeWarning: divide by zero encountered in log\n",
      "  return f_raw(*args, **kwargs)\n"
     ]
    }
   ],
   "source": [
    "fit = HEM_fit(censored_inputs, noncensored_inputs, 0.5, 1000)"
   ]
  },
  {
   "cell_type": "code",
   "execution_count": 9,
   "metadata": {},
   "outputs": [],
   "source": [
    "weights = fit['model_weights']"
   ]
  },
  {
   "cell_type": "code",
   "execution_count": 14,
   "metadata": {},
   "outputs": [
    {
     "data": {
      "text/plain": [
       "-0.5732845670460751"
      ]
     },
     "execution_count": 14,
     "metadata": {},
     "output_type": "execute_result"
    }
   ],
   "source": [
    "weights[0]"
   ]
  },
  {
   "cell_type": "code",
   "execution_count": 11,
   "metadata": {},
   "outputs": [],
   "source": [
    "pred = HEM_predictions(weights, foo, covariates)"
   ]
  },
  {
   "cell_type": "code",
   "execution_count": 13,
   "metadata": {},
   "outputs": [
    {
     "data": {
      "text/plain": [
       "1000.0"
      ]
     },
     "execution_count": 13,
     "metadata": {},
     "output_type": "execute_result"
    }
   ],
   "source": [
    "pred.sum()"
   ]
  },
  {
   "cell_type": "code",
   "execution_count": 20,
   "metadata": {},
   "outputs": [
    {
     "data": {
      "text/plain": [
       "0.519"
      ]
     },
     "execution_count": 20,
     "metadata": {},
     "output_type": "execute_result"
    }
   ],
   "source": [
    "from sklearn.metrics import accuracy_score\n",
    "y_pred = pred\n",
    "y_true = foo['cure_label']\n",
    "accuracy_score(y_true, y_pred)\n",
    "\n",
    "accuracy_score(y_true, y_pred)"
   ]
  },
  {
   "cell_type": "code",
   "execution_count": 21,
   "metadata": {},
   "outputs": [
    {
     "data": {
      "text/plain": [
       "0.5"
      ]
     },
     "execution_count": 21,
     "metadata": {},
     "output_type": "execute_result"
    }
   ],
   "source": [
    "from sklearn.metrics import roc_auc_score\n",
    "y_scores = pred\n",
    "roc_auc_score(y_true, y_scores)\n"
   ]
  },
  {
   "cell_type": "code",
   "execution_count": null,
   "metadata": {},
   "outputs": [],
   "source": []
  },
  {
   "cell_type": "code",
   "execution_count": null,
   "metadata": {},
   "outputs": [],
   "source": []
  },
  {
   "cell_type": "code",
   "execution_count": null,
   "metadata": {},
   "outputs": [],
   "source": []
  },
  {
   "cell_type": "code",
   "execution_count": null,
   "metadata": {},
   "outputs": [],
   "source": []
  },
  {
   "cell_type": "code",
   "execution_count": null,
   "metadata": {},
   "outputs": [],
   "source": []
  },
  {
   "cell_type": "code",
   "execution_count": null,
   "metadata": {},
   "outputs": [],
   "source": []
  },
  {
   "cell_type": "code",
   "execution_count": null,
   "metadata": {},
   "outputs": [],
   "source": []
  },
  {
   "cell_type": "code",
   "execution_count": null,
   "metadata": {},
   "outputs": [],
   "source": []
  },
  {
   "cell_type": "code",
   "execution_count": null,
   "metadata": {},
   "outputs": [],
   "source": []
  },
  {
   "cell_type": "code",
   "execution_count": null,
   "metadata": {},
   "outputs": [],
   "source": []
  },
  {
   "cell_type": "code",
   "execution_count": null,
   "metadata": {},
   "outputs": [],
   "source": []
  },
  {
   "cell_type": "code",
   "execution_count": null,
   "metadata": {},
   "outputs": [],
   "source": []
  }
 ],
 "metadata": {
  "kernelspec": {
   "display_name": "Python 3",
   "language": "python",
   "name": "python3"
  },
  "language_info": {
   "codemirror_mode": {
    "name": "ipython",
    "version": 3
   },
   "file_extension": ".py",
   "mimetype": "text/x-python",
   "name": "python",
   "nbconvert_exporter": "python",
   "pygments_lexer": "ipython3",
   "version": "3.7.1"
  }
 },
 "nbformat": 4,
 "nbformat_minor": 2
}
